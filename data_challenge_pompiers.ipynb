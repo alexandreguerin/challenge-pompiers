{
 "cells": [
  {
   "cell_type": "code",
   "execution_count": 1,
   "metadata": {},
   "outputs": [
    {
     "name": "stderr",
     "output_type": "stream",
     "text": [
      "/home/aguerin/.local/lib/python3.6/site-packages/psycopg2/__init__.py:144: UserWarning: The psycopg2 wheel package will be renamed from release 2.8; in order to keep installing from binary please use \"pip install psycopg2-binary\" instead. For details see: <http://initd.org/psycopg/docs/install.html#binary-install-from-pypi>.\n",
      "  \"\"\")\n"
     ]
    }
   ],
   "source": [
    "%matplotlib inline\n",
    "import pandas as pd\n",
    "import numpy as np\n",
    "from sklearn.preprocessing import PolynomialFeatures\n",
    "from sklearn.linear_model import LinearRegression\n",
    "from sklearn.linear_model import Lasso\n",
    "from sklearn.metrics import r2_score\n",
    "import matplotlib.pyplot as plt\n",
    "from sklearn.model_selection import train_test_split\n",
    "import psycopg2\n",
    "from sqlalchemy import create_engine\n",
    "import os"
   ]
  },
  {
   "cell_type": "markdown",
   "metadata": {},
   "source": [
    "The numeration of the sections below is made to match the report's sections"
   ]
  },
  {
   "cell_type": "markdown",
   "metadata": {},
   "source": [
    "# 2. Feature engineering "
   ]
  },
  {
   "cell_type": "markdown",
   "metadata": {},
   "source": [
    "### Datasets import and export"
   ]
  },
  {
   "cell_type": "code",
   "execution_count": 24,
   "metadata": {},
   "outputs": [],
   "source": [
    "#Import with separator specification\n",
    "x_train = pd.read_csv('x_train.csv')\n",
    "y_train = pd.read_csv('y_train.csv')\n",
    "x_test = pd.read_csv('x_test.csv')\n",
    "x_test_add = pd.read_csv('additional_x_files_2EHFvuq/x_test_additional_file.csv')\n",
    "x_train_add = pd.read_csv('additional_x_files_2EHFvuq/x_train_additional_file.csv')\n",
    "\n",
    "#Spaces deletion in columns names\n",
    "x_train.columns = [x.strip().replace(' ', '_') for x in x_train.columns]\n",
    "x_test.columns = [x.strip().replace(' ', '_') for x in x_test.columns]\n",
    "y_train.columns = [x.strip().replace(' ', '_') for x in y_train.columns]\n",
    "x_train_add.columns = [x.strip().replace(' ', '_') for x in x_train_add.columns]\n",
    "x_test_add.columns = [x.strip().replace(' ', '_') for x in x_test_add.columns]\n",
    "\n",
    "x_test_init=x_test"
   ]
  },
  {
   "cell_type": "code",
   "execution_count": 3,
   "metadata": {
    "scrolled": true
   },
   "outputs": [
    {
     "data": {
      "text/html": [
       "<div>\n",
       "<style scoped>\n",
       "    .dataframe tbody tr th:only-of-type {\n",
       "        vertical-align: middle;\n",
       "    }\n",
       "\n",
       "    .dataframe tbody tr th {\n",
       "        vertical-align: top;\n",
       "    }\n",
       "\n",
       "    .dataframe thead th {\n",
       "        text-align: right;\n",
       "    }\n",
       "</style>\n",
       "<table border=\"1\" class=\"dataframe\">\n",
       "  <thead>\n",
       "    <tr style=\"text-align: right;\">\n",
       "      <th></th>\n",
       "      <th>emergency_vehicle_selection</th>\n",
       "      <th>intervention</th>\n",
       "      <th>alert_reason_category</th>\n",
       "      <th>alert_reason</th>\n",
       "      <th>intervention_on_public_roads</th>\n",
       "      <th>floor</th>\n",
       "      <th>location_of_the_event</th>\n",
       "      <th>longitude_intervention</th>\n",
       "      <th>latitude_intervention</th>\n",
       "      <th>emergency_vehicle</th>\n",
       "      <th>...</th>\n",
       "      <th>delta_status_preceding_selection-selection</th>\n",
       "      <th>departed_from_its_rescue_center</th>\n",
       "      <th>longitude_before_departure</th>\n",
       "      <th>latitude_before_departure</th>\n",
       "      <th>delta_position_gps_previous_departure-departure</th>\n",
       "      <th>GPS_tracks_departure-presentation</th>\n",
       "      <th>GPS_tracks_datetime_departure-presentation</th>\n",
       "      <th>OSRM_response</th>\n",
       "      <th>OSRM_estimated_distance</th>\n",
       "      <th>OSRM_estimated_duration</th>\n",
       "    </tr>\n",
       "  </thead>\n",
       "  <tbody>\n",
       "    <tr>\n",
       "      <th>0</th>\n",
       "      <td>5105452</td>\n",
       "      <td>13264186</td>\n",
       "      <td>3</td>\n",
       "      <td>2162</td>\n",
       "      <td>0</td>\n",
       "      <td>0</td>\n",
       "      <td>148.0</td>\n",
       "      <td>2.284796</td>\n",
       "      <td>48.879669</td>\n",
       "      <td>4511</td>\n",
       "      <td>...</td>\n",
       "      <td>2027</td>\n",
       "      <td>1</td>\n",
       "      <td>2.288053</td>\n",
       "      <td>48.884698</td>\n",
       "      <td>NaN</td>\n",
       "      <td>2.289000,48.885113;2.288861,48.884998;2.288000...</td>\n",
       "      <td>2018-07-08 19:04:43;2018-07-08 19:05:55;2018-0...</td>\n",
       "      <td>{\"code\":\"Ok\",\"routes\":[{\"geometry\":\"}yjiH}x}L_...</td>\n",
       "      <td>952.5</td>\n",
       "      <td>105.8</td>\n",
       "    </tr>\n",
       "    <tr>\n",
       "      <th>1</th>\n",
       "      <td>4720915</td>\n",
       "      <td>12663715</td>\n",
       "      <td>3</td>\n",
       "      <td>2124</td>\n",
       "      <td>0</td>\n",
       "      <td>1</td>\n",
       "      <td>136.0</td>\n",
       "      <td>2.247464</td>\n",
       "      <td>48.818191</td>\n",
       "      <td>4327</td>\n",
       "      <td>...</td>\n",
       "      <td>28233</td>\n",
       "      <td>1</td>\n",
       "      <td>2.268519</td>\n",
       "      <td>48.823958</td>\n",
       "      <td>NaN</td>\n",
       "      <td>NaN</td>\n",
       "      <td>NaN</td>\n",
       "      <td>{\"code\":\"Ok\",\"routes\":[{\"geometry\":\"u|~hHy`zL_...</td>\n",
       "      <td>2238.5</td>\n",
       "      <td>243.2</td>\n",
       "    </tr>\n",
       "    <tr>\n",
       "      <th>2</th>\n",
       "      <td>5365374</td>\n",
       "      <td>13675521</td>\n",
       "      <td>3</td>\n",
       "      <td>2163</td>\n",
       "      <td>0</td>\n",
       "      <td>2</td>\n",
       "      <td>139.0</td>\n",
       "      <td>2.258328</td>\n",
       "      <td>48.836759</td>\n",
       "      <td>4509</td>\n",
       "      <td>...</td>\n",
       "      <td>1981</td>\n",
       "      <td>0</td>\n",
       "      <td>2.272944</td>\n",
       "      <td>48.850498</td>\n",
       "      <td>33.0</td>\n",
       "      <td>2.272972,48.850498;2.269056,48.847443;2.262611...</td>\n",
       "      <td>2018-11-16 10:14:31;2018-11-16 10:15:43;2018-1...</td>\n",
       "      <td>{\"code\":\"Ok\",\"routes\":[{\"geometry\":\"_cdiHo}zLm...</td>\n",
       "      <td>3026.4</td>\n",
       "      <td>295.4</td>\n",
       "    </tr>\n",
       "    <tr>\n",
       "      <th>3</th>\n",
       "      <td>4741586</td>\n",
       "      <td>12695745</td>\n",
       "      <td>3</td>\n",
       "      <td>2162</td>\n",
       "      <td>0</td>\n",
       "      <td>0</td>\n",
       "      <td>136.0</td>\n",
       "      <td>2.393832</td>\n",
       "      <td>48.776526</td>\n",
       "      <td>5731</td>\n",
       "      <td>...</td>\n",
       "      <td>1842</td>\n",
       "      <td>1</td>\n",
       "      <td>2.388940</td>\n",
       "      <td>48.787732</td>\n",
       "      <td>NaN</td>\n",
       "      <td>2.394278,48.782112;2.393639,48.776833</td>\n",
       "      <td>2018-01-15 00:42:46;2018-01-15 00:43:58</td>\n",
       "      <td>{\"code\":\"Ok\",\"routes\":[{\"geometry\":\"sywhH_pqMy...</td>\n",
       "      <td>1934.2</td>\n",
       "      <td>166.6</td>\n",
       "    </tr>\n",
       "    <tr>\n",
       "      <th>4</th>\n",
       "      <td>5381209</td>\n",
       "      <td>13698743</td>\n",
       "      <td>3</td>\n",
       "      <td>2162</td>\n",
       "      <td>0</td>\n",
       "      <td>3</td>\n",
       "      <td>104.0</td>\n",
       "      <td>2.458610</td>\n",
       "      <td>48.875751</td>\n",
       "      <td>5623</td>\n",
       "      <td>...</td>\n",
       "      <td>2716</td>\n",
       "      <td>1</td>\n",
       "      <td>2.439331</td>\n",
       "      <td>48.863814</td>\n",
       "      <td>NaN</td>\n",
       "      <td>2.439472,48.863724;2.439583,48.863777;2.440917...</td>\n",
       "      <td>2018-11-24 00:37:10;2018-11-24 00:38:22;2018-1...</td>\n",
       "      <td>{\"code\":\"Ok\",\"routes\":[{\"geometry\":\"wvfiHgn{Mj...</td>\n",
       "      <td>2706.7</td>\n",
       "      <td>262.6</td>\n",
       "    </tr>\n",
       "  </tbody>\n",
       "</table>\n",
       "<p>5 rows × 26 columns</p>\n",
       "</div>"
      ],
      "text/plain": [
       "   emergency_vehicle_selection  intervention  alert_reason_category  \\\n",
       "0                      5105452      13264186                      3   \n",
       "1                      4720915      12663715                      3   \n",
       "2                      5365374      13675521                      3   \n",
       "3                      4741586      12695745                      3   \n",
       "4                      5381209      13698743                      3   \n",
       "\n",
       "   alert_reason  intervention_on_public_roads  floor  location_of_the_event  \\\n",
       "0          2162                             0      0                  148.0   \n",
       "1          2124                             0      1                  136.0   \n",
       "2          2163                             0      2                  139.0   \n",
       "3          2162                             0      0                  136.0   \n",
       "4          2162                             0      3                  104.0   \n",
       "\n",
       "   longitude_intervention  latitude_intervention  emergency_vehicle  ...  \\\n",
       "0                2.284796              48.879669               4511  ...   \n",
       "1                2.247464              48.818191               4327  ...   \n",
       "2                2.258328              48.836759               4509  ...   \n",
       "3                2.393832              48.776526               5731  ...   \n",
       "4                2.458610              48.875751               5623  ...   \n",
       "\n",
       "  delta_status_preceding_selection-selection  departed_from_its_rescue_center  \\\n",
       "0                                       2027                                1   \n",
       "1                                      28233                                1   \n",
       "2                                       1981                                0   \n",
       "3                                       1842                                1   \n",
       "4                                       2716                                1   \n",
       "\n",
       "  longitude_before_departure  latitude_before_departure  \\\n",
       "0                   2.288053                  48.884698   \n",
       "1                   2.268519                  48.823958   \n",
       "2                   2.272944                  48.850498   \n",
       "3                   2.388940                  48.787732   \n",
       "4                   2.439331                  48.863814   \n",
       "\n",
       "   delta_position_gps_previous_departure-departure  \\\n",
       "0                                              NaN   \n",
       "1                                              NaN   \n",
       "2                                             33.0   \n",
       "3                                              NaN   \n",
       "4                                              NaN   \n",
       "\n",
       "                   GPS_tracks_departure-presentation  \\\n",
       "0  2.289000,48.885113;2.288861,48.884998;2.288000...   \n",
       "1                                                NaN   \n",
       "2  2.272972,48.850498;2.269056,48.847443;2.262611...   \n",
       "3              2.394278,48.782112;2.393639,48.776833   \n",
       "4  2.439472,48.863724;2.439583,48.863777;2.440917...   \n",
       "\n",
       "          GPS_tracks_datetime_departure-presentation  \\\n",
       "0  2018-07-08 19:04:43;2018-07-08 19:05:55;2018-0...   \n",
       "1                                                NaN   \n",
       "2  2018-11-16 10:14:31;2018-11-16 10:15:43;2018-1...   \n",
       "3            2018-01-15 00:42:46;2018-01-15 00:43:58   \n",
       "4  2018-11-24 00:37:10;2018-11-24 00:38:22;2018-1...   \n",
       "\n",
       "                                       OSRM_response  OSRM_estimated_distance  \\\n",
       "0  {\"code\":\"Ok\",\"routes\":[{\"geometry\":\"}yjiH}x}L_...                    952.5   \n",
       "1  {\"code\":\"Ok\",\"routes\":[{\"geometry\":\"u|~hHy`zL_...                   2238.5   \n",
       "2  {\"code\":\"Ok\",\"routes\":[{\"geometry\":\"_cdiHo}zLm...                   3026.4   \n",
       "3  {\"code\":\"Ok\",\"routes\":[{\"geometry\":\"sywhH_pqMy...                   1934.2   \n",
       "4  {\"code\":\"Ok\",\"routes\":[{\"geometry\":\"wvfiHgn{Mj...                   2706.7   \n",
       "\n",
       "   OSRM_estimated_duration  \n",
       "0                    105.8  \n",
       "1                    243.2  \n",
       "2                    295.4  \n",
       "3                    166.6  \n",
       "4                    262.6  \n",
       "\n",
       "[5 rows x 26 columns]"
      ]
     },
     "execution_count": 3,
     "metadata": {},
     "output_type": "execute_result"
    }
   ],
   "source": [
    "x_train.head()"
   ]
  },
  {
   "cell_type": "code",
   "execution_count": 25,
   "metadata": {},
   "outputs": [
    {
     "data": {
      "text/plain": [
       "Index(['emergency_vehicle_selection', 'intervention', 'alert_reason_category',\n",
       "       'alert_reason', 'intervention_on_public_roads', 'floor',\n",
       "       'location_of_the_event', 'longitude_intervention',\n",
       "       'latitude_intervention', 'emergency_vehicle', 'emergency_vehicle_type',\n",
       "       'rescue_center', 'selection_time', 'date_key_sélection',\n",
       "       'time_key_sélection', 'status_preceding_selection',\n",
       "       'delta_status_preceding_selection-selection',\n",
       "       'departed_from_its_rescue_center', 'longitude_before_departure',\n",
       "       'latitude_before_departure',\n",
       "       'delta_position_gps_previous_departure-departure',\n",
       "       'GPS_tracks_departure-presentation',\n",
       "       'GPS_tracks_datetime_departure-presentation', 'OSRM_response',\n",
       "       'OSRM_estimated_distance', 'OSRM_estimated_duration'],\n",
       "      dtype='object')"
      ]
     },
     "execution_count": 25,
     "metadata": {},
     "output_type": "execute_result"
    }
   ],
   "source": [
    "x_train.columns"
   ]
  },
  {
   "cell_type": "markdown",
   "metadata": {},
   "source": [
    "### OSRM estimated duration update with additionnal data"
   ]
  },
  {
   "cell_type": "code",
   "execution_count": 26,
   "metadata": {},
   "outputs": [],
   "source": [
    "### For the training sample :\n",
    "# Update of the estimated arrival time and addition of a feature named 'updated', \n",
    "# With a value of 1 if the time has changed, 0 otherwise\n",
    "\n",
    "updated=np.zeros(x_train['OSRM_estimated_duration'].shape)\n",
    "updated=np.isnan(x_train_add['updated_OSRM_estimated_duration']) # 1 if nan, 0 otherwise\n",
    "\n",
    "# Treating NaN values\n",
    "x_train['OSRM_estimated_duration']=updated*x_train['OSRM_estimated_duration']+np.nan_to_num(x_train_add['updated_OSRM_estimated_duration'])\n",
    "x_train.loc[:, 'updated'] = 1*np.invert(updated) # 1 if new time, 0 otherwise\n",
    "\n",
    "### For the testing sample :\n",
    "updated=np.zeros(x_test['OSRM_estimated_duration'].shape)\n",
    "updated=np.isnan(x_test_add['updated_OSRM_estimated_duration']) ### 1 if nan, 0 otherwise\n",
    "\n",
    "x_test['OSRM_estimated_duration']=updated*x_test['OSRM_estimated_duration']+np.nan_to_num(x_test_add['updated_OSRM_estimated_duration'])\n",
    "x_test.loc[:, 'updated'] = 1*np.invert(updated) # 1 if new time, 0 otherwise"
   ]
  },
  {
   "cell_type": "markdown",
   "metadata": {},
   "source": [
    "### Converting dates to integers"
   ]
  },
  {
   "cell_type": "code",
   "execution_count": 27,
   "metadata": {},
   "outputs": [
    {
     "data": {
      "text/plain": [
       "0    2018-07-08 19:02:43.990\n",
       "1    2018-01-04 09:02:59.470\n",
       "2    2018-11-16 10:11:47.777\n",
       "3    2018-01-15 00:38:46.820\n",
       "4    2018-11-24 00:34:26.017\n",
       "Name: selection_time, dtype: object"
      ]
     },
     "execution_count": 27,
     "metadata": {},
     "output_type": "execute_result"
    }
   ],
   "source": [
    "x_train['selection_time'].head()"
   ]
  },
  {
   "cell_type": "code",
   "execution_count": 28,
   "metadata": {},
   "outputs": [],
   "source": [
    "# String to datetime\n",
    "x_train['selection_time'] = pd.to_datetime(x_train.selection_time)\n",
    "x_test['selection_time'] = pd.to_datetime(x_test.selection_time)\n",
    "\n",
    "# Adding year, month, hour and day of week as features\n",
    "x_train.loc[:, 'date'] = x_train['selection_time'].dt.date\n",
    "x_train.loc[:, 'hour'] = x_train['selection_time'].dt.hour\n",
    "x_test.loc[:, 'date'] = x_test['selection_time'].dt.date\n",
    "x_test.loc[:, 'hour'] = x_test['selection_time'].dt.hour\n",
    "x_train.loc[:, 'month'] = x_train['selection_time'].dt.month\n",
    "x_test.loc[:, 'month'] = x_test['selection_time'].dt.month\n",
    "x_train.loc[:, 'dayofweek'] = x_train['selection_time'].dt.dayofweek\n",
    "x_test.loc[:, 'dayofweek'] = x_test['selection_time'].dt.dayofweek"
   ]
  },
  {
   "cell_type": "code",
   "execution_count": 29,
   "metadata": {},
   "outputs": [
    {
     "name": "stdout",
     "output_type": "stream",
     "text": [
      "11 11\n",
      "24 24\n",
      "7 7\n"
     ]
    }
   ],
   "source": [
    "# Final check for mistakes :\n",
    "print(len(x_train.groupby('month').size()),len(x_test.groupby('month').size()))\n",
    "print(len(x_train.groupby('hour').size()),len(x_test.groupby('hour').size()))\n",
    "print(len(x_train.groupby('dayofweek').size()),len(x_test.groupby('dayofweek').size()))\n",
    "\n",
    "##OK"
   ]
  },
  {
   "cell_type": "markdown",
   "metadata": {},
   "source": [
    "### Visualization of traffic by hour / day of week / month"
   ]
  },
  {
   "cell_type": "code",
   "execution_count": 30,
   "metadata": {},
   "outputs": [
    {
     "data": {
      "image/png": "[encoded data removed]",
      "text/plain": [
       "<Figure size 720x360 with 3 Axes>"
      ]
     },
     "metadata": {
      "needs_background": "light"
     },
     "output_type": "display_data"
    }
   ],
   "source": [
    "# Computing the mean speeds by observed distances/times \n",
    "x_train.loc[:, 'avg_speed_h'] = x_train['OSRM_estimated_distance'] / x_train['OSRM_estimated_duration']\n",
    "x_train.loc[:, 'avg_speed_m'] =  x_train['OSRM_estimated_distance'] / x_train['OSRM_estimated_duration']\n",
    "\n",
    "# Plot \n",
    "fig, ax = plt.subplots(ncols=3, sharey=True,figsize=(10,5))\n",
    "ax[0].plot(x_train.groupby('hour').mean()['avg_speed_h'], 'bo-', lw=2, alpha=0.7)\n",
    "ax[1].plot(x_train.groupby('dayofweek').mean()['avg_speed_h'], 'go-', lw=2, alpha=0.7)\n",
    "ax[2].plot(x_train.groupby('month').mean()['avg_speed_h'], 'ro-', lw=2, alpha=0.7)\n",
    "ax[0].set_xlabel('Hour of Day')\n",
    "ax[1].set_xlabel('Day of Week')\n",
    "ax[2].set_xlabel('Month of Year')\n",
    "ax[0].set_ylabel('Average Speed')\n",
    "fig.suptitle('Average Traffic Speed by Date-part')\n",
    "plt.show()"
   ]
  },
  {
   "cell_type": "markdown",
   "metadata": {},
   "source": [
    "A lot of differences appear according to which day of week it is"
   ]
  },
  {
   "cell_type": "markdown",
   "metadata": {},
   "source": [
    "### Visualizing y_train"
   ]
  },
  {
   "cell_type": "code",
   "execution_count": 31,
   "metadata": {},
   "outputs": [],
   "source": [
    "# selection-departure time vector\n",
    "y_train_selection=np.array(y_train[['delta_selection-departure']]).flatten()\n",
    "# departure-presentation time vector\n",
    "y_train_presentation=np.array(y_train[['delta_departure-presentation']]).flatten()"
   ]
  },
  {
   "cell_type": "code",
   "execution_count": 32,
   "metadata": {},
   "outputs": [
    {
     "data": {
      "image/png": "[encoded data removed]",
      "text/plain": [
       "<Figure size 1800x720 with 2 Axes>"
      ]
     },
     "metadata": {
      "needs_background": "light"
     },
     "output_type": "display_data"
    }
   ],
   "source": [
    "f, ax = plt.subplots(ncols=2,figsize=(25,10))\n",
    "ax[0].hist(y_train_selection.flatten(),bins=2000)\n",
    "\n",
    "ax[1].hist(y_train_presentation.flatten(),bins=2000)\n",
    "#ax[1].hist(np.log(y_train_selection+1).flatten(),bins=2000)\n",
    "\n",
    "#ax[0].set_xlim(0, 1000)\n",
    "#ax[1].set_xlim(0, 2000)\n",
    "ax[0].set_xlabel('Temps en secondes entre la selection et le départ')\n",
    "ax[1].set_xlabel(\"Temps en secondes entre le départ et l'arrivée\")\n",
    "\n",
    "ax[0].set_ylabel(' Nombre ')\n",
    "ax[1].set_ylabel(' Nombre ')\n",
    "\n",
    "\n",
    "plt.show()"
   ]
  },
  {
   "cell_type": "code",
   "execution_count": 33,
   "metadata": {},
   "outputs": [
    {
     "data": {
      "text/html": [
       "<div>\n",
       "<style scoped>\n",
       "    .dataframe tbody tr th:only-of-type {\n",
       "        vertical-align: middle;\n",
       "    }\n",
       "\n",
       "    .dataframe tbody tr th {\n",
       "        vertical-align: top;\n",
       "    }\n",
       "\n",
       "    .dataframe thead th {\n",
       "        text-align: right;\n",
       "    }\n",
       "</style>\n",
       "<table border=\"1\" class=\"dataframe\">\n",
       "  <thead>\n",
       "    <tr style=\"text-align: right;\">\n",
       "      <th></th>\n",
       "      <th>emergency_vehicle_selection</th>\n",
       "      <th>delta_selection-departure</th>\n",
       "      <th>delta_departure-presentation</th>\n",
       "      <th>delta_selection-presentation</th>\n",
       "    </tr>\n",
       "  </thead>\n",
       "  <tbody>\n",
       "    <tr>\n",
       "      <th>0</th>\n",
       "      <td>5105452</td>\n",
       "      <td>86</td>\n",
       "      <td>324</td>\n",
       "      <td>410</td>\n",
       "    </tr>\n",
       "    <tr>\n",
       "      <th>1</th>\n",
       "      <td>4720915</td>\n",
       "      <td>164</td>\n",
       "      <td>297</td>\n",
       "      <td>461</td>\n",
       "    </tr>\n",
       "    <tr>\n",
       "      <th>2</th>\n",
       "      <td>5365374</td>\n",
       "      <td>125</td>\n",
       "      <td>365</td>\n",
       "      <td>490</td>\n",
       "    </tr>\n",
       "    <tr>\n",
       "      <th>3</th>\n",
       "      <td>4741586</td>\n",
       "      <td>168</td>\n",
       "      <td>160</td>\n",
       "      <td>328</td>\n",
       "    </tr>\n",
       "    <tr>\n",
       "      <th>4</th>\n",
       "      <td>5381209</td>\n",
       "      <td>138</td>\n",
       "      <td>523</td>\n",
       "      <td>661</td>\n",
       "    </tr>\n",
       "  </tbody>\n",
       "</table>\n",
       "</div>"
      ],
      "text/plain": [
       "   emergency_vehicle_selection  delta_selection-departure  \\\n",
       "0                      5105452                         86   \n",
       "1                      4720915                        164   \n",
       "2                      5365374                        125   \n",
       "3                      4741586                        168   \n",
       "4                      5381209                        138   \n",
       "\n",
       "   delta_departure-presentation  delta_selection-presentation  \n",
       "0                           324                           410  \n",
       "1                           297                           461  \n",
       "2                           365                           490  \n",
       "3                           160                           328  \n",
       "4                           523                           661  "
      ]
     },
     "execution_count": 33,
     "metadata": {},
     "output_type": "execute_result"
    }
   ],
   "source": [
    "y_train.head()"
   ]
  },
  {
   "cell_type": "markdown",
   "metadata": {},
   "source": [
    "### Data cleaning"
   ]
  },
  {
   "cell_type": "code",
   "execution_count": 34,
   "metadata": {},
   "outputs": [
    {
     "data": {
      "text/html": [
       "<div>\n",
       "<style scoped>\n",
       "    .dataframe tbody tr th:only-of-type {\n",
       "        vertical-align: middle;\n",
       "    }\n",
       "\n",
       "    .dataframe tbody tr th {\n",
       "        vertical-align: top;\n",
       "    }\n",
       "\n",
       "    .dataframe thead th {\n",
       "        text-align: right;\n",
       "    }\n",
       "</style>\n",
       "<table border=\"1\" class=\"dataframe\">\n",
       "  <thead>\n",
       "    <tr style=\"text-align: right;\">\n",
       "      <th></th>\n",
       "      <th>emergency_vehicle_selection</th>\n",
       "      <th>intervention</th>\n",
       "      <th>alert_reason_category</th>\n",
       "      <th>alert_reason</th>\n",
       "      <th>intervention_on_public_roads</th>\n",
       "      <th>floor</th>\n",
       "      <th>location_of_the_event</th>\n",
       "      <th>longitude_intervention</th>\n",
       "      <th>latitude_intervention</th>\n",
       "      <th>emergency_vehicle</th>\n",
       "      <th>...</th>\n",
       "      <th>OSRM_response</th>\n",
       "      <th>OSRM_estimated_distance</th>\n",
       "      <th>OSRM_estimated_duration</th>\n",
       "      <th>updated</th>\n",
       "      <th>date</th>\n",
       "      <th>hour</th>\n",
       "      <th>month</th>\n",
       "      <th>dayofweek</th>\n",
       "      <th>avg_speed_h</th>\n",
       "      <th>avg_speed_m</th>\n",
       "    </tr>\n",
       "  </thead>\n",
       "  <tbody>\n",
       "    <tr>\n",
       "      <th>0</th>\n",
       "      <td>5105452</td>\n",
       "      <td>13264186</td>\n",
       "      <td>3</td>\n",
       "      <td>2162</td>\n",
       "      <td>0</td>\n",
       "      <td>0</td>\n",
       "      <td>148.0</td>\n",
       "      <td>2.284796</td>\n",
       "      <td>48.879669</td>\n",
       "      <td>4511</td>\n",
       "      <td>...</td>\n",
       "      <td>{\"code\":\"Ok\",\"routes\":[{\"geometry\":\"}yjiH}x}L_...</td>\n",
       "      <td>952.5</td>\n",
       "      <td>482.810</td>\n",
       "      <td>1</td>\n",
       "      <td>2018-07-08</td>\n",
       "      <td>19</td>\n",
       "      <td>7</td>\n",
       "      <td>6</td>\n",
       "      <td>1.972826</td>\n",
       "      <td>1.972826</td>\n",
       "    </tr>\n",
       "    <tr>\n",
       "      <th>1</th>\n",
       "      <td>4720915</td>\n",
       "      <td>12663715</td>\n",
       "      <td>3</td>\n",
       "      <td>2124</td>\n",
       "      <td>0</td>\n",
       "      <td>1</td>\n",
       "      <td>136.0</td>\n",
       "      <td>2.247464</td>\n",
       "      <td>48.818191</td>\n",
       "      <td>4327</td>\n",
       "      <td>...</td>\n",
       "      <td>{\"code\":\"Ok\",\"routes\":[{\"geometry\":\"u|~hHy`zL_...</td>\n",
       "      <td>2238.5</td>\n",
       "      <td>243.200</td>\n",
       "      <td>0</td>\n",
       "      <td>2018-01-04</td>\n",
       "      <td>9</td>\n",
       "      <td>1</td>\n",
       "      <td>3</td>\n",
       "      <td>9.204359</td>\n",
       "      <td>9.204359</td>\n",
       "    </tr>\n",
       "    <tr>\n",
       "      <th>2</th>\n",
       "      <td>5365374</td>\n",
       "      <td>13675521</td>\n",
       "      <td>3</td>\n",
       "      <td>2163</td>\n",
       "      <td>0</td>\n",
       "      <td>2</td>\n",
       "      <td>139.0</td>\n",
       "      <td>2.258328</td>\n",
       "      <td>48.836759</td>\n",
       "      <td>4509</td>\n",
       "      <td>...</td>\n",
       "      <td>{\"code\":\"Ok\",\"routes\":[{\"geometry\":\"_cdiHo}zLm...</td>\n",
       "      <td>3026.4</td>\n",
       "      <td>557.323</td>\n",
       "      <td>1</td>\n",
       "      <td>2018-11-16</td>\n",
       "      <td>10</td>\n",
       "      <td>11</td>\n",
       "      <td>4</td>\n",
       "      <td>5.430244</td>\n",
       "      <td>5.430244</td>\n",
       "    </tr>\n",
       "    <tr>\n",
       "      <th>3</th>\n",
       "      <td>4741586</td>\n",
       "      <td>12695745</td>\n",
       "      <td>3</td>\n",
       "      <td>2162</td>\n",
       "      <td>0</td>\n",
       "      <td>0</td>\n",
       "      <td>136.0</td>\n",
       "      <td>2.393832</td>\n",
       "      <td>48.776526</td>\n",
       "      <td>5731</td>\n",
       "      <td>...</td>\n",
       "      <td>{\"code\":\"Ok\",\"routes\":[{\"geometry\":\"sywhH_pqMy...</td>\n",
       "      <td>1934.2</td>\n",
       "      <td>318.880</td>\n",
       "      <td>1</td>\n",
       "      <td>2018-01-15</td>\n",
       "      <td>0</td>\n",
       "      <td>1</td>\n",
       "      <td>0</td>\n",
       "      <td>6.065605</td>\n",
       "      <td>6.065605</td>\n",
       "    </tr>\n",
       "    <tr>\n",
       "      <th>4</th>\n",
       "      <td>5381209</td>\n",
       "      <td>13698743</td>\n",
       "      <td>3</td>\n",
       "      <td>2162</td>\n",
       "      <td>0</td>\n",
       "      <td>3</td>\n",
       "      <td>104.0</td>\n",
       "      <td>2.458610</td>\n",
       "      <td>48.875751</td>\n",
       "      <td>5623</td>\n",
       "      <td>...</td>\n",
       "      <td>{\"code\":\"Ok\",\"routes\":[{\"geometry\":\"wvfiHgn{Mj...</td>\n",
       "      <td>2706.7</td>\n",
       "      <td>719.983</td>\n",
       "      <td>1</td>\n",
       "      <td>2018-11-24</td>\n",
       "      <td>0</td>\n",
       "      <td>11</td>\n",
       "      <td>5</td>\n",
       "      <td>3.759394</td>\n",
       "      <td>3.759394</td>\n",
       "    </tr>\n",
       "  </tbody>\n",
       "</table>\n",
       "<p>5 rows × 33 columns</p>\n",
       "</div>"
      ],
      "text/plain": [
       "   emergency_vehicle_selection  intervention  alert_reason_category  \\\n",
       "0                      5105452      13264186                      3   \n",
       "1                      4720915      12663715                      3   \n",
       "2                      5365374      13675521                      3   \n",
       "3                      4741586      12695745                      3   \n",
       "4                      5381209      13698743                      3   \n",
       "\n",
       "   alert_reason  intervention_on_public_roads  floor  location_of_the_event  \\\n",
       "0          2162                             0      0                  148.0   \n",
       "1          2124                             0      1                  136.0   \n",
       "2          2163                             0      2                  139.0   \n",
       "3          2162                             0      0                  136.0   \n",
       "4          2162                             0      3                  104.0   \n",
       "\n",
       "   longitude_intervention  latitude_intervention  emergency_vehicle  ...  \\\n",
       "0                2.284796              48.879669               4511  ...   \n",
       "1                2.247464              48.818191               4327  ...   \n",
       "2                2.258328              48.836759               4509  ...   \n",
       "3                2.393832              48.776526               5731  ...   \n",
       "4                2.458610              48.875751               5623  ...   \n",
       "\n",
       "                                       OSRM_response  OSRM_estimated_distance  \\\n",
       "0  {\"code\":\"Ok\",\"routes\":[{\"geometry\":\"}yjiH}x}L_...                    952.5   \n",
       "1  {\"code\":\"Ok\",\"routes\":[{\"geometry\":\"u|~hHy`zL_...                   2238.5   \n",
       "2  {\"code\":\"Ok\",\"routes\":[{\"geometry\":\"_cdiHo}zLm...                   3026.4   \n",
       "3  {\"code\":\"Ok\",\"routes\":[{\"geometry\":\"sywhH_pqMy...                   1934.2   \n",
       "4  {\"code\":\"Ok\",\"routes\":[{\"geometry\":\"wvfiHgn{Mj...                   2706.7   \n",
       "\n",
       "  OSRM_estimated_duration  updated        date hour  month  dayofweek  \\\n",
       "0                 482.810        1  2018-07-08   19      7          6   \n",
       "1                 243.200        0  2018-01-04    9      1          3   \n",
       "2                 557.323        1  2018-11-16   10     11          4   \n",
       "3                 318.880        1  2018-01-15    0      1          0   \n",
       "4                 719.983        1  2018-11-24    0     11          5   \n",
       "\n",
       "   avg_speed_h  avg_speed_m  \n",
       "0     1.972826     1.972826  \n",
       "1     9.204359     9.204359  \n",
       "2     5.430244     5.430244  \n",
       "3     6.065605     6.065605  \n",
       "4     3.759394     3.759394  \n",
       "\n",
       "[5 rows x 33 columns]"
      ]
     },
     "execution_count": 34,
     "metadata": {},
     "output_type": "execute_result"
    }
   ],
   "source": [
    "Master=pd.concat([x_train,y_train['delta_selection-departure'],y_train['delta_departure-presentation'],\n",
    "                y_train['delta_selection-presentation']],axis=1)\n",
    "\n",
    "## outliers\n",
    "aberrantes=Master[Master['delta_selection-departure'] >= 600]\n",
    "aberrantes=Master[Master['delta_departure-presentation'] >= 2000]\n",
    "## inliers\n",
    "Master = Master[Master['delta_selection-departure'] <= 600]\n",
    "Master = Master[Master['delta_departure-presentation'] <= 2000]\n",
    "\n",
    "y_train=pd.concat([Master['emergency_vehicle_selection'],Master['delta_selection-departure'],\n",
    "                 Master['delta_departure-presentation'],Master['delta_selection-presentation']],\n",
    "                 axis=1)\n",
    "x_train=Master.drop(['delta_selection-departure','delta_departure-presentation','delta_selection-presentation'],\n",
    "                   axis=1)\n",
    "\n",
    "x_train.head()"
   ]
  },
  {
   "cell_type": "code",
   "execution_count": 35,
   "metadata": {},
   "outputs": [
    {
     "data": {
      "text/plain": [
       "(251, 36)"
      ]
     },
     "execution_count": 35,
     "metadata": {},
     "output_type": "execute_result"
    }
   ],
   "source": [
    "aberrantes.shape"
   ]
  },
  {
   "cell_type": "code",
   "execution_count": 36,
   "metadata": {},
   "outputs": [
    {
     "data": {
      "text/html": [
       "<div>\n",
       "<style scoped>\n",
       "    .dataframe tbody tr th:only-of-type {\n",
       "        vertical-align: middle;\n",
       "    }\n",
       "\n",
       "    .dataframe tbody tr th {\n",
       "        vertical-align: top;\n",
       "    }\n",
       "\n",
       "    .dataframe thead th {\n",
       "        text-align: right;\n",
       "    }\n",
       "</style>\n",
       "<table border=\"1\" class=\"dataframe\">\n",
       "  <thead>\n",
       "    <tr style=\"text-align: right;\">\n",
       "      <th></th>\n",
       "      <th>emergency_vehicle_selection</th>\n",
       "      <th>delta_selection-departure</th>\n",
       "      <th>delta_departure-presentation</th>\n",
       "      <th>delta_selection-presentation</th>\n",
       "    </tr>\n",
       "  </thead>\n",
       "  <tbody>\n",
       "    <tr>\n",
       "      <th>0</th>\n",
       "      <td>5105452</td>\n",
       "      <td>86</td>\n",
       "      <td>324</td>\n",
       "      <td>410</td>\n",
       "    </tr>\n",
       "    <tr>\n",
       "      <th>1</th>\n",
       "      <td>4720915</td>\n",
       "      <td>164</td>\n",
       "      <td>297</td>\n",
       "      <td>461</td>\n",
       "    </tr>\n",
       "    <tr>\n",
       "      <th>2</th>\n",
       "      <td>5365374</td>\n",
       "      <td>125</td>\n",
       "      <td>365</td>\n",
       "      <td>490</td>\n",
       "    </tr>\n",
       "    <tr>\n",
       "      <th>3</th>\n",
       "      <td>4741586</td>\n",
       "      <td>168</td>\n",
       "      <td>160</td>\n",
       "      <td>328</td>\n",
       "    </tr>\n",
       "    <tr>\n",
       "      <th>4</th>\n",
       "      <td>5381209</td>\n",
       "      <td>138</td>\n",
       "      <td>523</td>\n",
       "      <td>661</td>\n",
       "    </tr>\n",
       "  </tbody>\n",
       "</table>\n",
       "</div>"
      ],
      "text/plain": [
       "   emergency_vehicle_selection  delta_selection-departure  \\\n",
       "0                      5105452                         86   \n",
       "1                      4720915                        164   \n",
       "2                      5365374                        125   \n",
       "3                      4741586                        168   \n",
       "4                      5381209                        138   \n",
       "\n",
       "   delta_departure-presentation  delta_selection-presentation  \n",
       "0                           324                           410  \n",
       "1                           297                           461  \n",
       "2                           365                           490  \n",
       "3                           160                           328  \n",
       "4                           523                           661  "
      ]
     },
     "execution_count": 36,
     "metadata": {},
     "output_type": "execute_result"
    }
   ],
   "source": [
    "y_train.head()"
   ]
  },
  {
   "cell_type": "code",
   "execution_count": 37,
   "metadata": {},
   "outputs": [
    {
     "name": "stdout",
     "output_type": "stream",
     "text": [
      "(218984, 4) (218984, 33)\n"
     ]
    }
   ],
   "source": [
    "print(y_train.shape,x_train.shape)"
   ]
  },
  {
   "cell_type": "markdown",
   "metadata": {},
   "source": [
    "### Dummy variables"
   ]
  },
  {
   "cell_type": "code",
   "execution_count": 38,
   "metadata": {},
   "outputs": [],
   "source": [
    "# Creation of dummy variables for both samples (test and train) - 0/1 indicators\n",
    "\n",
    "month_train = pd.get_dummies(x_train['month'], prefix='m', prefix_sep='_')\n",
    "dofw_train = pd.get_dummies(x_train['dayofweek'], prefix='d', prefix_sep='_')\n",
    "hour_train = pd.get_dummies(x_train['hour'], prefix='h', prefix_sep='_')\n",
    "emergency_train=pd.get_dummies(x_train['emergency_vehicle_type'], prefix='type', prefix_sep='_')\n",
    "alert_reason_train = pd.get_dummies(x_train['alert_reason_category'], prefix='reason', prefix_sep='_')\n",
    "\n",
    "month_test = pd.get_dummies(x_test['month'], prefix='m', prefix_sep='_')\n",
    "dofw_test = pd.get_dummies(x_test['dayofweek'], prefix='d', prefix_sep='_')\n",
    "hour_test = pd.get_dummies(x_test['hour'], prefix='h', prefix_sep='_')\n",
    "emergency_test=pd.get_dummies(x_test['emergency_vehicle_type'], prefix='type', prefix_sep='_')\n",
    "alert_reason_test = pd.get_dummies(x_test['alert_reason_category'], prefix='reason', prefix_sep='_')"
   ]
  },
  {
   "cell_type": "code",
   "execution_count": 39,
   "metadata": {},
   "outputs": [
    {
     "data": {
      "text/plain": [
       "(108033,)"
      ]
     },
     "execution_count": 39,
     "metadata": {},
     "output_type": "execute_result"
    }
   ],
   "source": [
    "updated.shape"
   ]
  },
  {
   "cell_type": "code",
   "execution_count": 40,
   "metadata": {},
   "outputs": [
    {
     "data": {
      "text/html": [
       "<div>\n",
       "<style scoped>\n",
       "    .dataframe tbody tr th:only-of-type {\n",
       "        vertical-align: middle;\n",
       "    }\n",
       "\n",
       "    .dataframe tbody tr th {\n",
       "        vertical-align: top;\n",
       "    }\n",
       "\n",
       "    .dataframe thead th {\n",
       "        text-align: right;\n",
       "    }\n",
       "</style>\n",
       "<table border=\"1\" class=\"dataframe\">\n",
       "  <thead>\n",
       "    <tr style=\"text-align: right;\">\n",
       "      <th></th>\n",
       "      <th>type_AR</th>\n",
       "      <th>type_BEAA BSPP</th>\n",
       "      <th>type_CA</th>\n",
       "      <th>type_CCR BSPP</th>\n",
       "      <th>type_CD BSPP</th>\n",
       "      <th>type_CESD</th>\n",
       "      <th>type_CFS</th>\n",
       "      <th>type_CMO APP</th>\n",
       "      <th>type_CRAC</th>\n",
       "      <th>type_CRF</th>\n",
       "      <th>...</th>\n",
       "      <th>type_VRCP</th>\n",
       "      <th>type_VRM</th>\n",
       "      <th>type_VRSD</th>\n",
       "      <th>type_VSAV BALA</th>\n",
       "      <th>type_VSAV BSPP</th>\n",
       "      <th>type_VSAV SDIS</th>\n",
       "      <th>type_VSAV SSLIA</th>\n",
       "      <th>type_VSIS</th>\n",
       "      <th>type_VSTI</th>\n",
       "      <th>type_VTBA</th>\n",
       "    </tr>\n",
       "  </thead>\n",
       "  <tbody>\n",
       "    <tr>\n",
       "      <th>0</th>\n",
       "      <td>0</td>\n",
       "      <td>0</td>\n",
       "      <td>0</td>\n",
       "      <td>0</td>\n",
       "      <td>0</td>\n",
       "      <td>0</td>\n",
       "      <td>0</td>\n",
       "      <td>0</td>\n",
       "      <td>0</td>\n",
       "      <td>0</td>\n",
       "      <td>...</td>\n",
       "      <td>0</td>\n",
       "      <td>0</td>\n",
       "      <td>0</td>\n",
       "      <td>0</td>\n",
       "      <td>1</td>\n",
       "      <td>0</td>\n",
       "      <td>0</td>\n",
       "      <td>0</td>\n",
       "      <td>0</td>\n",
       "      <td>0</td>\n",
       "    </tr>\n",
       "    <tr>\n",
       "      <th>1</th>\n",
       "      <td>0</td>\n",
       "      <td>0</td>\n",
       "      <td>0</td>\n",
       "      <td>0</td>\n",
       "      <td>0</td>\n",
       "      <td>0</td>\n",
       "      <td>0</td>\n",
       "      <td>0</td>\n",
       "      <td>0</td>\n",
       "      <td>0</td>\n",
       "      <td>...</td>\n",
       "      <td>0</td>\n",
       "      <td>0</td>\n",
       "      <td>0</td>\n",
       "      <td>0</td>\n",
       "      <td>0</td>\n",
       "      <td>0</td>\n",
       "      <td>0</td>\n",
       "      <td>0</td>\n",
       "      <td>0</td>\n",
       "      <td>0</td>\n",
       "    </tr>\n",
       "    <tr>\n",
       "      <th>2</th>\n",
       "      <td>0</td>\n",
       "      <td>0</td>\n",
       "      <td>0</td>\n",
       "      <td>0</td>\n",
       "      <td>0</td>\n",
       "      <td>0</td>\n",
       "      <td>0</td>\n",
       "      <td>0</td>\n",
       "      <td>0</td>\n",
       "      <td>0</td>\n",
       "      <td>...</td>\n",
       "      <td>0</td>\n",
       "      <td>0</td>\n",
       "      <td>0</td>\n",
       "      <td>0</td>\n",
       "      <td>1</td>\n",
       "      <td>0</td>\n",
       "      <td>0</td>\n",
       "      <td>0</td>\n",
       "      <td>0</td>\n",
       "      <td>0</td>\n",
       "    </tr>\n",
       "    <tr>\n",
       "      <th>3</th>\n",
       "      <td>0</td>\n",
       "      <td>0</td>\n",
       "      <td>0</td>\n",
       "      <td>0</td>\n",
       "      <td>0</td>\n",
       "      <td>0</td>\n",
       "      <td>0</td>\n",
       "      <td>0</td>\n",
       "      <td>0</td>\n",
       "      <td>0</td>\n",
       "      <td>...</td>\n",
       "      <td>0</td>\n",
       "      <td>0</td>\n",
       "      <td>0</td>\n",
       "      <td>0</td>\n",
       "      <td>1</td>\n",
       "      <td>0</td>\n",
       "      <td>0</td>\n",
       "      <td>0</td>\n",
       "      <td>0</td>\n",
       "      <td>0</td>\n",
       "    </tr>\n",
       "    <tr>\n",
       "      <th>4</th>\n",
       "      <td>0</td>\n",
       "      <td>0</td>\n",
       "      <td>0</td>\n",
       "      <td>0</td>\n",
       "      <td>0</td>\n",
       "      <td>0</td>\n",
       "      <td>0</td>\n",
       "      <td>0</td>\n",
       "      <td>0</td>\n",
       "      <td>0</td>\n",
       "      <td>...</td>\n",
       "      <td>0</td>\n",
       "      <td>0</td>\n",
       "      <td>0</td>\n",
       "      <td>0</td>\n",
       "      <td>1</td>\n",
       "      <td>0</td>\n",
       "      <td>0</td>\n",
       "      <td>0</td>\n",
       "      <td>0</td>\n",
       "      <td>0</td>\n",
       "    </tr>\n",
       "  </tbody>\n",
       "</table>\n",
       "<p>5 rows × 74 columns</p>\n",
       "</div>"
      ],
      "text/plain": [
       "   type_AR  type_BEAA BSPP  type_CA  type_CCR BSPP  type_CD BSPP  type_CESD  \\\n",
       "0        0               0        0              0             0          0   \n",
       "1        0               0        0              0             0          0   \n",
       "2        0               0        0              0             0          0   \n",
       "3        0               0        0              0             0          0   \n",
       "4        0               0        0              0             0          0   \n",
       "\n",
       "   type_CFS  type_CMO APP  type_CRAC  type_CRF  ...  type_VRCP  type_VRM  \\\n",
       "0         0             0          0         0  ...          0         0   \n",
       "1         0             0          0         0  ...          0         0   \n",
       "2         0             0          0         0  ...          0         0   \n",
       "3         0             0          0         0  ...          0         0   \n",
       "4         0             0          0         0  ...          0         0   \n",
       "\n",
       "   type_VRSD  type_VSAV BALA  type_VSAV BSPP  type_VSAV SDIS  type_VSAV SSLIA  \\\n",
       "0          0               0               1               0                0   \n",
       "1          0               0               0               0                0   \n",
       "2          0               0               1               0                0   \n",
       "3          0               0               1               0                0   \n",
       "4          0               0               1               0                0   \n",
       "\n",
       "   type_VSIS  type_VSTI  type_VTBA  \n",
       "0          0          0          0  \n",
       "1          0          0          0  \n",
       "2          0          0          0  \n",
       "3          0          0          0  \n",
       "4          0          0          0  \n",
       "\n",
       "[5 rows x 74 columns]"
      ]
     },
     "execution_count": 40,
     "metadata": {},
     "output_type": "execute_result"
    }
   ],
   "source": [
    "emergency_train.head()"
   ]
  },
  {
   "cell_type": "code",
   "execution_count": 41,
   "metadata": {},
   "outputs": [
    {
     "name": "stdout",
     "output_type": "stream",
     "text": [
      "(11,) (11,)\n",
      "(7,) (7,)\n",
      "(24,) (24,)\n",
      "(66,) (74,)\n",
      "(9,) (9,)\n"
     ]
    }
   ],
   "source": [
    "print(month_test.columns.shape,month_train.columns.shape)\n",
    "print(dofw_test.columns.shape,dofw_train.columns.shape)\n",
    "print(hour_test.columns.shape,hour_train.columns.shape)\n",
    "print(emergency_test.columns.shape,emergency_train.columns.shape)\n",
    "print(alert_reason_test.columns.shape,alert_reason_train.columns.shape)"
   ]
  },
  {
   "cell_type": "markdown",
   "metadata": {},
   "source": [
    "There seems to be a slight issue for $\\texttt{emergency}$"
   ]
  },
  {
   "cell_type": "markdown",
   "metadata": {},
   "source": [
    "### Creation of training and testing datasets with desired features"
   ]
  },
  {
   "cell_type": "code",
   "execution_count": 42,
   "metadata": {},
   "outputs": [],
   "source": [
    "temps_estimee=x_train['OSRM_estimated_duration']\n",
    "distance=x_train['OSRM_estimated_distance']\n",
    "\n",
    "Train_Master=pd.concat([x_train['OSRM_estimated_duration'],x_train['OSRM_estimated_distance'],\n",
    "                        month_train,hour_train,alert_reason_train,x_train['updated'],\n",
    "                       x_train['floor'],x_train['intervention_on_public_roads'],\n",
    "                       dofw_train,x_train['delta_status_preceding_selection-selection'],\n",
    "                       x_train['location_of_the_event'],x_train['rescue_center']],axis=1)\n",
    "\n",
    "Test_Master=pd.concat([x_test['OSRM_estimated_duration'],x_test['OSRM_estimated_distance'],\n",
    "                        month_test,hour_test,alert_reason_test,x_test['updated'],\n",
    "                       x_test['floor'],x_test['intervention_on_public_roads'],\n",
    "                       dofw_test,x_test['delta_status_preceding_selection-selection'],\n",
    "                       x_test['location_of_the_event'],x_test['rescue_center']],axis=1)"
   ]
  },
  {
   "cell_type": "code",
   "execution_count": 43,
   "metadata": {},
   "outputs": [
    {
     "data": {
      "text/html": [
       "<div>\n",
       "<style scoped>\n",
       "    .dataframe tbody tr th:only-of-type {\n",
       "        vertical-align: middle;\n",
       "    }\n",
       "\n",
       "    .dataframe tbody tr th {\n",
       "        vertical-align: top;\n",
       "    }\n",
       "\n",
       "    .dataframe thead th {\n",
       "        text-align: right;\n",
       "    }\n",
       "</style>\n",
       "<table border=\"1\" class=\"dataframe\">\n",
       "  <thead>\n",
       "    <tr style=\"text-align: right;\">\n",
       "      <th></th>\n",
       "      <th>OSRM_estimated_duration</th>\n",
       "      <th>OSRM_estimated_distance</th>\n",
       "      <th>m_1</th>\n",
       "      <th>m_2</th>\n",
       "      <th>m_3</th>\n",
       "      <th>m_4</th>\n",
       "      <th>m_5</th>\n",
       "      <th>m_6</th>\n",
       "      <th>m_7</th>\n",
       "      <th>m_8</th>\n",
       "      <th>...</th>\n",
       "      <th>d_0</th>\n",
       "      <th>d_1</th>\n",
       "      <th>d_2</th>\n",
       "      <th>d_3</th>\n",
       "      <th>d_4</th>\n",
       "      <th>d_5</th>\n",
       "      <th>d_6</th>\n",
       "      <th>delta_status_preceding_selection-selection</th>\n",
       "      <th>location_of_the_event</th>\n",
       "      <th>rescue_center</th>\n",
       "    </tr>\n",
       "  </thead>\n",
       "  <tbody>\n",
       "    <tr>\n",
       "      <th>0</th>\n",
       "      <td>482.810</td>\n",
       "      <td>952.5</td>\n",
       "      <td>0</td>\n",
       "      <td>0</td>\n",
       "      <td>0</td>\n",
       "      <td>0</td>\n",
       "      <td>0</td>\n",
       "      <td>0</td>\n",
       "      <td>1</td>\n",
       "      <td>0</td>\n",
       "      <td>...</td>\n",
       "      <td>0</td>\n",
       "      <td>0</td>\n",
       "      <td>0</td>\n",
       "      <td>0</td>\n",
       "      <td>0</td>\n",
       "      <td>0</td>\n",
       "      <td>1</td>\n",
       "      <td>2027</td>\n",
       "      <td>148.0</td>\n",
       "      <td>2447</td>\n",
       "    </tr>\n",
       "    <tr>\n",
       "      <th>1</th>\n",
       "      <td>243.200</td>\n",
       "      <td>2238.5</td>\n",
       "      <td>1</td>\n",
       "      <td>0</td>\n",
       "      <td>0</td>\n",
       "      <td>0</td>\n",
       "      <td>0</td>\n",
       "      <td>0</td>\n",
       "      <td>0</td>\n",
       "      <td>0</td>\n",
       "      <td>...</td>\n",
       "      <td>0</td>\n",
       "      <td>0</td>\n",
       "      <td>0</td>\n",
       "      <td>1</td>\n",
       "      <td>0</td>\n",
       "      <td>0</td>\n",
       "      <td>0</td>\n",
       "      <td>28233</td>\n",
       "      <td>136.0</td>\n",
       "      <td>2464</td>\n",
       "    </tr>\n",
       "    <tr>\n",
       "      <th>2</th>\n",
       "      <td>557.323</td>\n",
       "      <td>3026.4</td>\n",
       "      <td>0</td>\n",
       "      <td>0</td>\n",
       "      <td>0</td>\n",
       "      <td>0</td>\n",
       "      <td>0</td>\n",
       "      <td>0</td>\n",
       "      <td>0</td>\n",
       "      <td>0</td>\n",
       "      <td>...</td>\n",
       "      <td>0</td>\n",
       "      <td>0</td>\n",
       "      <td>0</td>\n",
       "      <td>0</td>\n",
       "      <td>1</td>\n",
       "      <td>0</td>\n",
       "      <td>0</td>\n",
       "      <td>1981</td>\n",
       "      <td>139.0</td>\n",
       "      <td>2438</td>\n",
       "    </tr>\n",
       "    <tr>\n",
       "      <th>3</th>\n",
       "      <td>318.880</td>\n",
       "      <td>1934.2</td>\n",
       "      <td>1</td>\n",
       "      <td>0</td>\n",
       "      <td>0</td>\n",
       "      <td>0</td>\n",
       "      <td>0</td>\n",
       "      <td>0</td>\n",
       "      <td>0</td>\n",
       "      <td>0</td>\n",
       "      <td>...</td>\n",
       "      <td>1</td>\n",
       "      <td>0</td>\n",
       "      <td>0</td>\n",
       "      <td>0</td>\n",
       "      <td>0</td>\n",
       "      <td>0</td>\n",
       "      <td>0</td>\n",
       "      <td>1842</td>\n",
       "      <td>136.0</td>\n",
       "      <td>2510</td>\n",
       "    </tr>\n",
       "    <tr>\n",
       "      <th>4</th>\n",
       "      <td>719.983</td>\n",
       "      <td>2706.7</td>\n",
       "      <td>0</td>\n",
       "      <td>0</td>\n",
       "      <td>0</td>\n",
       "      <td>0</td>\n",
       "      <td>0</td>\n",
       "      <td>0</td>\n",
       "      <td>0</td>\n",
       "      <td>0</td>\n",
       "      <td>...</td>\n",
       "      <td>0</td>\n",
       "      <td>0</td>\n",
       "      <td>0</td>\n",
       "      <td>0</td>\n",
       "      <td>0</td>\n",
       "      <td>1</td>\n",
       "      <td>0</td>\n",
       "      <td>2716</td>\n",
       "      <td>104.0</td>\n",
       "      <td>2478</td>\n",
       "    </tr>\n",
       "  </tbody>\n",
       "</table>\n",
       "<p>5 rows × 59 columns</p>\n",
       "</div>"
      ],
      "text/plain": [
       "   OSRM_estimated_duration  OSRM_estimated_distance  m_1  m_2  m_3  m_4  m_5  \\\n",
       "0                  482.810                    952.5    0    0    0    0    0   \n",
       "1                  243.200                   2238.5    1    0    0    0    0   \n",
       "2                  557.323                   3026.4    0    0    0    0    0   \n",
       "3                  318.880                   1934.2    1    0    0    0    0   \n",
       "4                  719.983                   2706.7    0    0    0    0    0   \n",
       "\n",
       "   m_6  m_7  m_8  ...  d_0  d_1  d_2  d_3  d_4  d_5  d_6  \\\n",
       "0    0    1    0  ...    0    0    0    0    0    0    1   \n",
       "1    0    0    0  ...    0    0    0    1    0    0    0   \n",
       "2    0    0    0  ...    0    0    0    0    1    0    0   \n",
       "3    0    0    0  ...    1    0    0    0    0    0    0   \n",
       "4    0    0    0  ...    0    0    0    0    0    1    0   \n",
       "\n",
       "   delta_status_preceding_selection-selection  location_of_the_event  \\\n",
       "0                                        2027                  148.0   \n",
       "1                                       28233                  136.0   \n",
       "2                                        1981                  139.0   \n",
       "3                                        1842                  136.0   \n",
       "4                                        2716                  104.0   \n",
       "\n",
       "   rescue_center  \n",
       "0           2447  \n",
       "1           2464  \n",
       "2           2438  \n",
       "3           2510  \n",
       "4           2478  \n",
       "\n",
       "[5 rows x 59 columns]"
      ]
     },
     "execution_count": 43,
     "metadata": {},
     "output_type": "execute_result"
    }
   ],
   "source": [
    "Train_Master.head()"
   ]
  },
  {
   "cell_type": "markdown",
   "metadata": {},
   "source": [
    "# 3. Implementation of the models"
   ]
  },
  {
   "cell_type": "markdown",
   "metadata": {},
   "source": [
    "### Polynomial regression implementation"
   ]
  },
  {
   "cell_type": "markdown",
   "metadata": {},
   "source": [
    "This is the starting code provided by the challenge organizer"
   ]
  },
  {
   "cell_type": "code",
   "execution_count": null,
   "metadata": {
    "scrolled": true
   },
   "outputs": [],
   "source": [
    "# Data reading\n",
    "x_train_transit = x_train[['OSRM estimated distance','intervention on public roads','floor']]\n",
    "y_train_transit = y_train[['delta departure-presentation']]\n",
    "x_test_transit = x_test[['OSRM estimated distance','intervention on public roads','floor']]\n",
    "\n",
    "# Create a predictive model for the 'delta departure-presentation'\n",
    "# based on 'OSRM estimated distance', 'intervention on public roads' and 'floor'\n",
    "polynomial_features= PolynomialFeatures(degree=3)\n",
    "x_train_transit_poly = polynomial_features.fit_transform(x_train_transit)\n",
    "model = LinearRegression()\n",
    "model.fit(x_train_transit_poly, y_train_transit)\n",
    "\n",
    "# Prediction of the 'delta selection-presentation'\n",
    "x_test_transit_poly = polynomial_features.fit_transform(x_test_transit)\n",
    "y_selection_presentation_predicted = y_train['delta selection-departure'].median() + model.predict(x_test_transit_poly)\n",
    "\n",
    "# Create a submission file\n",
    "submission = pd.concat([pd.DataFrame(x_test[['emergency vehicle selection']].values), \n",
    "           pd.DataFrame(np.full((len(x_test), 1), y_train['delta selection-departure'].median())), \n",
    "           pd.DataFrame(model.predict(x_test_transit_poly)), \n",
    "           pd.DataFrame(y_selection_presentation_predicted)], \n",
    "           axis=1)\n",
    "\n",
    "submission.columns = list(y_train.columns.values)\n",
    "submission.set_index('emergency vehicle selection', inplace=True)\n",
    "submission.to_csv('./submission.csv', sep=\",\")"
   ]
  },
  {
   "cell_type": "code",
   "execution_count": null,
   "metadata": {},
   "outputs": [],
   "source": [
    "f, ax = plt.subplots(figsize=(10,10))\n",
    "plt.hist(y_selection_presentation_predicted, bins=50)\n",
    "plt.xlabel('Temps en secondes')\n",
    "plt.ylabel('Nombre ')\n",
    "plt.plot()"
   ]
  },
  {
   "cell_type": "markdown",
   "metadata": {},
   "source": [
    "### Lasso implementation"
   ]
  },
  {
   "cell_type": "code",
   "execution_count": 47,
   "metadata": {},
   "outputs": [
    {
     "data": {
      "text/html": [
       "<div>\n",
       "<style scoped>\n",
       "    .dataframe tbody tr th:only-of-type {\n",
       "        vertical-align: middle;\n",
       "    }\n",
       "\n",
       "    .dataframe tbody tr th {\n",
       "        vertical-align: top;\n",
       "    }\n",
       "\n",
       "    .dataframe thead th {\n",
       "        text-align: right;\n",
       "    }\n",
       "</style>\n",
       "<table border=\"1\" class=\"dataframe\">\n",
       "  <thead>\n",
       "    <tr style=\"text-align: right;\">\n",
       "      <th></th>\n",
       "      <th>OSRM_estimated_duration</th>\n",
       "      <th>OSRM_estimated_distance</th>\n",
       "      <th>m_1</th>\n",
       "      <th>m_2</th>\n",
       "      <th>m_3</th>\n",
       "      <th>m_4</th>\n",
       "      <th>m_5</th>\n",
       "      <th>m_6</th>\n",
       "      <th>m_7</th>\n",
       "      <th>m_8</th>\n",
       "      <th>...</th>\n",
       "      <th>intervention_on_public_roads</th>\n",
       "      <th>d_0</th>\n",
       "      <th>d_1</th>\n",
       "      <th>d_2</th>\n",
       "      <th>d_3</th>\n",
       "      <th>d_4</th>\n",
       "      <th>d_5</th>\n",
       "      <th>d_6</th>\n",
       "      <th>delta_status_preceding_selection-selection</th>\n",
       "      <th>rescue_center</th>\n",
       "    </tr>\n",
       "  </thead>\n",
       "  <tbody>\n",
       "    <tr>\n",
       "      <th>0</th>\n",
       "      <td>336.500</td>\n",
       "      <td>3266.8</td>\n",
       "      <td>0</td>\n",
       "      <td>0</td>\n",
       "      <td>0</td>\n",
       "      <td>0</td>\n",
       "      <td>0</td>\n",
       "      <td>0</td>\n",
       "      <td>0</td>\n",
       "      <td>0</td>\n",
       "      <td>...</td>\n",
       "      <td>0</td>\n",
       "      <td>0</td>\n",
       "      <td>1</td>\n",
       "      <td>0</td>\n",
       "      <td>0</td>\n",
       "      <td>0</td>\n",
       "      <td>0</td>\n",
       "      <td>0</td>\n",
       "      <td>953</td>\n",
       "      <td>2483</td>\n",
       "    </tr>\n",
       "    <tr>\n",
       "      <th>1</th>\n",
       "      <td>466.503</td>\n",
       "      <td>2710.3</td>\n",
       "      <td>0</td>\n",
       "      <td>0</td>\n",
       "      <td>0</td>\n",
       "      <td>0</td>\n",
       "      <td>0</td>\n",
       "      <td>0</td>\n",
       "      <td>1</td>\n",
       "      <td>0</td>\n",
       "      <td>...</td>\n",
       "      <td>0</td>\n",
       "      <td>0</td>\n",
       "      <td>1</td>\n",
       "      <td>0</td>\n",
       "      <td>0</td>\n",
       "      <td>0</td>\n",
       "      <td>0</td>\n",
       "      <td>0</td>\n",
       "      <td>1906</td>\n",
       "      <td>2462</td>\n",
       "    </tr>\n",
       "    <tr>\n",
       "      <th>2</th>\n",
       "      <td>85.100</td>\n",
       "      <td>914.2</td>\n",
       "      <td>0</td>\n",
       "      <td>0</td>\n",
       "      <td>0</td>\n",
       "      <td>0</td>\n",
       "      <td>0</td>\n",
       "      <td>0</td>\n",
       "      <td>1</td>\n",
       "      <td>0</td>\n",
       "      <td>...</td>\n",
       "      <td>1</td>\n",
       "      <td>1</td>\n",
       "      <td>0</td>\n",
       "      <td>0</td>\n",
       "      <td>0</td>\n",
       "      <td>0</td>\n",
       "      <td>0</td>\n",
       "      <td>0</td>\n",
       "      <td>654</td>\n",
       "      <td>2482</td>\n",
       "    </tr>\n",
       "    <tr>\n",
       "      <th>3</th>\n",
       "      <td>167.800</td>\n",
       "      <td>1124.2</td>\n",
       "      <td>0</td>\n",
       "      <td>0</td>\n",
       "      <td>0</td>\n",
       "      <td>0</td>\n",
       "      <td>0</td>\n",
       "      <td>0</td>\n",
       "      <td>0</td>\n",
       "      <td>0</td>\n",
       "      <td>...</td>\n",
       "      <td>0</td>\n",
       "      <td>1</td>\n",
       "      <td>0</td>\n",
       "      <td>0</td>\n",
       "      <td>0</td>\n",
       "      <td>0</td>\n",
       "      <td>0</td>\n",
       "      <td>0</td>\n",
       "      <td>10816</td>\n",
       "      <td>2450</td>\n",
       "    </tr>\n",
       "    <tr>\n",
       "      <th>4</th>\n",
       "      <td>244.000</td>\n",
       "      <td>1542.7</td>\n",
       "      <td>0</td>\n",
       "      <td>0</td>\n",
       "      <td>0</td>\n",
       "      <td>0</td>\n",
       "      <td>0</td>\n",
       "      <td>0</td>\n",
       "      <td>0</td>\n",
       "      <td>1</td>\n",
       "      <td>...</td>\n",
       "      <td>1</td>\n",
       "      <td>0</td>\n",
       "      <td>0</td>\n",
       "      <td>0</td>\n",
       "      <td>0</td>\n",
       "      <td>0</td>\n",
       "      <td>0</td>\n",
       "      <td>1</td>\n",
       "      <td>3219</td>\n",
       "      <td>2493</td>\n",
       "    </tr>\n",
       "  </tbody>\n",
       "</table>\n",
       "<p>5 rows × 58 columns</p>\n",
       "</div>"
      ],
      "text/plain": [
       "   OSRM_estimated_duration  OSRM_estimated_distance  m_1  m_2  m_3  m_4  m_5  \\\n",
       "0                  336.500                   3266.8    0    0    0    0    0   \n",
       "1                  466.503                   2710.3    0    0    0    0    0   \n",
       "2                   85.100                    914.2    0    0    0    0    0   \n",
       "3                  167.800                   1124.2    0    0    0    0    0   \n",
       "4                  244.000                   1542.7    0    0    0    0    0   \n",
       "\n",
       "   m_6  m_7  m_8  ...  intervention_on_public_roads  d_0  d_1  d_2  d_3  d_4  \\\n",
       "0    0    0    0  ...                             0    0    1    0    0    0   \n",
       "1    0    1    0  ...                             0    0    1    0    0    0   \n",
       "2    0    1    0  ...                             1    1    0    0    0    0   \n",
       "3    0    0    0  ...                             0    1    0    0    0    0   \n",
       "4    0    0    1  ...                             1    0    0    0    0    0   \n",
       "\n",
       "   d_5  d_6  delta_status_preceding_selection-selection  rescue_center  \n",
       "0    0    0                                         953           2483  \n",
       "1    0    0                                        1906           2462  \n",
       "2    0    0                                         654           2482  \n",
       "3    0    0                                       10816           2450  \n",
       "4    0    1                                        3219           2493  \n",
       "\n",
       "[5 rows x 58 columns]"
      ]
     },
     "execution_count": 47,
     "metadata": {},
     "output_type": "execute_result"
    }
   ],
   "source": [
    "Train_Lasso=Train_Master.drop(['location_of_the_event'],axis=1)\n",
    "Test_Lasso=0\n",
    "Test_Lasso=Test_Master.drop(['location_of_the_event'],axis=1)\n",
    "Test_Lasso.head()"
   ]
  },
  {
   "cell_type": "code",
   "execution_count": 49,
   "metadata": {},
   "outputs": [],
   "source": [
    "y_transit_selection=y_train['delta_selection-departure']\n",
    "y_transit_presentation=y_train['delta_departure-presentation']\n",
    "X_train, X_test, Y_train, Y_test=train_test_split(Train_Lasso, y_transit_selection, test_size=0.20)"
   ]
  },
  {
   "cell_type": "code",
   "execution_count": 50,
   "metadata": {},
   "outputs": [
    {
     "name": "stdout",
     "output_type": "stream",
     "text": [
      "(218984, 58) (218984,)\n"
     ]
    }
   ],
   "source": [
    "print(Train_Lasso.shape,y_transit_selection.shape)"
   ]
  },
  {
   "cell_type": "code",
   "execution_count": 51,
   "metadata": {},
   "outputs": [],
   "source": [
    "from sklearn.linear_model import Lasso\n",
    "\n",
    "model_lasso=Lasso(alpha=0.001)\n",
    "model_lasso.fit(X_train,Y_train)\n",
    "Y_pred=model_lasso.predict(X_test)"
   ]
  },
  {
   "cell_type": "code",
   "execution_count": 52,
   "metadata": {},
   "outputs": [
    {
     "data": {
      "text/plain": [
       "0.183458209235004"
      ]
     },
     "execution_count": 52,
     "metadata": {},
     "output_type": "execute_result"
    }
   ],
   "source": [
    "r2_score(Y_test,Y_pred)"
   ]
  },
  {
   "cell_type": "code",
   "execution_count": 53,
   "metadata": {},
   "outputs": [
    {
     "name": "stdout",
     "output_type": "stream",
     "text": [
      "(218984, 58) (108033, 58)\n"
     ]
    }
   ],
   "source": [
    "print(Train_Lasso.shape,Test_Lasso.shape)"
   ]
  },
  {
   "cell_type": "markdown",
   "metadata": {},
   "source": [
    "We now create the Y_test dataset"
   ]
  },
  {
   "cell_type": "code",
   "execution_count": 54,
   "metadata": {},
   "outputs": [],
   "source": [
    "y_transit_selection=y_train['delta_selection-departure']\n",
    "y_transit_presentation=y_train['delta_departure-presentation']\n",
    "\n",
    "# For selection\n",
    "model_lasso=Lasso(alpha=0.1)\n",
    "model_lasso.fit(Train_Lasso,y_transit_selection)\n",
    "Y_selection_pred=model_lasso.predict(Test_Lasso)\n",
    "\n",
    "# For presentation\n",
    "model_lasso_=Lasso(alpha=0.1)\n",
    "model_lasso.fit(Train_Lasso,y_transit_presentation)\n",
    "Y_presentation_pred=model_lasso.predict(Test_Lasso)\n",
    "Y_pred=Y_selection_pred+Y_presentation_pred"
   ]
  },
  {
   "cell_type": "code",
   "execution_count": 55,
   "metadata": {},
   "outputs": [
    {
     "data": {
      "text/plain": [
       "(108033, 58)"
      ]
     },
     "execution_count": 55,
     "metadata": {},
     "output_type": "execute_result"
    }
   ],
   "source": [
    "Test_Lasso.shape"
   ]
  },
  {
   "cell_type": "code",
   "execution_count": 56,
   "metadata": {},
   "outputs": [],
   "source": [
    "# Create a submission file\n",
    "submission = pd.concat([pd.DataFrame(x_test['emergency_vehicle_selection'].values), \\\n",
    "           pd.DataFrame(Y_selection_pred), \\\n",
    "           pd.DataFrame(Y_presentation_pred), \\\n",
    "           pd.DataFrame(Y_pred)], \\\n",
    "           axis=1)\n",
    "\n",
    "submission.columns = list(y_train.columns.values)\n",
    "submission.set_index('emergency_vehicle_selection', inplace=True)\n",
    "submission.to_csv('./Y_test_Lasso.csv', sep=\",\")"
   ]
  },
  {
   "cell_type": "code",
   "execution_count": 57,
   "metadata": {},
   "outputs": [
    {
     "data": {
      "text/html": [
       "<div>\n",
       "<style scoped>\n",
       "    .dataframe tbody tr th:only-of-type {\n",
       "        vertical-align: middle;\n",
       "    }\n",
       "\n",
       "    .dataframe tbody tr th {\n",
       "        vertical-align: top;\n",
       "    }\n",
       "\n",
       "    .dataframe thead th {\n",
       "        text-align: right;\n",
       "    }\n",
       "</style>\n",
       "<table border=\"1\" class=\"dataframe\">\n",
       "  <thead>\n",
       "    <tr style=\"text-align: right;\">\n",
       "      <th></th>\n",
       "      <th>delta_selection-departure</th>\n",
       "      <th>delta_departure-presentation</th>\n",
       "      <th>delta_selection-presentation</th>\n",
       "    </tr>\n",
       "    <tr>\n",
       "      <th>emergency_vehicle_selection</th>\n",
       "      <th></th>\n",
       "      <th></th>\n",
       "      <th></th>\n",
       "    </tr>\n",
       "  </thead>\n",
       "  <tbody>\n",
       "    <tr>\n",
       "      <th>5271704</th>\n",
       "      <td>125.140627</td>\n",
       "      <td>428.700075</td>\n",
       "      <td>553.840703</td>\n",
       "    </tr>\n",
       "    <tr>\n",
       "      <th>5092931</th>\n",
       "      <td>117.241649</td>\n",
       "      <td>340.932911</td>\n",
       "      <td>458.174560</td>\n",
       "    </tr>\n",
       "    <tr>\n",
       "      <th>5153756</th>\n",
       "      <td>118.313079</td>\n",
       "      <td>226.538743</td>\n",
       "      <td>344.851823</td>\n",
       "    </tr>\n",
       "    <tr>\n",
       "      <th>5355572</th>\n",
       "      <td>184.627913</td>\n",
       "      <td>301.930832</td>\n",
       "      <td>486.558745</td>\n",
       "    </tr>\n",
       "    <tr>\n",
       "      <th>5178915</th>\n",
       "      <td>131.541895</td>\n",
       "      <td>309.846298</td>\n",
       "      <td>441.388193</td>\n",
       "    </tr>\n",
       "  </tbody>\n",
       "</table>\n",
       "</div>"
      ],
      "text/plain": [
       "                             delta_selection-departure  \\\n",
       "emergency_vehicle_selection                              \n",
       "5271704                                     125.140627   \n",
       "5092931                                     117.241649   \n",
       "5153756                                     118.313079   \n",
       "5355572                                     184.627913   \n",
       "5178915                                     131.541895   \n",
       "\n",
       "                             delta_departure-presentation  \\\n",
       "emergency_vehicle_selection                                 \n",
       "5271704                                        428.700075   \n",
       "5092931                                        340.932911   \n",
       "5153756                                        226.538743   \n",
       "5355572                                        301.930832   \n",
       "5178915                                        309.846298   \n",
       "\n",
       "                             delta_selection-presentation  \n",
       "emergency_vehicle_selection                                \n",
       "5271704                                        553.840703  \n",
       "5092931                                        458.174560  \n",
       "5153756                                        344.851823  \n",
       "5355572                                        486.558745  \n",
       "5178915                                        441.388193  "
      ]
     },
     "execution_count": 57,
     "metadata": {},
     "output_type": "execute_result"
    }
   ],
   "source": [
    "submission.head()"
   ]
  },
  {
   "cell_type": "markdown",
   "metadata": {},
   "source": [
    "### XGBoost implementation"
   ]
  },
  {
   "cell_type": "code",
   "execution_count": 58,
   "metadata": {},
   "outputs": [],
   "source": [
    "# selection-departure\n",
    "y_train_selection=np.array(y_train[['delta_selection-departure']]).flatten()\n",
    "# departure-presentation\n",
    "y_train_presentation=np.array(y_train[['delta_departure-presentation']]).flatten()\n",
    "\n",
    "# for selection_departure model\n",
    "X_Train1, X_Test1, Y_Train1,Y_Test1 = train_test_split(Train_Master,y_train_selection, test_size = 0.1)\n",
    "\n",
    "# for departure_presentation model\n",
    "X_Train2, X_Test2, Y_Train2,Y_Test2 = train_test_split(Train_Master,y_train_presentation, test_size = 0.1)"
   ]
  },
  {
   "cell_type": "code",
   "execution_count": 59,
   "metadata": {},
   "outputs": [],
   "source": [
    "import xgboost as xgb\n",
    "\n",
    "# Conversion of the training and validation data into DMatrix (type required for xgb to work)\n",
    "dtrain1 = xgb.DMatrix(X_Train1, label=Y_Train1)\n",
    "dvalid1 = xgb.DMatrix(X_Test1, label=Y_Test1)\n",
    "watchlist1 = [(dtrain1, 'train'), (dvalid1, 'valid')]\n",
    "\n",
    "dtrain2 = xgb.DMatrix(X_Train2, label=Y_Train2)\n",
    "dvalid2 = xgb.DMatrix(X_Test2, label=Y_Test2)\n",
    "watchlist2 = [(dtrain2, 'train'), (dvalid2, 'valid')]\n",
    "\n",
    "dtest= xgb.DMatrix(Test_Master)"
   ]
  },
  {
   "cell_type": "markdown",
   "metadata": {},
   "source": [
    "We now train the model"
   ]
  },
  {
   "cell_type": "code",
   "execution_count": 60,
   "metadata": {
    "scrolled": false
   },
   "outputs": [
    {
     "name": "stdout",
     "output_type": "stream",
     "text": [
      "[0]\ttrain-rmse:110.552\tvalid-rmse:109.673\n",
      "Multiple eval metrics have been passed: 'valid-rmse' will be used for early stopping.\n",
      "\n",
      "Will train until valid-rmse hasn't improved in 2 rounds.\n",
      "[1]\ttrain-rmse:85.7335\tvalid-rmse:84.8707\n",
      "[2]\ttrain-rmse:70.2769\tvalid-rmse:69.5284\n",
      "[3]\ttrain-rmse:60.8839\tvalid-rmse:60.3172\n",
      "[4]\ttrain-rmse:55.6703\tvalid-rmse:55.2626\n",
      "[5]\ttrain-rmse:52.8219\tvalid-rmse:52.5596\n",
      "[6]\ttrain-rmse:51.0062\tvalid-rmse:50.8857\n",
      "[7]\ttrain-rmse:50.1228\tvalid-rmse:50.0891\n",
      "[8]\ttrain-rmse:49.4957\tvalid-rmse:49.5967\n",
      "[9]\ttrain-rmse:49.0086\tvalid-rmse:49.1876\n",
      "[10]\ttrain-rmse:48.8097\tvalid-rmse:49.0291\n",
      "[11]\ttrain-rmse:48.6295\tvalid-rmse:48.9007\n",
      "[12]\ttrain-rmse:48.4005\tvalid-rmse:48.7447\n",
      "[13]\ttrain-rmse:48.2842\tvalid-rmse:48.6701\n",
      "[14]\ttrain-rmse:48.1863\tvalid-rmse:48.6272\n",
      "[15]\ttrain-rmse:48.1176\tvalid-rmse:48.5939\n",
      "[16]\ttrain-rmse:48.0238\tvalid-rmse:48.5509\n",
      "[17]\ttrain-rmse:47.906\tvalid-rmse:48.4408\n",
      "[18]\ttrain-rmse:47.8246\tvalid-rmse:48.3915\n",
      "[19]\ttrain-rmse:47.7651\tvalid-rmse:48.3752\n",
      "[20]\ttrain-rmse:47.7211\tvalid-rmse:48.3489\n",
      "[21]\ttrain-rmse:47.6041\tvalid-rmse:48.2638\n",
      "[22]\ttrain-rmse:47.5537\tvalid-rmse:48.2453\n",
      "[23]\ttrain-rmse:47.5072\tvalid-rmse:48.2246\n",
      "[24]\ttrain-rmse:47.4477\tvalid-rmse:48.1979\n",
      "[25]\ttrain-rmse:47.4032\tvalid-rmse:48.1997\n",
      "[26]\ttrain-rmse:47.3726\tvalid-rmse:48.1879\n",
      "[27]\ttrain-rmse:47.335\tvalid-rmse:48.1892\n",
      "[28]\ttrain-rmse:47.2412\tvalid-rmse:48.1151\n",
      "[29]\ttrain-rmse:47.1904\tvalid-rmse:48.0967\n",
      "[30]\ttrain-rmse:47.1561\tvalid-rmse:48.0723\n",
      "[31]\ttrain-rmse:47.1309\tvalid-rmse:48.0561\n",
      "[32]\ttrain-rmse:47.0527\tvalid-rmse:48.0081\n",
      "[33]\ttrain-rmse:47.0153\tvalid-rmse:48.0125\n",
      "[34]\ttrain-rmse:46.9386\tvalid-rmse:47.9658\n",
      "[35]\ttrain-rmse:46.9089\tvalid-rmse:47.9589\n",
      "[36]\ttrain-rmse:46.8554\tvalid-rmse:47.9242\n",
      "[37]\ttrain-rmse:46.8193\tvalid-rmse:47.9085\n",
      "[38]\ttrain-rmse:46.7941\tvalid-rmse:47.9079\n",
      "[39]\ttrain-rmse:46.76\tvalid-rmse:47.9111\n",
      "[40]\ttrain-rmse:46.7318\tvalid-rmse:47.9063\n",
      "[41]\ttrain-rmse:46.6731\tvalid-rmse:47.8744\n",
      "[42]\ttrain-rmse:46.6377\tvalid-rmse:47.8659\n",
      "[43]\ttrain-rmse:46.6069\tvalid-rmse:47.8567\n",
      "[44]\ttrain-rmse:46.5736\tvalid-rmse:47.8721\n",
      "[45]\ttrain-rmse:46.5341\tvalid-rmse:47.871\n",
      "Stopping. Best iteration:\n",
      "[43]\ttrain-rmse:46.6069\tvalid-rmse:47.8567\n",
      "\n",
      "Modeling RMSLE 47.85666\n",
      "[0]\ttrain-rmse:294.916\tvalid-rmse:292.969\n",
      "Multiple eval metrics have been passed: 'valid-rmse' will be used for early stopping.\n",
      "\n",
      "Will train until valid-rmse hasn't improved in 5 rounds.\n",
      "[1]\ttrain-rmse:228.005\tvalid-rmse:226.269\n",
      "[2]\ttrain-rmse:186.169\tvalid-rmse:184.68\n",
      "[3]\ttrain-rmse:161.333\tvalid-rmse:160.072\n",
      "[4]\ttrain-rmse:147.549\tvalid-rmse:146.492\n",
      "[5]\ttrain-rmse:140.01\tvalid-rmse:139.165\n",
      "[6]\ttrain-rmse:135.97\tvalid-rmse:135.432\n",
      "[7]\ttrain-rmse:133.753\tvalid-rmse:133.324\n",
      "[8]\ttrain-rmse:132.524\tvalid-rmse:132.298\n",
      "[9]\ttrain-rmse:131.751\tvalid-rmse:131.724\n",
      "[10]\ttrain-rmse:131.288\tvalid-rmse:131.392\n",
      "[11]\ttrain-rmse:130.919\tvalid-rmse:131.1\n",
      "[12]\ttrain-rmse:130.664\tvalid-rmse:131.002\n",
      "[13]\ttrain-rmse:130.276\tvalid-rmse:130.684\n",
      "[14]\ttrain-rmse:130.065\tvalid-rmse:130.643\n",
      "[15]\ttrain-rmse:129.878\tvalid-rmse:130.506\n",
      "[16]\ttrain-rmse:129.717\tvalid-rmse:130.376\n",
      "[17]\ttrain-rmse:129.507\tvalid-rmse:130.286\n",
      "[18]\ttrain-rmse:129.372\tvalid-rmse:130.242\n",
      "[19]\ttrain-rmse:129.222\tvalid-rmse:130.107\n",
      "[20]\ttrain-rmse:129.052\tvalid-rmse:130.03\n",
      "[21]\ttrain-rmse:128.967\tvalid-rmse:129.993\n",
      "[22]\ttrain-rmse:128.743\tvalid-rmse:129.84\n",
      "[23]\ttrain-rmse:128.611\tvalid-rmse:129.767\n",
      "[24]\ttrain-rmse:128.513\tvalid-rmse:129.763\n",
      "[25]\ttrain-rmse:128.405\tvalid-rmse:129.725\n",
      "[26]\ttrain-rmse:128.289\tvalid-rmse:129.674\n",
      "[27]\ttrain-rmse:128.172\tvalid-rmse:129.655\n",
      "[28]\ttrain-rmse:128.081\tvalid-rmse:129.615\n",
      "[29]\ttrain-rmse:128.034\tvalid-rmse:129.608\n",
      "[30]\ttrain-rmse:127.929\tvalid-rmse:129.575\n",
      "[31]\ttrain-rmse:127.786\tvalid-rmse:129.594\n",
      "[32]\ttrain-rmse:127.649\tvalid-rmse:129.548\n",
      "[33]\ttrain-rmse:127.574\tvalid-rmse:129.537\n",
      "[34]\ttrain-rmse:127.497\tvalid-rmse:129.533\n",
      "[35]\ttrain-rmse:127.374\tvalid-rmse:129.513\n",
      "[36]\ttrain-rmse:127.224\tvalid-rmse:129.445\n",
      "[37]\ttrain-rmse:127.122\tvalid-rmse:129.399\n",
      "[38]\ttrain-rmse:127.067\tvalid-rmse:129.363\n",
      "[39]\ttrain-rmse:126.982\tvalid-rmse:129.369\n",
      "[40]\ttrain-rmse:126.87\tvalid-rmse:129.298\n",
      "[41]\ttrain-rmse:126.718\tvalid-rmse:129.258\n",
      "[42]\ttrain-rmse:126.655\tvalid-rmse:129.255\n",
      "[43]\ttrain-rmse:126.551\tvalid-rmse:129.205\n",
      "[44]\ttrain-rmse:126.469\tvalid-rmse:129.224\n",
      "[45]\ttrain-rmse:126.432\tvalid-rmse:129.212\n",
      "[46]\ttrain-rmse:126.349\tvalid-rmse:129.19\n",
      "[47]\ttrain-rmse:126.274\tvalid-rmse:129.19\n",
      "[48]\ttrain-rmse:126.155\tvalid-rmse:129.148\n",
      "[49]\ttrain-rmse:126.024\tvalid-rmse:129.104\n",
      "Modeling RMSLE 129.10437\n"
     ]
    }
   ],
   "source": [
    "xgb_pars = {'min_child_weight': 1, 'eta': 0.3, 'colsample_bytree': 0.9, \n",
    "            'max_depth': 6,\n",
    "'subsample': 0.9, 'lambda': 2, 'nthread': -1, 'booster' : 'gbtree', 'silent': 1,\n",
    "'eval_metric': 'rmse', 'objective': 'reg:linear'}\n",
    "\n",
    "# selection-departure model\n",
    "model1 = xgb.train(xgb_pars, dtrain1, 50, watchlist1, early_stopping_rounds=2,\n",
    "      maximize=False, verbose_eval=1)\n",
    "print('Modeling RMSLE %.5f' % model1.best_score)\n",
    "\n",
    "# departure-presentation model\n",
    "model2 = xgb.train(xgb_pars, dtrain2, 50, watchlist2, early_stopping_rounds=5,\n",
    "      maximize=False, verbose_eval=1)\n",
    "print('Modeling RMSLE %.5f' % model2.best_score)"
   ]
  },
  {
   "cell_type": "code",
   "execution_count": 63,
   "metadata": {},
   "outputs": [
    {
     "data": {
      "text/plain": [
       "<matplotlib.axes._subplots.AxesSubplot at 0x7f7574df0160>"
      ]
     },
     "execution_count": 63,
     "metadata": {},
     "output_type": "execute_result"
    },
    {
     "data": {
      "image/png": "[encoded data removed]",
      "text/plain": [
       "<Figure size 432x288 with 1 Axes>"
      ]
     },
     "metadata": {
      "needs_background": "light"
     },
     "output_type": "display_data"
    },
    {
     "data": {
      "image/png": "[encoded data removed]",
      "text/plain": [
       "<Figure size 432x288 with 1 Axes>"
      ]
     },
     "metadata": {
      "needs_background": "light"
     },
     "output_type": "display_data"
    }
   ],
   "source": [
    "# plots of the features' importances\n",
    "xgb.plot_importance(model1, max_num_features=28, height=0.7,\n",
    "                    title='Feature importance for the model selection-departure ')\n",
    "\n",
    "xgb.plot_importance(model2, max_num_features=28, height=0.7,\n",
    "                    title='Feature importance for the model departure-presentation ')"
   ]
  },
  {
   "cell_type": "markdown",
   "metadata": {},
   "source": [
    "Prediction with the trained models"
   ]
  },
  {
   "cell_type": "code",
   "execution_count": 64,
   "metadata": {},
   "outputs": [
    {
     "name": "stdout",
     "output_type": "stream",
     "text": [
      "(21899,) (21899,) (21899,) (21899,)\n"
     ]
    }
   ],
   "source": [
    "# selection_departure prediction\n",
    "pred_selec = model1.predict(dvalid1)\n",
    "\n",
    "# departure-presentation prediction\n",
    "pred_presentation = model2.predict(dvalid2)\n",
    "\n",
    "print(pred_selec.shape,pred_presentation.shape,Y_Test1.shape,Y_Test2.shape)"
   ]
  },
  {
   "cell_type": "code",
   "execution_count": 65,
   "metadata": {},
   "outputs": [],
   "source": [
    "# Gathering the total prediction\n",
    "Y_pred=pred_selec+pred_presentation\n",
    "Y_valid=Y_Test1+Y_Test2"
   ]
  },
  {
   "cell_type": "code",
   "execution_count": 66,
   "metadata": {},
   "outputs": [
    {
     "name": "stdout",
     "output_type": "stream",
     "text": [
      "Le r2_score pour le modèle selection_departure est: 0.26819954845231575\n",
      "Le r2_score pour le modèle departure_presentation est: 0.4951317310014304\n",
      "Le r2_score total est: 0.4736380579411785\n"
     ]
    }
   ],
   "source": [
    "# Printing the r2 scores\n",
    "print(\"Le r2_score pour le modèle selection_departure est:\",r2_score(Y_Test1,pred_selec))\n",
    "print(\"Le r2_score pour le modèle departure_presentation est:\",r2_score(Y_Test2,pred_presentation))\n",
    "print(\"Le r2_score total est:\",r2_score(Y_valid,Y_pred))"
   ]
  },
  {
   "cell_type": "code",
   "execution_count": 67,
   "metadata": {},
   "outputs": [
    {
     "data": {
      "text/plain": [
       "[]"
      ]
     },
     "execution_count": 67,
     "metadata": {},
     "output_type": "execute_result"
    },
    {
     "data": {
      "image/png": "[encoded data removed]",
      "text/plain": [
       "<Figure size 1440x720 with 1 Axes>"
      ]
     },
     "metadata": {
      "needs_background": "light"
     },
     "output_type": "display_data"
    }
   ],
   "source": [
    "# Profile of the predictions\n",
    "f, ax = plt.subplots(figsize=(20,10))\n",
    "plt.hist(Y_Test1,bins=7000,color='blue',histtype='step')\n",
    "plt.hist(pred_selec,bins=500,color='red',histtype='step')\n",
    "ax.set_xlim(0,800)\n",
    "plt.xlabel('Temps en secondes')\n",
    "plt.ylabel(' Nombre ')\n",
    "plt.plot()"
   ]
  },
  {
   "cell_type": "markdown",
   "metadata": {},
   "source": [
    "We now generate the Y_test"
   ]
  },
  {
   "cell_type": "code",
   "execution_count": 68,
   "metadata": {},
   "outputs": [
    {
     "name": "stdout",
     "output_type": "stream",
     "text": [
      "(108033,)\n"
     ]
    }
   ],
   "source": [
    "Y_Test_selection_pred = model1.predict(dtest)\n",
    "Y_Test_presentation_pred= model2.predict(dtest)\n",
    "Y_Test_pred=Y_Test_selection_pred+Y_Test_presentation_pred\n",
    "\n",
    "print(Y_Test_pred.shape)"
   ]
  },
  {
   "cell_type": "code",
   "execution_count": 69,
   "metadata": {},
   "outputs": [],
   "source": [
    "# Create a submission file\n",
    "submission = pd.concat([pd.DataFrame(x_test['emergency_vehicle_selection'].values), \\\n",
    "           pd.DataFrame(Y_Test_selection_pred), \\\n",
    "           pd.DataFrame(Y_Test_presentation_pred), \\\n",
    "           pd.DataFrame(Y_Test_pred)], \\\n",
    "           axis=1)\n",
    "\n",
    "submission.columns = list(y_train.columns.values)\n",
    "submission.set_index('emergency_vehicle_selection', inplace=True)\n",
    "submission.to_csv('./Y_test_xgb.csv', sep=\",\")"
   ]
  },
  {
   "cell_type": "markdown",
   "metadata": {},
   "source": [
    "### XGBoost implementation with prior logarithmic transformation"
   ]
  },
  {
   "cell_type": "code",
   "execution_count": 70,
   "metadata": {},
   "outputs": [],
   "source": [
    "# selection-departure time vector\n",
    "y_train_selection=np.array(y_train[['delta_selection-departure']]).flatten()\n",
    "# departure-presentation time vector\n",
    "y_train_presentation=np.array(y_train[['delta_departure-presentation']]).flatten()\n",
    "\n",
    "# logarithmic transformation\n",
    "y_train_selection=np.log(y_train_selection+1)\n",
    "y_train_presentation=np.log(y_train_presentation+1)\n",
    "\n",
    "# For selection-departure model\n",
    "X_Train1, X_Test1, Y_Train1,Y_Test1 = train_test_split(Train_Master,y_train_selection, test_size = 0.2)\n",
    "\n",
    "# For departure_presentation model\n",
    "X_Train2, X_Test2, Y_Train2,Y_Test2 = train_test_split(Train_Master,y_train_presentation, test_size = 0.2)"
   ]
  },
  {
   "cell_type": "code",
   "execution_count": 71,
   "metadata": {},
   "outputs": [],
   "source": [
    "# Conversion of the training and validation data into DMatrix (type required for xgb to work)\n",
    "dtrain1 = xgb.DMatrix(X_Train1, label=Y_Train1)\n",
    "dvalid1 = xgb.DMatrix(X_Test1, label=Y_Test1)\n",
    "watchlist1 = [(dtrain1, 'train'), (dvalid1, 'valid')]\n",
    "\n",
    "\n",
    "dtrain2 = xgb.DMatrix(X_Train2, label=Y_Train2)\n",
    "dvalid2 = xgb.DMatrix(X_Test2, label=Y_Test2)\n",
    "watchlist2 = [(dtrain2, 'train'), (dvalid2, 'valid')]"
   ]
  },
  {
   "cell_type": "markdown",
   "metadata": {},
   "source": [
    "We now train the model"
   ]
  },
  {
   "cell_type": "code",
   "execution_count": 72,
   "metadata": {},
   "outputs": [
    {
     "name": "stdout",
     "output_type": "stream",
     "text": [
      "[0]\ttrain-rmse:3.07569\tvalid-rmse:3.07524\n",
      "Multiple eval metrics have been passed: 'valid-rmse' will be used for early stopping.\n",
      "\n",
      "Will train until valid-rmse hasn't improved in 5 rounds.\n",
      "[1]\ttrain-rmse:2.17436\tvalid-rmse:2.17385\n",
      "[2]\ttrain-rmse:1.55147\tvalid-rmse:1.55097\n",
      "[3]\ttrain-rmse:1.12673\tvalid-rmse:1.1262\n",
      "[4]\ttrain-rmse:0.842891\tvalid-rmse:0.842545\n",
      "[5]\ttrain-rmse:0.65985\tvalid-rmse:0.659811\n",
      "[6]\ttrain-rmse:0.546416\tvalid-rmse:0.546613\n",
      "[7]\ttrain-rmse:0.480738\tvalid-rmse:0.481207\n",
      "[8]\ttrain-rmse:0.444969\tvalid-rmse:0.445707\n",
      "[9]\ttrain-rmse:0.425279\tvalid-rmse:0.426251\n",
      "[10]\ttrain-rmse:0.414652\tvalid-rmse:0.416011\n",
      "[11]\ttrain-rmse:0.409221\tvalid-rmse:0.410832\n",
      "[12]\ttrain-rmse:0.406068\tvalid-rmse:0.407971\n",
      "[13]\ttrain-rmse:0.404277\tvalid-rmse:0.406427\n",
      "[14]\ttrain-rmse:0.402477\tvalid-rmse:0.404965\n",
      "[15]\ttrain-rmse:0.401665\tvalid-rmse:0.404408\n",
      "[16]\ttrain-rmse:0.400096\tvalid-rmse:0.403176\n",
      "[17]\ttrain-rmse:0.399632\tvalid-rmse:0.4029\n",
      "[18]\ttrain-rmse:0.398762\tvalid-rmse:0.402331\n",
      "[19]\ttrain-rmse:0.39839\tvalid-rmse:0.402125\n",
      "[20]\ttrain-rmse:0.397971\tvalid-rmse:0.401892\n",
      "[21]\ttrain-rmse:0.397325\tvalid-rmse:0.401567\n",
      "[22]\ttrain-rmse:0.397041\tvalid-rmse:0.401429\n",
      "[23]\ttrain-rmse:0.396403\tvalid-rmse:0.401096\n",
      "[24]\ttrain-rmse:0.396058\tvalid-rmse:0.400865\n",
      "[25]\ttrain-rmse:0.395738\tvalid-rmse:0.400734\n",
      "[26]\ttrain-rmse:0.394986\tvalid-rmse:0.400365\n",
      "[27]\ttrain-rmse:0.394759\tvalid-rmse:0.40028\n",
      "[28]\ttrain-rmse:0.394214\tvalid-rmse:0.399958\n",
      "[29]\ttrain-rmse:0.39384\tvalid-rmse:0.39989\n",
      "[30]\ttrain-rmse:0.39338\tvalid-rmse:0.39972\n",
      "[31]\ttrain-rmse:0.392995\tvalid-rmse:0.399584\n",
      "[32]\ttrain-rmse:0.392478\tvalid-rmse:0.399345\n",
      "[33]\ttrain-rmse:0.392183\tvalid-rmse:0.3993\n",
      "[34]\ttrain-rmse:0.391943\tvalid-rmse:0.399187\n",
      "[35]\ttrain-rmse:0.391516\tvalid-rmse:0.399026\n",
      "[36]\ttrain-rmse:0.391186\tvalid-rmse:0.398896\n",
      "[37]\ttrain-rmse:0.390681\tvalid-rmse:0.398552\n",
      "[38]\ttrain-rmse:0.390455\tvalid-rmse:0.398537\n",
      "[39]\ttrain-rmse:0.389998\tvalid-rmse:0.398309\n",
      "[40]\ttrain-rmse:0.389678\tvalid-rmse:0.398182\n",
      "[41]\ttrain-rmse:0.389505\tvalid-rmse:0.398188\n",
      "[42]\ttrain-rmse:0.389237\tvalid-rmse:0.398223\n",
      "[43]\ttrain-rmse:0.388987\tvalid-rmse:0.398252\n",
      "[44]\ttrain-rmse:0.388686\tvalid-rmse:0.398116\n",
      "[45]\ttrain-rmse:0.38845\tvalid-rmse:0.398155\n",
      "[46]\ttrain-rmse:0.388119\tvalid-rmse:0.397915\n",
      "[47]\ttrain-rmse:0.387929\tvalid-rmse:0.397904\n",
      "[48]\ttrain-rmse:0.387479\tvalid-rmse:0.397775\n",
      "[49]\ttrain-rmse:0.387192\tvalid-rmse:0.397703\n",
      "Modeling RMSLE 0.39770\n",
      "[0]\ttrain-rmse:3.69963\tvalid-rmse:3.69971\n",
      "Multiple eval metrics have been passed: 'valid-rmse' will be used for early stopping.\n",
      "\n",
      "Will train until valid-rmse hasn't improved in 5 rounds.\n",
      "[1]\ttrain-rmse:2.60394\tvalid-rmse:2.6041\n",
      "[2]\ttrain-rmse:1.84202\tvalid-rmse:1.8423\n",
      "[3]\ttrain-rmse:1.31575\tvalid-rmse:1.316\n",
      "[4]\ttrain-rmse:0.957199\tvalid-rmse:0.957638\n",
      "[5]\ttrain-rmse:0.718904\tvalid-rmse:0.719767\n",
      "[6]\ttrain-rmse:0.565789\tvalid-rmse:0.566731\n",
      "[7]\ttrain-rmse:0.472508\tvalid-rmse:0.473708\n",
      "[8]\ttrain-rmse:0.419041\tvalid-rmse:0.420785\n",
      "[9]\ttrain-rmse:0.389458\tvalid-rmse:0.391602\n",
      "[10]\ttrain-rmse:0.373702\tvalid-rmse:0.376202\n",
      "[11]\ttrain-rmse:0.365485\tvalid-rmse:0.36816\n",
      "[12]\ttrain-rmse:0.361176\tvalid-rmse:0.364132\n",
      "[13]\ttrain-rmse:0.358791\tvalid-rmse:0.361873\n",
      "[14]\ttrain-rmse:0.357083\tvalid-rmse:0.360526\n",
      "[15]\ttrain-rmse:0.356175\tvalid-rmse:0.359851\n",
      "[16]\ttrain-rmse:0.355269\tvalid-rmse:0.359131\n",
      "[17]\ttrain-rmse:0.354628\tvalid-rmse:0.358982\n",
      "[18]\ttrain-rmse:0.354135\tvalid-rmse:0.358669\n",
      "[19]\ttrain-rmse:0.353687\tvalid-rmse:0.358368\n",
      "[20]\ttrain-rmse:0.352654\tvalid-rmse:0.357525\n",
      "[21]\ttrain-rmse:0.352353\tvalid-rmse:0.357396\n",
      "[22]\ttrain-rmse:0.351857\tvalid-rmse:0.357124\n",
      "[23]\ttrain-rmse:0.351498\tvalid-rmse:0.357013\n",
      "[24]\ttrain-rmse:0.351089\tvalid-rmse:0.356873\n",
      "[25]\ttrain-rmse:0.350906\tvalid-rmse:0.35679\n",
      "[26]\ttrain-rmse:0.350654\tvalid-rmse:0.35671\n",
      "[27]\ttrain-rmse:0.350271\tvalid-rmse:0.356481\n",
      "[28]\ttrain-rmse:0.349957\tvalid-rmse:0.356371\n",
      "[29]\ttrain-rmse:0.349544\tvalid-rmse:0.356219\n",
      "[30]\ttrain-rmse:0.349101\tvalid-rmse:0.356206\n",
      "[31]\ttrain-rmse:0.348518\tvalid-rmse:0.355779\n",
      "[32]\ttrain-rmse:0.348218\tvalid-rmse:0.355864\n",
      "[33]\ttrain-rmse:0.348084\tvalid-rmse:0.355811\n",
      "[34]\ttrain-rmse:0.347377\tvalid-rmse:0.355355\n",
      "[35]\ttrain-rmse:0.347175\tvalid-rmse:0.355302\n",
      "[36]\ttrain-rmse:0.346886\tvalid-rmse:0.355268\n",
      "[37]\ttrain-rmse:0.346647\tvalid-rmse:0.355259\n",
      "[38]\ttrain-rmse:0.346389\tvalid-rmse:0.355186\n",
      "[39]\ttrain-rmse:0.34603\tvalid-rmse:0.355004\n",
      "[40]\ttrain-rmse:0.345891\tvalid-rmse:0.354978\n",
      "[41]\ttrain-rmse:0.345614\tvalid-rmse:0.3549\n",
      "[42]\ttrain-rmse:0.345485\tvalid-rmse:0.354908\n",
      "[43]\ttrain-rmse:0.345211\tvalid-rmse:0.354741\n",
      "[44]\ttrain-rmse:0.344875\tvalid-rmse:0.354825\n",
      "[45]\ttrain-rmse:0.344665\tvalid-rmse:0.354652\n",
      "[46]\ttrain-rmse:0.344204\tvalid-rmse:0.35437\n",
      "[47]\ttrain-rmse:0.343909\tvalid-rmse:0.354311\n",
      "[48]\ttrain-rmse:0.343657\tvalid-rmse:0.354284\n",
      "[49]\ttrain-rmse:0.343164\tvalid-rmse:0.354057\n",
      "Modeling RMSLE 0.35406\n"
     ]
    }
   ],
   "source": [
    "xgb_pars = {'min_child_weight': 1, 'eta': 0.3, 'colsample_bytree': 0.9, \n",
    "            'max_depth': 6,\n",
    "'subsample': 0.9, 'lambda': 2, 'nthread': -1, 'booster' : 'gbtree', 'silent': 1,\n",
    "'eval_metric': 'rmse', 'objective': 'reg:linear'}\n",
    "\n",
    "# selection-departure model\n",
    "model1 = xgb.train(xgb_pars, dtrain1, 50, watchlist1, early_stopping_rounds=5,\n",
    "      maximize=False, verbose_eval=1)\n",
    "print('Modeling RMSLE %.5f' % model1.best_score)\n",
    "\n",
    "# departure-presentation model\n",
    "model2 = xgb.train(xgb_pars, dtrain2, 50, watchlist2, early_stopping_rounds=5,\n",
    "      maximize=False, verbose_eval=1)\n",
    "print('Modeling RMSLE %.5f' % model2.best_score)"
   ]
  },
  {
   "cell_type": "code",
   "execution_count": 73,
   "metadata": {},
   "outputs": [
    {
     "data": {
      "text/plain": [
       "<matplotlib.axes._subplots.AxesSubplot at 0x7f7575158c18>"
      ]
     },
     "execution_count": 73,
     "metadata": {},
     "output_type": "execute_result"
    },
    {
     "data": {
      "image/png": "[encoded data removed]",
      "text/plain": [
       "<Figure size 432x288 with 1 Axes>"
      ]
     },
     "metadata": {
      "needs_background": "light"
     },
     "output_type": "display_data"
    },
    {
     "data": {
      "image/png": "[encoded data removed]",
      "text/plain": [
       "<Figure size 432x288 with 1 Axes>"
      ]
     },
     "metadata": {
      "needs_background": "light"
     },
     "output_type": "display_data"
    }
   ],
   "source": [
    "# plots of the features' importances\n",
    "xgb.plot_importance(model1, max_num_features=28, height=0.7,\n",
    "                    title='Feature importance for the model selection-departure ')\n",
    "\n",
    "xgb.plot_importance(model2, max_num_features=28, height=0.7,\n",
    "                    title='Feature importance for the model departure-presentation ')"
   ]
  },
  {
   "cell_type": "markdown",
   "metadata": {},
   "source": [
    "Prediction with the trained models"
   ]
  },
  {
   "cell_type": "code",
   "execution_count": 74,
   "metadata": {},
   "outputs": [
    {
     "name": "stdout",
     "output_type": "stream",
     "text": [
      "(43797,) (43797,) (43797,) (43797,)\n"
     ]
    }
   ],
   "source": [
    "# selection_departure prediction and applying the exponential function\n",
    "pred_selec = model1.predict(dvalid1)\n",
    "pred_selec=np.exp(pred_selec)-1\n",
    "\n",
    "# prediction departure-presentation\n",
    "pred_presentation = model2.predict(dvalid2)\n",
    "pred_presentation=np.exp(pred_presentation)-1\n",
    "\n",
    "# applying the exponential funciton to Y_Test\n",
    "Y_Test1=np.exp(Y_Test1)-1\n",
    "Y_Test2=np.exp(Y_Test2)-1\n",
    "\n",
    "print(pred_selec.shape,pred_presentation.shape,Y_Test1.shape,Y_Test2.shape)"
   ]
  },
  {
   "cell_type": "code",
   "execution_count": 75,
   "metadata": {},
   "outputs": [],
   "source": [
    "# Gathering the total prediction\n",
    "Y_pred=pred_selec+pred_presentation\n",
    "Y_Test=Y_Test1+Y_Test2"
   ]
  },
  {
   "cell_type": "code",
   "execution_count": 76,
   "metadata": {},
   "outputs": [
    {
     "name": "stdout",
     "output_type": "stream",
     "text": [
      "Le r2_score pour le modèle selection_departure est: 0.24597226205331046\n",
      "Le r2_score pour le modèle departure_presentation est: 0.4803907209027052\n",
      "Le r2_score total est: 0.44775167853696685\n"
     ]
    }
   ],
   "source": [
    "# Printing the r2 scores\n",
    "print(\"Le r2_score pour le modèle selection_departure est:\",r2_score(Y_Test1,pred_selec))\n",
    "print(\"Le r2_score pour le modèle departure_presentation est:\",r2_score(Y_Test2,pred_presentation))\n",
    "print(\"Le r2_score total est:\",r2_score(Y_Test,Y_pred))"
   ]
  },
  {
   "cell_type": "markdown",
   "metadata": {},
   "source": [
    "The results with this transformation are fairly worse"
   ]
  },
  {
   "cell_type": "markdown",
   "metadata": {},
   "source": [
    "# 4. Data engineering and advanced visualization"
   ]
  },
  {
   "cell_type": "markdown",
   "metadata": {},
   "source": [
    "### Exporting the data into a database"
   ]
  },
  {
   "cell_type": "code",
   "execution_count": 77,
   "metadata": {},
   "outputs": [],
   "source": [
    "# Establishing the connection with pgsql database\n",
    "conn = psycopg2.connect(os.environ['DB_POMPIERS_URL'])\n",
    "cur = conn.cursor()"
   ]
  },
  {
   "cell_type": "code",
   "execution_count": 78,
   "metadata": {},
   "outputs": [],
   "source": [
    "def to_table_key(s): return (s.replace(' ','_').replace('-','_')).lower()\n",
    "def to_exportable_df(df):\n",
    "    old_cols = df.columns.tolist()\n",
    "    new_cols = map(lambda x: to_table_key(x), old_cols)\n",
    "    d_chcols = {k:v for (k,v) in zip(old_cols, new_cols)}\n",
    "    return d_chcols\n",
    "\n",
    "def export_df(df, name, schema=\"data\"):\n",
    "    df = df.rename(columns=to_exportable_df(df))\n",
    "    engine = create_engine(os.environ['DB_POMPIERS_URL'])\n",
    "    df.to_sql(name, engine, schema, if_exists='replace', index=False)"
   ]
  },
  {
   "cell_type": "code",
   "execution_count": null,
   "metadata": {},
   "outputs": [],
   "source": [
    "# Normalization of the dfs names\n",
    "x_train = x_train.rename(columns=to_exportable_df(x_train))\n",
    "x_test = x_test.rename(columns=to_exportable_df(x_test))\n",
    "y_train = y_train.rename(columns=to_exportable_df(y_train))\n",
    "x_test_add = x_test_add.rename(columns=to_exportable_df(x_test_add))\n",
    "x_train_add = x_train_add.rename(columns=to_exportable_df(x_train_add))"
   ]
  },
  {
   "cell_type": "code",
   "execution_count": null,
   "metadata": {},
   "outputs": [],
   "source": [
    "# Tests if the features names written in features.csv\n",
    "# match with the ones provided in the training files\n",
    "features = pd.read_csv('features.csv', sep=';')\n",
    "l1 = x_train.columns.tolist()+y_train.columns.tolist()+x_train_add.columns.tolist()\n",
    "l2 = features['feature_name'].tolist()\n",
    "test = [(feat1==feat2, feat1, feat2) for (feat1, feat2) in zip(l1, l2) if feat1 != feat2]\n",
    "print(len(test)==0)"
   ]
  },
  {
   "cell_type": "code",
   "execution_count": null,
   "metadata": {},
   "outputs": [],
   "source": [
    "# Exporting the data into the local database\n",
    "cur.execute('CREATE SCHEMA IF NOT EXISTS data')\n",
    "conn.commit()\n",
    "\n",
    "dg = pd.DataFrame()\n",
    "\n",
    "for df_name in ['x_train', 'y_train', 'x_test', 'x_train_add', 'x_test_add']:\n",
    "    dg  = eval(df)\n",
    "    export_df(dg, df_name, \"data\")"
   ]
  },
  {
   "cell_type": "markdown",
   "metadata": {},
   "source": [
    "### Generation of a map for itineraries data visualization"
   ]
  },
  {
   "cell_type": "code",
   "execution_count": 79,
   "metadata": {},
   "outputs": [],
   "source": [
    "import json\n",
    "import requests\n",
    "import polyline, geojson\n",
    "from pprint import pprint\n",
    "from ipyleaflet import Map, basemaps, basemap_to_tiles, GeoJSON, Polyline, CircleMarker\n",
    "from geojson import LineString, Point, Feature\n",
    "from ipywidgets import Layout\n",
    "defaultLayout=Layout(width='960px', height='600px')\n",
    "\n",
    "# Takes an address located in France (str)\n",
    "# Returns its coordinates ['lon', 'lat']\n",
    "def geocode(address, lon=2.352222, lat=48.856613, tp=\"housenumber\"):\n",
    "    add = address.replace(' ','+').lower()\n",
    "    url = \"https://api-adresse.data.gouv.fr/search/?q={ADD}&lat={LAT}&lon={LON}&type={TP}&limit=1\".format(\n",
    "        ADD=add, LAT=lat, LON=lon, TP=tp)\n",
    "    response = requests.get(url)\n",
    "    return json.loads(response.text)['features'][0]['geometry']['coordinates']\n",
    "\n",
    "# Takes two lists of coordinates of points located in Paris area ([float, float], [float, float])\n",
    "# Returns the Polyline route of the fastest track calculated by ORSM (Polyline)\n",
    "def route(lonlat1, lonlat2=[2.352222, 48.856613], how='car'):\n",
    "    url = \"http://0.0.0.0:5000/route/v1/{HOW}/{LON1},{LAT1};{LON2},{LAT2}\".format(\n",
    "        HOW=how, LON1=lonlat1[0], LAT1=lonlat1[1], LON2=lonlat2[0], LAT2=lonlat2[1])\n",
    "    response = requests.get(url)\n",
    "    return json.loads(response.text)['routes'][0]['geometry']\n",
    "\n",
    "# Returns a customized ipyleaflet CircleMarker\n",
    "def cmarker(color=\"#0033FF\", location=[0,0], radius=10, stroke=True, opacity=1.0, weight=5, fill=True,\n",
    "            fill_color=\"#0033FF\", fill_opacity=0.2):\n",
    "    c = CircleMarker()\n",
    "    c.color = color\n",
    "    c.location = location\n",
    "    c.radius = radius\n",
    "    c.stroke = stroke\n",
    "    c.opacity = opacity\n",
    "    c.weight = weight\n",
    "    c.fill = fill\n",
    "    c.fill_color = fill_color\n",
    "    c.fill_opacity = fill_opacity\n",
    "    return c\n",
    "\n",
    "# Takes two locations located in Paris area (str, str)\n",
    "# Returns a map centered on the departure address with the plot of the fastest route\n",
    "def gps_track(departure, destination, lonlat_inputs=False):\n",
    "    if not lonlat_inputs:\n",
    "        lonlat1 = geocode(departure)\n",
    "        lonlat2 = geocode(destination)\n",
    "    else:\n",
    "        lonlat1 = departure\n",
    "        lonlat2 = destination\n",
    "    track = polyline.decode(route(lonlat1, lonlat2), geojson=True)\n",
    "    line = GeoJSON(data=LineString(track), style = {'color': 'blue', 'opacity':0.6, 'weight':5, 'fillOpacity':0.1})\n",
    "    m = Map(layers=(basemap_to_tiles(basemaps.Hydda.Full, \"2019-11-19\"),),\n",
    "            layout=defaultLayout,\n",
    "            center=(lonlat1[1], lonlat1[0]),\n",
    "            zoom=14)\n",
    "    m.add_layer(line)\n",
    "    pt_departure = cmarker(color=\"#4abd0b\", fill_color=\"#4abd0b\", location=lonlat1[::-1], radius=10, weight=2)\n",
    "    pt_destination = cmarker(color=\"#de0000\", fill_color=\"#de0000\", location=lonlat2[::-1], radius=10, weight=2)\n",
    "    m.add_layer(pt_departure)\n",
    "    m.add_layer(pt_destination)    \n",
    "    return m\n",
    "\n",
    "months = {'01': 'january', '02': 'february', '03': 'march', '04': 'april', '05': 'may', '06': 'june',\n",
    "         '07': 'july', '08': 'august', '09': 'september', '10': 'october', '11': 'november', '12': 'december'}"
   ]
  },
  {
   "cell_type": "code",
   "execution_count": 80,
   "metadata": {},
   "outputs": [],
   "source": [
    "# Takes a vehicle id of the testing dataset and plots its true and predicted itinerary\n",
    "def visualize_intervention(vid):\n",
    "    x = x_train.loc[x_train['emergency vehicle selection']==vid].iloc[0].to_dict()\n",
    "    y = y_train.loc[y_train['emergency vehicle selection']==vid].iloc[0].to_dict()\n",
    "    \n",
    "    # Getting travel information\n",
    "    date = str(x['date key sélection'])\n",
    "    time = str(x['time key sélection'])\n",
    "    time = (6-len(time))*'0'+time\n",
    "    \n",
    "    print(\"Visualization of intervention n°{VID}\".format(VID=vid))\n",
    "    print(\"{DD} {MM} {YYYY}, {HH}:{MT}:{SS}\".format(DD=date[6:], MM=months[date[4:6]].capitalize(), YYYY=date[:4],\n",
    "                                                   HH=time[:2], MT=time[2:4], SS=time[4:]))\n",
    "    print(\"--------------------------------------------------------------------------\")\n",
    "    print(\"Estimated distance :\", x['OSRM estimated distance'])\n",
    "    print(\"Estimated transit duration :\", x['OSRM estimated duration'])\n",
    "    print(\"Actual transit duration :\", y['delta departure-presentation'])\n",
    "    print(\"Actual total duration :\", y['delta selection-presentation'])\n",
    "    \n",
    "    # Retrieving tracks\n",
    "    est_track = polyline.decode(eval(x['OSRM response'])['routes'][0]['geometry'], geojson=True)\n",
    "    try:\n",
    "        true_track = list(map(lambda l: (float(l.split(',')[0]), float(l.split(',')[1])),\n",
    "                              x['GPS tracks departure-presentation'].split(';')))\n",
    "    except AttributeError:\n",
    "        true_track = []\n",
    "        print(\"--------------------------------------------------------------------------\")\n",
    "        print(\"No GPS track was recorded for this intervention\")\n",
    "    \n",
    "    dept=[x['latitude before departure'], x['longitude before departure']]\n",
    "    dest=[x['latitude intervention'], x['longitude intervention']]\n",
    "\n",
    "    # Generating layers\n",
    "    est_line = GeoJSON(data=LineString(est_track),\n",
    "                       style = {'color': 'purple', 'opacity':0.6, 'weight':5,'dashArray':7, 'fillOpacity':0.1})\n",
    "    true_line = GeoJSON(data=LineString(true_track),\n",
    "                       style = {'color': 'blue', 'opacity':0.6, 'weight':5, 'fillOpacity':0.1})\n",
    "    \n",
    "    pt_departure = cmarker(color=\"#4abd0b\", fill_color=\"#4abd0b\", location=dept, radius=10, weight=2)\n",
    "    pt_destination = cmarker(color=\"#de0000\", fill_color=\"#de0000\", location=dest, radius=10, weight=2)\n",
    "    \n",
    "    # Generating map and adding layers\n",
    "    m = Map(layers=(basemap_to_tiles(basemaps.Hydda.Full, \"2019-11-19\"),),\n",
    "                layout=defaultLayout,\n",
    "                center=dept,\n",
    "                zoom=14)\n",
    "    m.add_layer(est_line)\n",
    "    m.add_layer(true_line)\n",
    "    m.add_layer(pt_departure)\n",
    "    m.add_layer(pt_destination)  \n",
    "    \n",
    "    display(m)"
   ]
  },
  {
   "cell_type": "code",
   "execution_count": 84,
   "metadata": {},
   "outputs": [
    {
     "data": {
      "text/plain": [
       "['emergency vehicle selection',\n",
       " 'intervention',\n",
       " 'alert reason category',\n",
       " 'alert reason',\n",
       " 'intervention on public roads',\n",
       " 'floor',\n",
       " 'location of the event',\n",
       " 'longitude intervention',\n",
       " 'latitude intervention',\n",
       " 'emergency vehicle',\n",
       " 'emergency vehicle type',\n",
       " 'rescue center',\n",
       " 'selection time',\n",
       " 'date key sélection',\n",
       " 'time key sélection',\n",
       " 'status preceding selection',\n",
       " 'delta status preceding selection-selection',\n",
       " 'departed from its rescue center',\n",
       " 'longitude before departure',\n",
       " 'latitude before departure',\n",
       " 'delta position gps previous departure-departure',\n",
       " 'GPS tracks departure-presentation',\n",
       " 'GPS tracks datetime departure-presentation',\n",
       " 'OSRM response',\n",
       " 'OSRM estimated distance',\n",
       " 'OSRM estimated duration']"
      ]
     },
     "execution_count": 84,
     "metadata": {},
     "output_type": "execute_result"
    }
   ],
   "source": [
    "x_train_bis.columns.tolist()"
   ]
  },
  {
   "cell_type": "code",
   "execution_count": 88,
   "metadata": {},
   "outputs": [
    {
     "name": "stdout",
     "output_type": "stream",
     "text": [
      "Visualization of intervention n°5061039\n",
      "20 June 2018, 12:07:48\n",
      "--------------------------------------------------------------------------\n",
      "Estimated distance : 3979.2\n",
      "Estimated transit duration : 296.3\n",
      "Actual transit duration : 654\n",
      "Actual total duration : 789\n"
     ]
    },
    {
     "data": {
      "application/vnd.jupyter.widget-view+json": {
       "model_id": "8ab844897c3444ed90d0c7b675e9be9a",
       "version_major": 2,
       "version_minor": 0
      },
      "text/plain": [
       "Map(basemap={'url': 'https://{s}.tile.openstreetmap.org/{z}/{x}/{y}.png', 'max_zoom': 19, 'attribution': 'Map …"
      ]
     },
     "metadata": {},
     "output_type": "display_data"
    }
   ],
   "source": [
    "from random import randint\n",
    "\n",
    "# In this section, x_train and y_train are reloaded and therefore may not have the same features as before\n",
    "x_train = pd.read_csv('x_train.csv')\n",
    "y_train = pd.read_csv('y_train.csv')\n",
    "\n",
    "# Plot a random selection among x_train entries that have a recorded GPS track\n",
    "vids = x_train.loc[~pd.isna(x_train['GPS tracks departure-presentation'])]['emergency vehicle selection'].to_list()\n",
    "i = vids[randint(0, len(vids)-1)]\n",
    "\n",
    "visualize_intervention(i)"
   ]
  },
  {
   "cell_type": "markdown",
   "metadata": {},
   "source": [
    "### Another (unrelated) piece of code"
   ]
  },
  {
   "cell_type": "markdown",
   "metadata": {},
   "source": [
    "This function is not directly related to this project. Its purpose is to geocode addresses located in Quebec (Canada) to use the routing functionalities in this country. I just made it for fun!\n",
    "> To use it, just replace the geocode function by the one below in $\\texttt{gps_track}$()"
   ]
  },
  {
   "cell_type": "code",
   "execution_count": null,
   "metadata": {},
   "outputs": [],
   "source": [
    "# Takes an address located in Quebec (str)\n",
    "def geocode_qc(address):\n",
    "    add = address.replace(' ','+').lower()\n",
    "    url = \"https://geocoder.ca/?locate={ADD}&json=1\".format(ADD=add)\n",
    "    response = requests.get(url)\n",
    "    return [json.loads(response.text)[\"longt\"],json.loads(response.text)[\"latt\"]]"
   ]
  }
 ],
 "metadata": {
  "kernelspec": {
   "display_name": "Python 3",
   "language": "python",
   "name": "python3"
  },
  "language_info": {
   "codemirror_mode": {
    "name": "ipython",
    "version": 3
   },
   "file_extension": ".py",
   "mimetype": "text/x-python",
   "name": "python",
   "nbconvert_exporter": "python",
   "pygments_lexer": "ipython3",
   "version": "3.6.8"
  }
 },
 "nbformat": 4,
 "nbformat_minor": 2
}
