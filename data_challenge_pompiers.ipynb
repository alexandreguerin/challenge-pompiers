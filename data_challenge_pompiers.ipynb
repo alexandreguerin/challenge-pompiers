{
 "cells": [
  {
   "cell_type": "code",
   "execution_count": 89,
   "metadata": {},
   "outputs": [],
   "source": [
    "%matplotlib inline\n",
    "import pandas as pd\n",
    "import numpy as np\n",
    "from sklearn.preprocessing import PolynomialFeatures\n",
    "from sklearn.linear_model import LinearRegression\n",
    "from sklearn.linear_model import Lasso\n",
    "from sklearn.metrics import r2_score\n",
    "import matplotlib.pyplot as plt\n",
    "from sklearn.model_selection import train_test_split\n",
    "import psycopg2\n",
    "from sqlalchemy import create_engine\n",
    "import os"
   ]
  },
  {
   "cell_type": "markdown",
   "metadata": {},
   "source": [
    "The numeration of the sections below is made to match the report's sections"
   ]
  },
  {
   "cell_type": "markdown",
   "metadata": {},
   "source": [
    "# 2. Feature engineering "
   ]
  },
  {
   "cell_type": "markdown",
   "metadata": {},
   "source": [
    "### Datasets import and export"
   ]
  },
  {
   "cell_type": "code",
   "execution_count": 90,
   "metadata": {},
   "outputs": [],
   "source": [
    "#Import with separator specification\n",
    "x_train = pd.read_csv('x_train.csv')\n",
    "y_train = pd.read_csv('y_train.csv')\n",
    "x_test = pd.read_csv('x_test.csv')\n",
    "x_test_add = pd.read_csv('additional_x_files_2EHFvuq/x_test_additional_file.csv')\n",
    "x_train_add = pd.read_csv('additional_x_files_2EHFvuq/x_train_additional_file.csv')\n",
    "\n",
    "#Spaces deletion in columns names\n",
    "x_train.columns = [x.strip().replace(' ', '_') for x in x_train.columns]\n",
    "x_test.columns = [x.strip().replace(' ', '_') for x in x_test.columns]\n",
    "y_train.columns = [x.strip().replace(' ', '_') for x in y_train.columns]\n",
    "x_train_add.columns = [x.strip().replace(' ', '_') for x in x_train_add.columns]\n",
    "x_test_add.columns = [x.strip().replace(' ', '_') for x in x_test_add.columns]\n",
    "\n",
    "x_test_init=x_test"
   ]
  },
  {
   "cell_type": "code",
   "execution_count": 91,
   "metadata": {
    "scrolled": true
   },
   "outputs": [
    {
     "data": {
      "text/html": [
       "<div>\n",
       "<style scoped>\n",
       "    .dataframe tbody tr th:only-of-type {\n",
       "        vertical-align: middle;\n",
       "    }\n",
       "\n",
       "    .dataframe tbody tr th {\n",
       "        vertical-align: top;\n",
       "    }\n",
       "\n",
       "    .dataframe thead th {\n",
       "        text-align: right;\n",
       "    }\n",
       "</style>\n",
       "<table border=\"1\" class=\"dataframe\">\n",
       "  <thead>\n",
       "    <tr style=\"text-align: right;\">\n",
       "      <th></th>\n",
       "      <th>emergency_vehicle_selection</th>\n",
       "      <th>intervention</th>\n",
       "      <th>alert_reason_category</th>\n",
       "      <th>alert_reason</th>\n",
       "      <th>intervention_on_public_roads</th>\n",
       "      <th>floor</th>\n",
       "      <th>location_of_the_event</th>\n",
       "      <th>longitude_intervention</th>\n",
       "      <th>latitude_intervention</th>\n",
       "      <th>emergency_vehicle</th>\n",
       "      <th>...</th>\n",
       "      <th>delta_status_preceding_selection-selection</th>\n",
       "      <th>departed_from_its_rescue_center</th>\n",
       "      <th>longitude_before_departure</th>\n",
       "      <th>latitude_before_departure</th>\n",
       "      <th>delta_position_gps_previous_departure-departure</th>\n",
       "      <th>GPS_tracks_departure-presentation</th>\n",
       "      <th>GPS_tracks_datetime_departure-presentation</th>\n",
       "      <th>OSRM_response</th>\n",
       "      <th>OSRM_estimated_distance</th>\n",
       "      <th>OSRM_estimated_duration</th>\n",
       "    </tr>\n",
       "  </thead>\n",
       "  <tbody>\n",
       "    <tr>\n",
       "      <th>0</th>\n",
       "      <td>5105452</td>\n",
       "      <td>13264186</td>\n",
       "      <td>3</td>\n",
       "      <td>2162</td>\n",
       "      <td>0</td>\n",
       "      <td>0</td>\n",
       "      <td>148.0</td>\n",
       "      <td>2.284796</td>\n",
       "      <td>48.879669</td>\n",
       "      <td>4511</td>\n",
       "      <td>...</td>\n",
       "      <td>2027</td>\n",
       "      <td>1</td>\n",
       "      <td>2.288053</td>\n",
       "      <td>48.884698</td>\n",
       "      <td>NaN</td>\n",
       "      <td>2.289000,48.885113;2.288861,48.884998;2.288000...</td>\n",
       "      <td>2018-07-08 19:04:43;2018-07-08 19:05:55;2018-0...</td>\n",
       "      <td>{\"code\":\"Ok\",\"routes\":[{\"geometry\":\"}yjiH}x}L_...</td>\n",
       "      <td>952.5</td>\n",
       "      <td>105.8</td>\n",
       "    </tr>\n",
       "    <tr>\n",
       "      <th>1</th>\n",
       "      <td>4720915</td>\n",
       "      <td>12663715</td>\n",
       "      <td>3</td>\n",
       "      <td>2124</td>\n",
       "      <td>0</td>\n",
       "      <td>1</td>\n",
       "      <td>136.0</td>\n",
       "      <td>2.247464</td>\n",
       "      <td>48.818191</td>\n",
       "      <td>4327</td>\n",
       "      <td>...</td>\n",
       "      <td>28233</td>\n",
       "      <td>1</td>\n",
       "      <td>2.268519</td>\n",
       "      <td>48.823958</td>\n",
       "      <td>NaN</td>\n",
       "      <td>NaN</td>\n",
       "      <td>NaN</td>\n",
       "      <td>{\"code\":\"Ok\",\"routes\":[{\"geometry\":\"u|~hHy`zL_...</td>\n",
       "      <td>2238.5</td>\n",
       "      <td>243.2</td>\n",
       "    </tr>\n",
       "    <tr>\n",
       "      <th>2</th>\n",
       "      <td>5365374</td>\n",
       "      <td>13675521</td>\n",
       "      <td>3</td>\n",
       "      <td>2163</td>\n",
       "      <td>0</td>\n",
       "      <td>2</td>\n",
       "      <td>139.0</td>\n",
       "      <td>2.258328</td>\n",
       "      <td>48.836759</td>\n",
       "      <td>4509</td>\n",
       "      <td>...</td>\n",
       "      <td>1981</td>\n",
       "      <td>0</td>\n",
       "      <td>2.272944</td>\n",
       "      <td>48.850498</td>\n",
       "      <td>33.0</td>\n",
       "      <td>2.272972,48.850498;2.269056,48.847443;2.262611...</td>\n",
       "      <td>2018-11-16 10:14:31;2018-11-16 10:15:43;2018-1...</td>\n",
       "      <td>{\"code\":\"Ok\",\"routes\":[{\"geometry\":\"_cdiHo}zLm...</td>\n",
       "      <td>3026.4</td>\n",
       "      <td>295.4</td>\n",
       "    </tr>\n",
       "    <tr>\n",
       "      <th>3</th>\n",
       "      <td>4741586</td>\n",
       "      <td>12695745</td>\n",
       "      <td>3</td>\n",
       "      <td>2162</td>\n",
       "      <td>0</td>\n",
       "      <td>0</td>\n",
       "      <td>136.0</td>\n",
       "      <td>2.393832</td>\n",
       "      <td>48.776526</td>\n",
       "      <td>5731</td>\n",
       "      <td>...</td>\n",
       "      <td>1842</td>\n",
       "      <td>1</td>\n",
       "      <td>2.388940</td>\n",
       "      <td>48.787732</td>\n",
       "      <td>NaN</td>\n",
       "      <td>2.394278,48.782112;2.393639,48.776833</td>\n",
       "      <td>2018-01-15 00:42:46;2018-01-15 00:43:58</td>\n",
       "      <td>{\"code\":\"Ok\",\"routes\":[{\"geometry\":\"sywhH_pqMy...</td>\n",
       "      <td>1934.2</td>\n",
       "      <td>166.6</td>\n",
       "    </tr>\n",
       "    <tr>\n",
       "      <th>4</th>\n",
       "      <td>5381209</td>\n",
       "      <td>13698743</td>\n",
       "      <td>3</td>\n",
       "      <td>2162</td>\n",
       "      <td>0</td>\n",
       "      <td>3</td>\n",
       "      <td>104.0</td>\n",
       "      <td>2.458610</td>\n",
       "      <td>48.875751</td>\n",
       "      <td>5623</td>\n",
       "      <td>...</td>\n",
       "      <td>2716</td>\n",
       "      <td>1</td>\n",
       "      <td>2.439331</td>\n",
       "      <td>48.863814</td>\n",
       "      <td>NaN</td>\n",
       "      <td>2.439472,48.863724;2.439583,48.863777;2.440917...</td>\n",
       "      <td>2018-11-24 00:37:10;2018-11-24 00:38:22;2018-1...</td>\n",
       "      <td>{\"code\":\"Ok\",\"routes\":[{\"geometry\":\"wvfiHgn{Mj...</td>\n",
       "      <td>2706.7</td>\n",
       "      <td>262.6</td>\n",
       "    </tr>\n",
       "  </tbody>\n",
       "</table>\n",
       "<p>5 rows × 26 columns</p>\n",
       "</div>"
      ],
      "text/plain": [
       "   emergency_vehicle_selection  intervention  alert_reason_category  \\\n",
       "0                      5105452      13264186                      3   \n",
       "1                      4720915      12663715                      3   \n",
       "2                      5365374      13675521                      3   \n",
       "3                      4741586      12695745                      3   \n",
       "4                      5381209      13698743                      3   \n",
       "\n",
       "   alert_reason  intervention_on_public_roads  floor  location_of_the_event  \\\n",
       "0          2162                             0      0                  148.0   \n",
       "1          2124                             0      1                  136.0   \n",
       "2          2163                             0      2                  139.0   \n",
       "3          2162                             0      0                  136.0   \n",
       "4          2162                             0      3                  104.0   \n",
       "\n",
       "   longitude_intervention  latitude_intervention  emergency_vehicle  ...  \\\n",
       "0                2.284796              48.879669               4511  ...   \n",
       "1                2.247464              48.818191               4327  ...   \n",
       "2                2.258328              48.836759               4509  ...   \n",
       "3                2.393832              48.776526               5731  ...   \n",
       "4                2.458610              48.875751               5623  ...   \n",
       "\n",
       "  delta_status_preceding_selection-selection  departed_from_its_rescue_center  \\\n",
       "0                                       2027                                1   \n",
       "1                                      28233                                1   \n",
       "2                                       1981                                0   \n",
       "3                                       1842                                1   \n",
       "4                                       2716                                1   \n",
       "\n",
       "  longitude_before_departure  latitude_before_departure  \\\n",
       "0                   2.288053                  48.884698   \n",
       "1                   2.268519                  48.823958   \n",
       "2                   2.272944                  48.850498   \n",
       "3                   2.388940                  48.787732   \n",
       "4                   2.439331                  48.863814   \n",
       "\n",
       "   delta_position_gps_previous_departure-departure  \\\n",
       "0                                              NaN   \n",
       "1                                              NaN   \n",
       "2                                             33.0   \n",
       "3                                              NaN   \n",
       "4                                              NaN   \n",
       "\n",
       "                   GPS_tracks_departure-presentation  \\\n",
       "0  2.289000,48.885113;2.288861,48.884998;2.288000...   \n",
       "1                                                NaN   \n",
       "2  2.272972,48.850498;2.269056,48.847443;2.262611...   \n",
       "3              2.394278,48.782112;2.393639,48.776833   \n",
       "4  2.439472,48.863724;2.439583,48.863777;2.440917...   \n",
       "\n",
       "          GPS_tracks_datetime_departure-presentation  \\\n",
       "0  2018-07-08 19:04:43;2018-07-08 19:05:55;2018-0...   \n",
       "1                                                NaN   \n",
       "2  2018-11-16 10:14:31;2018-11-16 10:15:43;2018-1...   \n",
       "3            2018-01-15 00:42:46;2018-01-15 00:43:58   \n",
       "4  2018-11-24 00:37:10;2018-11-24 00:38:22;2018-1...   \n",
       "\n",
       "                                       OSRM_response  OSRM_estimated_distance  \\\n",
       "0  {\"code\":\"Ok\",\"routes\":[{\"geometry\":\"}yjiH}x}L_...                    952.5   \n",
       "1  {\"code\":\"Ok\",\"routes\":[{\"geometry\":\"u|~hHy`zL_...                   2238.5   \n",
       "2  {\"code\":\"Ok\",\"routes\":[{\"geometry\":\"_cdiHo}zLm...                   3026.4   \n",
       "3  {\"code\":\"Ok\",\"routes\":[{\"geometry\":\"sywhH_pqMy...                   1934.2   \n",
       "4  {\"code\":\"Ok\",\"routes\":[{\"geometry\":\"wvfiHgn{Mj...                   2706.7   \n",
       "\n",
       "   OSRM_estimated_duration  \n",
       "0                    105.8  \n",
       "1                    243.2  \n",
       "2                    295.4  \n",
       "3                    166.6  \n",
       "4                    262.6  \n",
       "\n",
       "[5 rows x 26 columns]"
      ]
     },
     "execution_count": 91,
     "metadata": {},
     "output_type": "execute_result"
    }
   ],
   "source": [
    "x_train.head()"
   ]
  },
  {
   "cell_type": "code",
   "execution_count": 92,
   "metadata": {},
   "outputs": [
    {
     "data": {
      "text/plain": [
       "Index(['emergency_vehicle_selection', 'intervention', 'alert_reason_category',\n",
       "       'alert_reason', 'intervention_on_public_roads', 'floor',\n",
       "       'location_of_the_event', 'longitude_intervention',\n",
       "       'latitude_intervention', 'emergency_vehicle', 'emergency_vehicle_type',\n",
       "       'rescue_center', 'selection_time', 'date_key_sélection',\n",
       "       'time_key_sélection', 'status_preceding_selection',\n",
       "       'delta_status_preceding_selection-selection',\n",
       "       'departed_from_its_rescue_center', 'longitude_before_departure',\n",
       "       'latitude_before_departure',\n",
       "       'delta_position_gps_previous_departure-departure',\n",
       "       'GPS_tracks_departure-presentation',\n",
       "       'GPS_tracks_datetime_departure-presentation', 'OSRM_response',\n",
       "       'OSRM_estimated_distance', 'OSRM_estimated_duration'],\n",
       "      dtype='object')"
      ]
     },
     "execution_count": 92,
     "metadata": {},
     "output_type": "execute_result"
    }
   ],
   "source": [
    "x_train.columns"
   ]
  },
  {
   "cell_type": "markdown",
   "metadata": {},
   "source": [
    "### OSRM estimated duration update with additionnal data"
   ]
  },
  {
   "cell_type": "code",
   "execution_count": 93,
   "metadata": {},
   "outputs": [],
   "source": [
    "### For the training sample :\n",
    "# Update of the estimated arrival time and addition of a feature named 'updated', \n",
    "# With a value of 1 if the time has changed, 0 otherwise\n",
    "\n",
    "updated=np.zeros(x_train['OSRM_estimated_duration'].shape)\n",
    "updated=np.isnan(x_train_add['updated_OSRM_estimated_duration']) # 1 if nan, 0 otherwise\n",
    "\n",
    "# Treating NaN values\n",
    "x_train['OSRM_estimated_duration']=updated*x_train['OSRM_estimated_duration']+np.nan_to_num(x_train_add['updated_OSRM_estimated_duration'])\n",
    "x_train.loc[:, 'updated'] = 1*np.invert(updated) # 1 if new time, 0 otherwise\n",
    "\n",
    "### For the testing sample :\n",
    "updated=np.zeros(x_test['OSRM_estimated_duration'].shape)\n",
    "updated=np.isnan(x_test_add['updated_OSRM_estimated_duration']) ### 1 if nan, 0 otherwise\n",
    "\n",
    "x_test['OSRM_estimated_duration']=updated*x_test['OSRM_estimated_duration']+np.nan_to_num(x_test_add['updated_OSRM_estimated_duration'])\n",
    "x_test.loc[:, 'updated'] = 1*np.invert(updated) # 1 if new time, 0 otherwise"
   ]
  },
  {
   "cell_type": "markdown",
   "metadata": {},
   "source": [
    "### Converting dates to integers"
   ]
  },
  {
   "cell_type": "code",
   "execution_count": 94,
   "metadata": {},
   "outputs": [
    {
     "data": {
      "text/plain": [
       "0    2018-07-08 19:02:43.990\n",
       "1    2018-01-04 09:02:59.470\n",
       "2    2018-11-16 10:11:47.777\n",
       "3    2018-01-15 00:38:46.820\n",
       "4    2018-11-24 00:34:26.017\n",
       "Name: selection_time, dtype: object"
      ]
     },
     "execution_count": 94,
     "metadata": {},
     "output_type": "execute_result"
    }
   ],
   "source": [
    "x_train['selection_time'].head()"
   ]
  },
  {
   "cell_type": "code",
   "execution_count": 95,
   "metadata": {},
   "outputs": [],
   "source": [
    "# String to datetime\n",
    "x_train['selection_time'] = pd.to_datetime(x_train.selection_time)\n",
    "x_test['selection_time'] = pd.to_datetime(x_test.selection_time)\n",
    "\n",
    "# Adding year, month, hour and day of week as features\n",
    "x_train.loc[:, 'date'] = x_train['selection_time'].dt.date\n",
    "x_train.loc[:, 'hour'] = x_train['selection_time'].dt.hour\n",
    "x_test.loc[:, 'date'] = x_test['selection_time'].dt.date\n",
    "x_test.loc[:, 'hour'] = x_test['selection_time'].dt.hour\n",
    "x_train.loc[:, 'month'] = x_train['selection_time'].dt.month\n",
    "x_test.loc[:, 'month'] = x_test['selection_time'].dt.month\n",
    "x_train.loc[:, 'dayofweek'] = x_train['selection_time'].dt.dayofweek\n",
    "x_test.loc[:, 'dayofweek'] = x_test['selection_time'].dt.dayofweek"
   ]
  },
  {
   "cell_type": "code",
   "execution_count": 96,
   "metadata": {},
   "outputs": [
    {
     "name": "stdout",
     "output_type": "stream",
     "text": [
      "11 11\n",
      "24 24\n",
      "7 7\n"
     ]
    }
   ],
   "source": [
    "# Final check for mistakes :\n",
    "print(len(x_train.groupby('month').size()),len(x_test.groupby('month').size()))\n",
    "print(len(x_train.groupby('hour').size()),len(x_test.groupby('hour').size()))\n",
    "print(len(x_train.groupby('dayofweek').size()),len(x_test.groupby('dayofweek').size()))\n",
    "\n",
    "##OK"
   ]
  },
  {
   "cell_type": "markdown",
   "metadata": {},
   "source": [
    "### Visualization of traffic by hour / day of week / month"
   ]
  },
  {
   "cell_type": "code",
   "execution_count": 97,
   "metadata": {},
   "outputs": [
    {
     "data": {
      "image/png": "[encoded data removed]",
      "text/plain": [
       "<Figure size 720x360 with 3 Axes>"
      ]
     },
     "metadata": {
      "needs_background": "light"
     },
     "output_type": "display_data"
    }
   ],
   "source": [
    "# Computing the mean speeds by observed distances/times \n",
    "x_train.loc[:, 'avg_speed_h'] = x_train['OSRM_estimated_distance'] / x_train['OSRM_estimated_duration']\n",
    "x_train.loc[:, 'avg_speed_m'] =  x_train['OSRM_estimated_distance'] / x_train['OSRM_estimated_duration']\n",
    "\n",
    "# Plot \n",
    "fig, ax = plt.subplots(ncols=3, sharey=True,figsize=(10,5))\n",
    "ax[0].plot(x_train.groupby('hour').mean()['avg_speed_h'], 'bo-', lw=2, alpha=0.7)\n",
    "ax[1].plot(x_train.groupby('dayofweek').mean()['avg_speed_h'], 'go-', lw=2, alpha=0.7)\n",
    "ax[2].plot(x_train.groupby('month').mean()['avg_speed_h'], 'ro-', lw=2, alpha=0.7)\n",
    "ax[0].set_xlabel('Hour of Day')\n",
    "ax[1].set_xlabel('Day of Week')\n",
    "ax[2].set_xlabel('Month of Year')\n",
    "ax[0].set_ylabel('Average Speed')\n",
    "fig.suptitle('Average Traffic Speed by Date-part')\n",
    "plt.show()"
   ]
  },
  {
   "cell_type": "markdown",
   "metadata": {},
   "source": [
    "A lot of differences appear according to which day of week it is"
   ]
  },
  {
   "cell_type": "markdown",
   "metadata": {},
   "source": [
    "### Visualizing y_train"
   ]
  },
  {
   "cell_type": "code",
   "execution_count": 98,
   "metadata": {},
   "outputs": [],
   "source": [
    "# selection-departure time vector\n",
    "y_train_selection=np.array(y_train[['delta_selection-departure']]).flatten()\n",
    "# departure-presentation time vector\n",
    "y_train_presentation=np.array(y_train[['delta_departure-presentation']]).flatten()"
   ]
  },
  {
   "cell_type": "code",
   "execution_count": 99,
   "metadata": {},
   "outputs": [
    {
     "data": {
      "image/png": "[encoded data removed]",
      "text/plain": [
       "<Figure size 1800x720 with 2 Axes>"
      ]
     },
     "metadata": {
      "needs_background": "light"
     },
     "output_type": "display_data"
    }
   ],
   "source": [
    "f, ax = plt.subplots(ncols=2,figsize=(25,10))\n",
    "ax[0].hist(y_train_selection.flatten(),bins=2000)\n",
    "\n",
    "ax[1].hist(y_train_presentation.flatten(),bins=2000)\n",
    "#ax[1].hist(np.log(y_train_selection+1).flatten(),bins=2000)\n",
    "\n",
    "#ax[0].set_xlim(0, 1000)\n",
    "#ax[1].set_xlim(0, 2000)\n",
    "ax[0].set_xlabel('Temps en secondes entre la selection et le départ')\n",
    "ax[1].set_xlabel(\"Temps en secondes entre le départ et l'arrivée\")\n",
    "\n",
    "ax[0].set_ylabel(' Nombre ')\n",
    "ax[1].set_ylabel(' Nombre ')\n",
    "\n",
    "\n",
    "plt.show()"
   ]
  },
  {
   "cell_type": "code",
   "execution_count": 100,
   "metadata": {},
   "outputs": [
    {
     "data": {
      "text/html": [
       "<div>\n",
       "<style scoped>\n",
       "    .dataframe tbody tr th:only-of-type {\n",
       "        vertical-align: middle;\n",
       "    }\n",
       "\n",
       "    .dataframe tbody tr th {\n",
       "        vertical-align: top;\n",
       "    }\n",
       "\n",
       "    .dataframe thead th {\n",
       "        text-align: right;\n",
       "    }\n",
       "</style>\n",
       "<table border=\"1\" class=\"dataframe\">\n",
       "  <thead>\n",
       "    <tr style=\"text-align: right;\">\n",
       "      <th></th>\n",
       "      <th>emergency_vehicle_selection</th>\n",
       "      <th>delta_selection-departure</th>\n",
       "      <th>delta_departure-presentation</th>\n",
       "      <th>delta_selection-presentation</th>\n",
       "    </tr>\n",
       "  </thead>\n",
       "  <tbody>\n",
       "    <tr>\n",
       "      <th>0</th>\n",
       "      <td>5105452</td>\n",
       "      <td>86</td>\n",
       "      <td>324</td>\n",
       "      <td>410</td>\n",
       "    </tr>\n",
       "    <tr>\n",
       "      <th>1</th>\n",
       "      <td>4720915</td>\n",
       "      <td>164</td>\n",
       "      <td>297</td>\n",
       "      <td>461</td>\n",
       "    </tr>\n",
       "    <tr>\n",
       "      <th>2</th>\n",
       "      <td>5365374</td>\n",
       "      <td>125</td>\n",
       "      <td>365</td>\n",
       "      <td>490</td>\n",
       "    </tr>\n",
       "    <tr>\n",
       "      <th>3</th>\n",
       "      <td>4741586</td>\n",
       "      <td>168</td>\n",
       "      <td>160</td>\n",
       "      <td>328</td>\n",
       "    </tr>\n",
       "    <tr>\n",
       "      <th>4</th>\n",
       "      <td>5381209</td>\n",
       "      <td>138</td>\n",
       "      <td>523</td>\n",
       "      <td>661</td>\n",
       "    </tr>\n",
       "  </tbody>\n",
       "</table>\n",
       "</div>"
      ],
      "text/plain": [
       "   emergency_vehicle_selection  delta_selection-departure  \\\n",
       "0                      5105452                         86   \n",
       "1                      4720915                        164   \n",
       "2                      5365374                        125   \n",
       "3                      4741586                        168   \n",
       "4                      5381209                        138   \n",
       "\n",
       "   delta_departure-presentation  delta_selection-presentation  \n",
       "0                           324                           410  \n",
       "1                           297                           461  \n",
       "2                           365                           490  \n",
       "3                           160                           328  \n",
       "4                           523                           661  "
      ]
     },
     "execution_count": 100,
     "metadata": {},
     "output_type": "execute_result"
    }
   ],
   "source": [
    "y_train.head()"
   ]
  },
  {
   "cell_type": "markdown",
   "metadata": {},
   "source": [
    "### Data cleaning"
   ]
  },
  {
   "cell_type": "code",
   "execution_count": 101,
   "metadata": {},
   "outputs": [
    {
     "data": {
      "text/html": [
       "<div>\n",
       "<style scoped>\n",
       "    .dataframe tbody tr th:only-of-type {\n",
       "        vertical-align: middle;\n",
       "    }\n",
       "\n",
       "    .dataframe tbody tr th {\n",
       "        vertical-align: top;\n",
       "    }\n",
       "\n",
       "    .dataframe thead th {\n",
       "        text-align: right;\n",
       "    }\n",
       "</style>\n",
       "<table border=\"1\" class=\"dataframe\">\n",
       "  <thead>\n",
       "    <tr style=\"text-align: right;\">\n",
       "      <th></th>\n",
       "      <th>emergency_vehicle_selection</th>\n",
       "      <th>intervention</th>\n",
       "      <th>alert_reason_category</th>\n",
       "      <th>alert_reason</th>\n",
       "      <th>intervention_on_public_roads</th>\n",
       "      <th>floor</th>\n",
       "      <th>location_of_the_event</th>\n",
       "      <th>longitude_intervention</th>\n",
       "      <th>latitude_intervention</th>\n",
       "      <th>emergency_vehicle</th>\n",
       "      <th>...</th>\n",
       "      <th>OSRM_response</th>\n",
       "      <th>OSRM_estimated_distance</th>\n",
       "      <th>OSRM_estimated_duration</th>\n",
       "      <th>updated</th>\n",
       "      <th>date</th>\n",
       "      <th>hour</th>\n",
       "      <th>month</th>\n",
       "      <th>dayofweek</th>\n",
       "      <th>avg_speed_h</th>\n",
       "      <th>avg_speed_m</th>\n",
       "    </tr>\n",
       "  </thead>\n",
       "  <tbody>\n",
       "    <tr>\n",
       "      <th>0</th>\n",
       "      <td>5105452</td>\n",
       "      <td>13264186</td>\n",
       "      <td>3</td>\n",
       "      <td>2162</td>\n",
       "      <td>0</td>\n",
       "      <td>0</td>\n",
       "      <td>148.0</td>\n",
       "      <td>2.284796</td>\n",
       "      <td>48.879669</td>\n",
       "      <td>4511</td>\n",
       "      <td>...</td>\n",
       "      <td>{\"code\":\"Ok\",\"routes\":[{\"geometry\":\"}yjiH}x}L_...</td>\n",
       "      <td>952.5</td>\n",
       "      <td>482.810</td>\n",
       "      <td>1</td>\n",
       "      <td>2018-07-08</td>\n",
       "      <td>19</td>\n",
       "      <td>7</td>\n",
       "      <td>6</td>\n",
       "      <td>1.972826</td>\n",
       "      <td>1.972826</td>\n",
       "    </tr>\n",
       "    <tr>\n",
       "      <th>1</th>\n",
       "      <td>4720915</td>\n",
       "      <td>12663715</td>\n",
       "      <td>3</td>\n",
       "      <td>2124</td>\n",
       "      <td>0</td>\n",
       "      <td>1</td>\n",
       "      <td>136.0</td>\n",
       "      <td>2.247464</td>\n",
       "      <td>48.818191</td>\n",
       "      <td>4327</td>\n",
       "      <td>...</td>\n",
       "      <td>{\"code\":\"Ok\",\"routes\":[{\"geometry\":\"u|~hHy`zL_...</td>\n",
       "      <td>2238.5</td>\n",
       "      <td>243.200</td>\n",
       "      <td>0</td>\n",
       "      <td>2018-01-04</td>\n",
       "      <td>9</td>\n",
       "      <td>1</td>\n",
       "      <td>3</td>\n",
       "      <td>9.204359</td>\n",
       "      <td>9.204359</td>\n",
       "    </tr>\n",
       "    <tr>\n",
       "      <th>2</th>\n",
       "      <td>5365374</td>\n",
       "      <td>13675521</td>\n",
       "      <td>3</td>\n",
       "      <td>2163</td>\n",
       "      <td>0</td>\n",
       "      <td>2</td>\n",
       "      <td>139.0</td>\n",
       "      <td>2.258328</td>\n",
       "      <td>48.836759</td>\n",
       "      <td>4509</td>\n",
       "      <td>...</td>\n",
       "      <td>{\"code\":\"Ok\",\"routes\":[{\"geometry\":\"_cdiHo}zLm...</td>\n",
       "      <td>3026.4</td>\n",
       "      <td>557.323</td>\n",
       "      <td>1</td>\n",
       "      <td>2018-11-16</td>\n",
       "      <td>10</td>\n",
       "      <td>11</td>\n",
       "      <td>4</td>\n",
       "      <td>5.430244</td>\n",
       "      <td>5.430244</td>\n",
       "    </tr>\n",
       "    <tr>\n",
       "      <th>3</th>\n",
       "      <td>4741586</td>\n",
       "      <td>12695745</td>\n",
       "      <td>3</td>\n",
       "      <td>2162</td>\n",
       "      <td>0</td>\n",
       "      <td>0</td>\n",
       "      <td>136.0</td>\n",
       "      <td>2.393832</td>\n",
       "      <td>48.776526</td>\n",
       "      <td>5731</td>\n",
       "      <td>...</td>\n",
       "      <td>{\"code\":\"Ok\",\"routes\":[{\"geometry\":\"sywhH_pqMy...</td>\n",
       "      <td>1934.2</td>\n",
       "      <td>318.880</td>\n",
       "      <td>1</td>\n",
       "      <td>2018-01-15</td>\n",
       "      <td>0</td>\n",
       "      <td>1</td>\n",
       "      <td>0</td>\n",
       "      <td>6.065605</td>\n",
       "      <td>6.065605</td>\n",
       "    </tr>\n",
       "    <tr>\n",
       "      <th>4</th>\n",
       "      <td>5381209</td>\n",
       "      <td>13698743</td>\n",
       "      <td>3</td>\n",
       "      <td>2162</td>\n",
       "      <td>0</td>\n",
       "      <td>3</td>\n",
       "      <td>104.0</td>\n",
       "      <td>2.458610</td>\n",
       "      <td>48.875751</td>\n",
       "      <td>5623</td>\n",
       "      <td>...</td>\n",
       "      <td>{\"code\":\"Ok\",\"routes\":[{\"geometry\":\"wvfiHgn{Mj...</td>\n",
       "      <td>2706.7</td>\n",
       "      <td>719.983</td>\n",
       "      <td>1</td>\n",
       "      <td>2018-11-24</td>\n",
       "      <td>0</td>\n",
       "      <td>11</td>\n",
       "      <td>5</td>\n",
       "      <td>3.759394</td>\n",
       "      <td>3.759394</td>\n",
       "    </tr>\n",
       "  </tbody>\n",
       "</table>\n",
       "<p>5 rows × 33 columns</p>\n",
       "</div>"
      ],
      "text/plain": [
       "   emergency_vehicle_selection  intervention  alert_reason_category  \\\n",
       "0                      5105452      13264186                      3   \n",
       "1                      4720915      12663715                      3   \n",
       "2                      5365374      13675521                      3   \n",
       "3                      4741586      12695745                      3   \n",
       "4                      5381209      13698743                      3   \n",
       "\n",
       "   alert_reason  intervention_on_public_roads  floor  location_of_the_event  \\\n",
       "0          2162                             0      0                  148.0   \n",
       "1          2124                             0      1                  136.0   \n",
       "2          2163                             0      2                  139.0   \n",
       "3          2162                             0      0                  136.0   \n",
       "4          2162                             0      3                  104.0   \n",
       "\n",
       "   longitude_intervention  latitude_intervention  emergency_vehicle  ...  \\\n",
       "0                2.284796              48.879669               4511  ...   \n",
       "1                2.247464              48.818191               4327  ...   \n",
       "2                2.258328              48.836759               4509  ...   \n",
       "3                2.393832              48.776526               5731  ...   \n",
       "4                2.458610              48.875751               5623  ...   \n",
       "\n",
       "                                       OSRM_response  OSRM_estimated_distance  \\\n",
       "0  {\"code\":\"Ok\",\"routes\":[{\"geometry\":\"}yjiH}x}L_...                    952.5   \n",
       "1  {\"code\":\"Ok\",\"routes\":[{\"geometry\":\"u|~hHy`zL_...                   2238.5   \n",
       "2  {\"code\":\"Ok\",\"routes\":[{\"geometry\":\"_cdiHo}zLm...                   3026.4   \n",
       "3  {\"code\":\"Ok\",\"routes\":[{\"geometry\":\"sywhH_pqMy...                   1934.2   \n",
       "4  {\"code\":\"Ok\",\"routes\":[{\"geometry\":\"wvfiHgn{Mj...                   2706.7   \n",
       "\n",
       "  OSRM_estimated_duration  updated        date hour  month  dayofweek  \\\n",
       "0                 482.810        1  2018-07-08   19      7          6   \n",
       "1                 243.200        0  2018-01-04    9      1          3   \n",
       "2                 557.323        1  2018-11-16   10     11          4   \n",
       "3                 318.880        1  2018-01-15    0      1          0   \n",
       "4                 719.983        1  2018-11-24    0     11          5   \n",
       "\n",
       "   avg_speed_h  avg_speed_m  \n",
       "0     1.972826     1.972826  \n",
       "1     9.204359     9.204359  \n",
       "2     5.430244     5.430244  \n",
       "3     6.065605     6.065605  \n",
       "4     3.759394     3.759394  \n",
       "\n",
       "[5 rows x 33 columns]"
      ]
     },
     "execution_count": 101,
     "metadata": {},
     "output_type": "execute_result"
    }
   ],
   "source": [
    "Master=pd.concat([x_train,y_train['delta_selection-departure'],y_train['delta_departure-presentation'],\n",
    "                y_train['delta_selection-presentation']],axis=1)\n",
    "\n",
    "## outliers\n",
    "aberrantes=Master[Master['delta_selection-departure'] >= 600]\n",
    "aberrantes=Master[Master['delta_departure-presentation'] >= 2000]\n",
    "## inliers\n",
    "Master = Master[Master['delta_selection-departure'] <= 600]\n",
    "Master = Master[Master['delta_departure-presentation'] <= 2000]\n",
    "\n",
    "y_train=pd.concat([Master['emergency_vehicle_selection'],Master['delta_selection-departure'],\n",
    "                 Master['delta_departure-presentation'],Master['delta_selection-presentation']],\n",
    "                 axis=1)\n",
    "x_train=Master.drop(['delta_selection-departure','delta_departure-presentation','delta_selection-presentation'],\n",
    "                   axis=1)\n",
    "\n",
    "x_train.head()"
   ]
  },
  {
   "cell_type": "code",
   "execution_count": 102,
   "metadata": {},
   "outputs": [
    {
     "data": {
      "text/plain": [
       "(251, 36)"
      ]
     },
     "execution_count": 102,
     "metadata": {},
     "output_type": "execute_result"
    }
   ],
   "source": [
    "aberrantes.shape"
   ]
  },
  {
   "cell_type": "code",
   "execution_count": 103,
   "metadata": {},
   "outputs": [
    {
     "data": {
      "text/html": [
       "<div>\n",
       "<style scoped>\n",
       "    .dataframe tbody tr th:only-of-type {\n",
       "        vertical-align: middle;\n",
       "    }\n",
       "\n",
       "    .dataframe tbody tr th {\n",
       "        vertical-align: top;\n",
       "    }\n",
       "\n",
       "    .dataframe thead th {\n",
       "        text-align: right;\n",
       "    }\n",
       "</style>\n",
       "<table border=\"1\" class=\"dataframe\">\n",
       "  <thead>\n",
       "    <tr style=\"text-align: right;\">\n",
       "      <th></th>\n",
       "      <th>emergency_vehicle_selection</th>\n",
       "      <th>delta_selection-departure</th>\n",
       "      <th>delta_departure-presentation</th>\n",
       "      <th>delta_selection-presentation</th>\n",
       "    </tr>\n",
       "  </thead>\n",
       "  <tbody>\n",
       "    <tr>\n",
       "      <th>0</th>\n",
       "      <td>5105452</td>\n",
       "      <td>86</td>\n",
       "      <td>324</td>\n",
       "      <td>410</td>\n",
       "    </tr>\n",
       "    <tr>\n",
       "      <th>1</th>\n",
       "      <td>4720915</td>\n",
       "      <td>164</td>\n",
       "      <td>297</td>\n",
       "      <td>461</td>\n",
       "    </tr>\n",
       "    <tr>\n",
       "      <th>2</th>\n",
       "      <td>5365374</td>\n",
       "      <td>125</td>\n",
       "      <td>365</td>\n",
       "      <td>490</td>\n",
       "    </tr>\n",
       "    <tr>\n",
       "      <th>3</th>\n",
       "      <td>4741586</td>\n",
       "      <td>168</td>\n",
       "      <td>160</td>\n",
       "      <td>328</td>\n",
       "    </tr>\n",
       "    <tr>\n",
       "      <th>4</th>\n",
       "      <td>5381209</td>\n",
       "      <td>138</td>\n",
       "      <td>523</td>\n",
       "      <td>661</td>\n",
       "    </tr>\n",
       "  </tbody>\n",
       "</table>\n",
       "</div>"
      ],
      "text/plain": [
       "   emergency_vehicle_selection  delta_selection-departure  \\\n",
       "0                      5105452                         86   \n",
       "1                      4720915                        164   \n",
       "2                      5365374                        125   \n",
       "3                      4741586                        168   \n",
       "4                      5381209                        138   \n",
       "\n",
       "   delta_departure-presentation  delta_selection-presentation  \n",
       "0                           324                           410  \n",
       "1                           297                           461  \n",
       "2                           365                           490  \n",
       "3                           160                           328  \n",
       "4                           523                           661  "
      ]
     },
     "execution_count": 103,
     "metadata": {},
     "output_type": "execute_result"
    }
   ],
   "source": [
    "y_train.head()"
   ]
  },
  {
   "cell_type": "code",
   "execution_count": 104,
   "metadata": {},
   "outputs": [
    {
     "name": "stdout",
     "output_type": "stream",
     "text": [
      "(218984, 4) (218984, 33)\n"
     ]
    }
   ],
   "source": [
    "print(y_train.shape,x_train.shape)"
   ]
  },
  {
   "cell_type": "markdown",
   "metadata": {},
   "source": [
    "### Dummy variables"
   ]
  },
  {
   "cell_type": "code",
   "execution_count": 105,
   "metadata": {},
   "outputs": [],
   "source": [
    "# Creation of dummy variables for both samples (test and train) - 0/1 indicators\n",
    "\n",
    "month_train = pd.get_dummies(x_train['month'], prefix='m', prefix_sep='_')\n",
    "dofw_train = pd.get_dummies(x_train['dayofweek'], prefix='d', prefix_sep='_')\n",
    "hour_train = pd.get_dummies(x_train['hour'], prefix='h', prefix_sep='_')\n",
    "emergency_train=pd.get_dummies(x_train['emergency_vehicle_type'], prefix='type', prefix_sep='_')\n",
    "alert_reason_train = pd.get_dummies(x_train['alert_reason_category'], prefix='reason', prefix_sep='_')\n",
    "\n",
    "month_test = pd.get_dummies(x_test['month'], prefix='m', prefix_sep='_')\n",
    "dofw_test = pd.get_dummies(x_test['dayofweek'], prefix='d', prefix_sep='_')\n",
    "hour_test = pd.get_dummies(x_test['hour'], prefix='h', prefix_sep='_')\n",
    "emergency_test=pd.get_dummies(x_test['emergency_vehicle_type'], prefix='type', prefix_sep='_')\n",
    "alert_reason_test = pd.get_dummies(x_test['alert_reason_category'], prefix='reason', prefix_sep='_')"
   ]
  },
  {
   "cell_type": "code",
   "execution_count": 106,
   "metadata": {},
   "outputs": [
    {
     "data": {
      "text/plain": [
       "(108033,)"
      ]
     },
     "execution_count": 106,
     "metadata": {},
     "output_type": "execute_result"
    }
   ],
   "source": [
    "updated.shape"
   ]
  },
  {
   "cell_type": "code",
   "execution_count": 107,
   "metadata": {},
   "outputs": [
    {
     "data": {
      "text/html": [
       "<div>\n",
       "<style scoped>\n",
       "    .dataframe tbody tr th:only-of-type {\n",
       "        vertical-align: middle;\n",
       "    }\n",
       "\n",
       "    .dataframe tbody tr th {\n",
       "        vertical-align: top;\n",
       "    }\n",
       "\n",
       "    .dataframe thead th {\n",
       "        text-align: right;\n",
       "    }\n",
       "</style>\n",
       "<table border=\"1\" class=\"dataframe\">\n",
       "  <thead>\n",
       "    <tr style=\"text-align: right;\">\n",
       "      <th></th>\n",
       "      <th>type_AR</th>\n",
       "      <th>type_BEAA BSPP</th>\n",
       "      <th>type_CA</th>\n",
       "      <th>type_CCR BSPP</th>\n",
       "      <th>type_CD BSPP</th>\n",
       "      <th>type_CESD</th>\n",
       "      <th>type_CFS</th>\n",
       "      <th>type_CMO APP</th>\n",
       "      <th>type_CRAC</th>\n",
       "      <th>type_CRF</th>\n",
       "      <th>...</th>\n",
       "      <th>type_VRCP</th>\n",
       "      <th>type_VRM</th>\n",
       "      <th>type_VRSD</th>\n",
       "      <th>type_VSAV BALA</th>\n",
       "      <th>type_VSAV BSPP</th>\n",
       "      <th>type_VSAV SDIS</th>\n",
       "      <th>type_VSAV SSLIA</th>\n",
       "      <th>type_VSIS</th>\n",
       "      <th>type_VSTI</th>\n",
       "      <th>type_VTBA</th>\n",
       "    </tr>\n",
       "  </thead>\n",
       "  <tbody>\n",
       "    <tr>\n",
       "      <th>0</th>\n",
       "      <td>0</td>\n",
       "      <td>0</td>\n",
       "      <td>0</td>\n",
       "      <td>0</td>\n",
       "      <td>0</td>\n",
       "      <td>0</td>\n",
       "      <td>0</td>\n",
       "      <td>0</td>\n",
       "      <td>0</td>\n",
       "      <td>0</td>\n",
       "      <td>...</td>\n",
       "      <td>0</td>\n",
       "      <td>0</td>\n",
       "      <td>0</td>\n",
       "      <td>0</td>\n",
       "      <td>1</td>\n",
       "      <td>0</td>\n",
       "      <td>0</td>\n",
       "      <td>0</td>\n",
       "      <td>0</td>\n",
       "      <td>0</td>\n",
       "    </tr>\n",
       "    <tr>\n",
       "      <th>1</th>\n",
       "      <td>0</td>\n",
       "      <td>0</td>\n",
       "      <td>0</td>\n",
       "      <td>0</td>\n",
       "      <td>0</td>\n",
       "      <td>0</td>\n",
       "      <td>0</td>\n",
       "      <td>0</td>\n",
       "      <td>0</td>\n",
       "      <td>0</td>\n",
       "      <td>...</td>\n",
       "      <td>0</td>\n",
       "      <td>0</td>\n",
       "      <td>0</td>\n",
       "      <td>0</td>\n",
       "      <td>0</td>\n",
       "      <td>0</td>\n",
       "      <td>0</td>\n",
       "      <td>0</td>\n",
       "      <td>0</td>\n",
       "      <td>0</td>\n",
       "    </tr>\n",
       "    <tr>\n",
       "      <th>2</th>\n",
       "      <td>0</td>\n",
       "      <td>0</td>\n",
       "      <td>0</td>\n",
       "      <td>0</td>\n",
       "      <td>0</td>\n",
       "      <td>0</td>\n",
       "      <td>0</td>\n",
       "      <td>0</td>\n",
       "      <td>0</td>\n",
       "      <td>0</td>\n",
       "      <td>...</td>\n",
       "      <td>0</td>\n",
       "      <td>0</td>\n",
       "      <td>0</td>\n",
       "      <td>0</td>\n",
       "      <td>1</td>\n",
       "      <td>0</td>\n",
       "      <td>0</td>\n",
       "      <td>0</td>\n",
       "      <td>0</td>\n",
       "      <td>0</td>\n",
       "    </tr>\n",
       "    <tr>\n",
       "      <th>3</th>\n",
       "      <td>0</td>\n",
       "      <td>0</td>\n",
       "      <td>0</td>\n",
       "      <td>0</td>\n",
       "      <td>0</td>\n",
       "      <td>0</td>\n",
       "      <td>0</td>\n",
       "      <td>0</td>\n",
       "      <td>0</td>\n",
       "      <td>0</td>\n",
       "      <td>...</td>\n",
       "      <td>0</td>\n",
       "      <td>0</td>\n",
       "      <td>0</td>\n",
       "      <td>0</td>\n",
       "      <td>1</td>\n",
       "      <td>0</td>\n",
       "      <td>0</td>\n",
       "      <td>0</td>\n",
       "      <td>0</td>\n",
       "      <td>0</td>\n",
       "    </tr>\n",
       "    <tr>\n",
       "      <th>4</th>\n",
       "      <td>0</td>\n",
       "      <td>0</td>\n",
       "      <td>0</td>\n",
       "      <td>0</td>\n",
       "      <td>0</td>\n",
       "      <td>0</td>\n",
       "      <td>0</td>\n",
       "      <td>0</td>\n",
       "      <td>0</td>\n",
       "      <td>0</td>\n",
       "      <td>...</td>\n",
       "      <td>0</td>\n",
       "      <td>0</td>\n",
       "      <td>0</td>\n",
       "      <td>0</td>\n",
       "      <td>1</td>\n",
       "      <td>0</td>\n",
       "      <td>0</td>\n",
       "      <td>0</td>\n",
       "      <td>0</td>\n",
       "      <td>0</td>\n",
       "    </tr>\n",
       "  </tbody>\n",
       "</table>\n",
       "<p>5 rows × 74 columns</p>\n",
       "</div>"
      ],
      "text/plain": [
       "   type_AR  type_BEAA BSPP  type_CA  type_CCR BSPP  type_CD BSPP  type_CESD  \\\n",
       "0        0               0        0              0             0          0   \n",
       "1        0               0        0              0             0          0   \n",
       "2        0               0        0              0             0          0   \n",
       "3        0               0        0              0             0          0   \n",
       "4        0               0        0              0             0          0   \n",
       "\n",
       "   type_CFS  type_CMO APP  type_CRAC  type_CRF  ...  type_VRCP  type_VRM  \\\n",
       "0         0             0          0         0  ...          0         0   \n",
       "1         0             0          0         0  ...          0         0   \n",
       "2         0             0          0         0  ...          0         0   \n",
       "3         0             0          0         0  ...          0         0   \n",
       "4         0             0          0         0  ...          0         0   \n",
       "\n",
       "   type_VRSD  type_VSAV BALA  type_VSAV BSPP  type_VSAV SDIS  type_VSAV SSLIA  \\\n",
       "0          0               0               1               0                0   \n",
       "1          0               0               0               0                0   \n",
       "2          0               0               1               0                0   \n",
       "3          0               0               1               0                0   \n",
       "4          0               0               1               0                0   \n",
       "\n",
       "   type_VSIS  type_VSTI  type_VTBA  \n",
       "0          0          0          0  \n",
       "1          0          0          0  \n",
       "2          0          0          0  \n",
       "3          0          0          0  \n",
       "4          0          0          0  \n",
       "\n",
       "[5 rows x 74 columns]"
      ]
     },
     "execution_count": 107,
     "metadata": {},
     "output_type": "execute_result"
    }
   ],
   "source": [
    "emergency_train.head()"
   ]
  },
  {
   "cell_type": "code",
   "execution_count": 108,
   "metadata": {},
   "outputs": [
    {
     "name": "stdout",
     "output_type": "stream",
     "text": [
      "(11,) (11,)\n",
      "(7,) (7,)\n",
      "(24,) (24,)\n",
      "(66,) (74,)\n",
      "(9,) (9,)\n"
     ]
    }
   ],
   "source": [
    "print(month_test.columns.shape,month_train.columns.shape)\n",
    "print(dofw_test.columns.shape,dofw_train.columns.shape)\n",
    "print(hour_test.columns.shape,hour_train.columns.shape)\n",
    "print(emergency_test.columns.shape,emergency_train.columns.shape)\n",
    "print(alert_reason_test.columns.shape,alert_reason_train.columns.shape)"
   ]
  },
  {
   "cell_type": "markdown",
   "metadata": {},
   "source": [
    "There seems to be a slight issue for $\\texttt{emergency}$"
   ]
  },
  {
   "cell_type": "markdown",
   "metadata": {},
   "source": [
    "### Creation of training and testing datasets with desired features"
   ]
  },
  {
   "cell_type": "code",
   "execution_count": 109,
   "metadata": {},
   "outputs": [],
   "source": [
    "temps_estimee=x_train['OSRM_estimated_duration']\n",
    "distance=x_train['OSRM_estimated_distance']\n",
    "\n",
    "Train_Master=pd.concat([x_train['OSRM_estimated_duration'],x_train['OSRM_estimated_distance'],\n",
    "                        month_train,hour_train,alert_reason_train,x_train['updated'],\n",
    "                       x_train['floor'],x_train['intervention_on_public_roads'],\n",
    "                       dofw_train,x_train['delta_status_preceding_selection-selection'],\n",
    "                       x_train['location_of_the_event'],x_train['rescue_center']],axis=1)\n",
    "\n",
    "Test_Master=pd.concat([x_test['OSRM_estimated_duration'],x_test['OSRM_estimated_distance'],\n",
    "                        month_test,hour_test,alert_reason_test,x_test['updated'],\n",
    "                       x_test['floor'],x_test['intervention_on_public_roads'],\n",
    "                       dofw_test,x_test['delta_status_preceding_selection-selection'],\n",
    "                       x_test['location_of_the_event'],x_test['rescue_center']],axis=1)"
   ]
  },
  {
   "cell_type": "code",
   "execution_count": 110,
   "metadata": {},
   "outputs": [
    {
     "data": {
      "text/html": [
       "<div>\n",
       "<style scoped>\n",
       "    .dataframe tbody tr th:only-of-type {\n",
       "        vertical-align: middle;\n",
       "    }\n",
       "\n",
       "    .dataframe tbody tr th {\n",
       "        vertical-align: top;\n",
       "    }\n",
       "\n",
       "    .dataframe thead th {\n",
       "        text-align: right;\n",
       "    }\n",
       "</style>\n",
       "<table border=\"1\" class=\"dataframe\">\n",
       "  <thead>\n",
       "    <tr style=\"text-align: right;\">\n",
       "      <th></th>\n",
       "      <th>OSRM_estimated_duration</th>\n",
       "      <th>OSRM_estimated_distance</th>\n",
       "      <th>m_1</th>\n",
       "      <th>m_2</th>\n",
       "      <th>m_3</th>\n",
       "      <th>m_4</th>\n",
       "      <th>m_5</th>\n",
       "      <th>m_6</th>\n",
       "      <th>m_7</th>\n",
       "      <th>m_8</th>\n",
       "      <th>...</th>\n",
       "      <th>d_0</th>\n",
       "      <th>d_1</th>\n",
       "      <th>d_2</th>\n",
       "      <th>d_3</th>\n",
       "      <th>d_4</th>\n",
       "      <th>d_5</th>\n",
       "      <th>d_6</th>\n",
       "      <th>delta_status_preceding_selection-selection</th>\n",
       "      <th>location_of_the_event</th>\n",
       "      <th>rescue_center</th>\n",
       "    </tr>\n",
       "  </thead>\n",
       "  <tbody>\n",
       "    <tr>\n",
       "      <th>0</th>\n",
       "      <td>482.810</td>\n",
       "      <td>952.5</td>\n",
       "      <td>0</td>\n",
       "      <td>0</td>\n",
       "      <td>0</td>\n",
       "      <td>0</td>\n",
       "      <td>0</td>\n",
       "      <td>0</td>\n",
       "      <td>1</td>\n",
       "      <td>0</td>\n",
       "      <td>...</td>\n",
       "      <td>0</td>\n",
       "      <td>0</td>\n",
       "      <td>0</td>\n",
       "      <td>0</td>\n",
       "      <td>0</td>\n",
       "      <td>0</td>\n",
       "      <td>1</td>\n",
       "      <td>2027</td>\n",
       "      <td>148.0</td>\n",
       "      <td>2447</td>\n",
       "    </tr>\n",
       "    <tr>\n",
       "      <th>1</th>\n",
       "      <td>243.200</td>\n",
       "      <td>2238.5</td>\n",
       "      <td>1</td>\n",
       "      <td>0</td>\n",
       "      <td>0</td>\n",
       "      <td>0</td>\n",
       "      <td>0</td>\n",
       "      <td>0</td>\n",
       "      <td>0</td>\n",
       "      <td>0</td>\n",
       "      <td>...</td>\n",
       "      <td>0</td>\n",
       "      <td>0</td>\n",
       "      <td>0</td>\n",
       "      <td>1</td>\n",
       "      <td>0</td>\n",
       "      <td>0</td>\n",
       "      <td>0</td>\n",
       "      <td>28233</td>\n",
       "      <td>136.0</td>\n",
       "      <td>2464</td>\n",
       "    </tr>\n",
       "    <tr>\n",
       "      <th>2</th>\n",
       "      <td>557.323</td>\n",
       "      <td>3026.4</td>\n",
       "      <td>0</td>\n",
       "      <td>0</td>\n",
       "      <td>0</td>\n",
       "      <td>0</td>\n",
       "      <td>0</td>\n",
       "      <td>0</td>\n",
       "      <td>0</td>\n",
       "      <td>0</td>\n",
       "      <td>...</td>\n",
       "      <td>0</td>\n",
       "      <td>0</td>\n",
       "      <td>0</td>\n",
       "      <td>0</td>\n",
       "      <td>1</td>\n",
       "      <td>0</td>\n",
       "      <td>0</td>\n",
       "      <td>1981</td>\n",
       "      <td>139.0</td>\n",
       "      <td>2438</td>\n",
       "    </tr>\n",
       "    <tr>\n",
       "      <th>3</th>\n",
       "      <td>318.880</td>\n",
       "      <td>1934.2</td>\n",
       "      <td>1</td>\n",
       "      <td>0</td>\n",
       "      <td>0</td>\n",
       "      <td>0</td>\n",
       "      <td>0</td>\n",
       "      <td>0</td>\n",
       "      <td>0</td>\n",
       "      <td>0</td>\n",
       "      <td>...</td>\n",
       "      <td>1</td>\n",
       "      <td>0</td>\n",
       "      <td>0</td>\n",
       "      <td>0</td>\n",
       "      <td>0</td>\n",
       "      <td>0</td>\n",
       "      <td>0</td>\n",
       "      <td>1842</td>\n",
       "      <td>136.0</td>\n",
       "      <td>2510</td>\n",
       "    </tr>\n",
       "    <tr>\n",
       "      <th>4</th>\n",
       "      <td>719.983</td>\n",
       "      <td>2706.7</td>\n",
       "      <td>0</td>\n",
       "      <td>0</td>\n",
       "      <td>0</td>\n",
       "      <td>0</td>\n",
       "      <td>0</td>\n",
       "      <td>0</td>\n",
       "      <td>0</td>\n",
       "      <td>0</td>\n",
       "      <td>...</td>\n",
       "      <td>0</td>\n",
       "      <td>0</td>\n",
       "      <td>0</td>\n",
       "      <td>0</td>\n",
       "      <td>0</td>\n",
       "      <td>1</td>\n",
       "      <td>0</td>\n",
       "      <td>2716</td>\n",
       "      <td>104.0</td>\n",
       "      <td>2478</td>\n",
       "    </tr>\n",
       "  </tbody>\n",
       "</table>\n",
       "<p>5 rows × 59 columns</p>\n",
       "</div>"
      ],
      "text/plain": [
       "   OSRM_estimated_duration  OSRM_estimated_distance  m_1  m_2  m_3  m_4  m_5  \\\n",
       "0                  482.810                    952.5    0    0    0    0    0   \n",
       "1                  243.200                   2238.5    1    0    0    0    0   \n",
       "2                  557.323                   3026.4    0    0    0    0    0   \n",
       "3                  318.880                   1934.2    1    0    0    0    0   \n",
       "4                  719.983                   2706.7    0    0    0    0    0   \n",
       "\n",
       "   m_6  m_7  m_8  ...  d_0  d_1  d_2  d_3  d_4  d_5  d_6  \\\n",
       "0    0    1    0  ...    0    0    0    0    0    0    1   \n",
       "1    0    0    0  ...    0    0    0    1    0    0    0   \n",
       "2    0    0    0  ...    0    0    0    0    1    0    0   \n",
       "3    0    0    0  ...    1    0    0    0    0    0    0   \n",
       "4    0    0    0  ...    0    0    0    0    0    1    0   \n",
       "\n",
       "   delta_status_preceding_selection-selection  location_of_the_event  \\\n",
       "0                                        2027                  148.0   \n",
       "1                                       28233                  136.0   \n",
       "2                                        1981                  139.0   \n",
       "3                                        1842                  136.0   \n",
       "4                                        2716                  104.0   \n",
       "\n",
       "   rescue_center  \n",
       "0           2447  \n",
       "1           2464  \n",
       "2           2438  \n",
       "3           2510  \n",
       "4           2478  \n",
       "\n",
       "[5 rows x 59 columns]"
      ]
     },
     "execution_count": 110,
     "metadata": {},
     "output_type": "execute_result"
    }
   ],
   "source": [
    "Train_Master.head()"
   ]
  },
  {
   "cell_type": "markdown",
   "metadata": {},
   "source": [
    "# 3. Implementation of the models"
   ]
  },
  {
   "cell_type": "markdown",
   "metadata": {},
   "source": [
    "### Polynomial regression implementation"
   ]
  },
  {
   "cell_type": "markdown",
   "metadata": {},
   "source": [
    "This is the starting code provided by the challenge organizer"
   ]
  },
  {
   "cell_type": "code",
   "execution_count": null,
   "metadata": {
    "scrolled": true
   },
   "outputs": [],
   "source": [
    "# Data reading\n",
    "x_train_transit = x_train[['OSRM estimated distance','intervention on public roads','floor']]\n",
    "y_train_transit = y_train[['delta departure-presentation']]\n",
    "x_test_transit = x_test[['OSRM estimated distance','intervention on public roads','floor']]\n",
    "\n",
    "# Create a predictive model for the 'delta departure-presentation'\n",
    "# based on 'OSRM estimated distance', 'intervention on public roads' and 'floor'\n",
    "polynomial_features= PolynomialFeatures(degree=3)\n",
    "x_train_transit_poly = polynomial_features.fit_transform(x_train_transit)\n",
    "model = LinearRegression()\n",
    "model.fit(x_train_transit_poly, y_train_transit)\n",
    "\n",
    "# Prediction of the 'delta selection-presentation'\n",
    "x_test_transit_poly = polynomial_features.fit_transform(x_test_transit)\n",
    "y_selection_presentation_predicted = y_train['delta selection-departure'].median() + model.predict(x_test_transit_poly)\n",
    "\n",
    "# Create a submission file\n",
    "submission = pd.concat([pd.DataFrame(x_test[['emergency vehicle selection']].values), \n",
    "           pd.DataFrame(np.full((len(x_test), 1), y_train['delta selection-departure'].median())), \n",
    "           pd.DataFrame(model.predict(x_test_transit_poly)), \n",
    "           pd.DataFrame(y_selection_presentation_predicted)], \n",
    "           axis=1)\n",
    "\n",
    "submission.columns = list(y_train.columns.values)\n",
    "submission.set_index('emergency vehicle selection', inplace=True)\n",
    "submission.to_csv('./submission.csv', sep=\",\")"
   ]
  },
  {
   "cell_type": "code",
   "execution_count": null,
   "metadata": {},
   "outputs": [],
   "source": [
    "f, ax = plt.subplots(figsize=(10,10))\n",
    "plt.hist(y_selection_presentation_predicted, bins=50)\n",
    "plt.xlabel('Temps en secondes')\n",
    "plt.ylabel('Nombre ')\n",
    "plt.plot()"
   ]
  },
  {
   "cell_type": "markdown",
   "metadata": {},
   "source": [
    "### Lasso implementation"
   ]
  },
  {
   "cell_type": "code",
   "execution_count": 111,
   "metadata": {},
   "outputs": [
    {
     "data": {
      "text/html": [
       "<div>\n",
       "<style scoped>\n",
       "    .dataframe tbody tr th:only-of-type {\n",
       "        vertical-align: middle;\n",
       "    }\n",
       "\n",
       "    .dataframe tbody tr th {\n",
       "        vertical-align: top;\n",
       "    }\n",
       "\n",
       "    .dataframe thead th {\n",
       "        text-align: right;\n",
       "    }\n",
       "</style>\n",
       "<table border=\"1\" class=\"dataframe\">\n",
       "  <thead>\n",
       "    <tr style=\"text-align: right;\">\n",
       "      <th></th>\n",
       "      <th>OSRM_estimated_duration</th>\n",
       "      <th>OSRM_estimated_distance</th>\n",
       "      <th>m_1</th>\n",
       "      <th>m_2</th>\n",
       "      <th>m_3</th>\n",
       "      <th>m_4</th>\n",
       "      <th>m_5</th>\n",
       "      <th>m_6</th>\n",
       "      <th>m_7</th>\n",
       "      <th>m_8</th>\n",
       "      <th>...</th>\n",
       "      <th>intervention_on_public_roads</th>\n",
       "      <th>d_0</th>\n",
       "      <th>d_1</th>\n",
       "      <th>d_2</th>\n",
       "      <th>d_3</th>\n",
       "      <th>d_4</th>\n",
       "      <th>d_5</th>\n",
       "      <th>d_6</th>\n",
       "      <th>delta_status_preceding_selection-selection</th>\n",
       "      <th>rescue_center</th>\n",
       "    </tr>\n",
       "  </thead>\n",
       "  <tbody>\n",
       "    <tr>\n",
       "      <th>0</th>\n",
       "      <td>336.500</td>\n",
       "      <td>3266.8</td>\n",
       "      <td>0</td>\n",
       "      <td>0</td>\n",
       "      <td>0</td>\n",
       "      <td>0</td>\n",
       "      <td>0</td>\n",
       "      <td>0</td>\n",
       "      <td>0</td>\n",
       "      <td>0</td>\n",
       "      <td>...</td>\n",
       "      <td>0</td>\n",
       "      <td>0</td>\n",
       "      <td>1</td>\n",
       "      <td>0</td>\n",
       "      <td>0</td>\n",
       "      <td>0</td>\n",
       "      <td>0</td>\n",
       "      <td>0</td>\n",
       "      <td>953</td>\n",
       "      <td>2483</td>\n",
       "    </tr>\n",
       "    <tr>\n",
       "      <th>1</th>\n",
       "      <td>466.503</td>\n",
       "      <td>2710.3</td>\n",
       "      <td>0</td>\n",
       "      <td>0</td>\n",
       "      <td>0</td>\n",
       "      <td>0</td>\n",
       "      <td>0</td>\n",
       "      <td>0</td>\n",
       "      <td>1</td>\n",
       "      <td>0</td>\n",
       "      <td>...</td>\n",
       "      <td>0</td>\n",
       "      <td>0</td>\n",
       "      <td>1</td>\n",
       "      <td>0</td>\n",
       "      <td>0</td>\n",
       "      <td>0</td>\n",
       "      <td>0</td>\n",
       "      <td>0</td>\n",
       "      <td>1906</td>\n",
       "      <td>2462</td>\n",
       "    </tr>\n",
       "    <tr>\n",
       "      <th>2</th>\n",
       "      <td>85.100</td>\n",
       "      <td>914.2</td>\n",
       "      <td>0</td>\n",
       "      <td>0</td>\n",
       "      <td>0</td>\n",
       "      <td>0</td>\n",
       "      <td>0</td>\n",
       "      <td>0</td>\n",
       "      <td>1</td>\n",
       "      <td>0</td>\n",
       "      <td>...</td>\n",
       "      <td>1</td>\n",
       "      <td>1</td>\n",
       "      <td>0</td>\n",
       "      <td>0</td>\n",
       "      <td>0</td>\n",
       "      <td>0</td>\n",
       "      <td>0</td>\n",
       "      <td>0</td>\n",
       "      <td>654</td>\n",
       "      <td>2482</td>\n",
       "    </tr>\n",
       "    <tr>\n",
       "      <th>3</th>\n",
       "      <td>167.800</td>\n",
       "      <td>1124.2</td>\n",
       "      <td>0</td>\n",
       "      <td>0</td>\n",
       "      <td>0</td>\n",
       "      <td>0</td>\n",
       "      <td>0</td>\n",
       "      <td>0</td>\n",
       "      <td>0</td>\n",
       "      <td>0</td>\n",
       "      <td>...</td>\n",
       "      <td>0</td>\n",
       "      <td>1</td>\n",
       "      <td>0</td>\n",
       "      <td>0</td>\n",
       "      <td>0</td>\n",
       "      <td>0</td>\n",
       "      <td>0</td>\n",
       "      <td>0</td>\n",
       "      <td>10816</td>\n",
       "      <td>2450</td>\n",
       "    </tr>\n",
       "    <tr>\n",
       "      <th>4</th>\n",
       "      <td>244.000</td>\n",
       "      <td>1542.7</td>\n",
       "      <td>0</td>\n",
       "      <td>0</td>\n",
       "      <td>0</td>\n",
       "      <td>0</td>\n",
       "      <td>0</td>\n",
       "      <td>0</td>\n",
       "      <td>0</td>\n",
       "      <td>1</td>\n",
       "      <td>...</td>\n",
       "      <td>1</td>\n",
       "      <td>0</td>\n",
       "      <td>0</td>\n",
       "      <td>0</td>\n",
       "      <td>0</td>\n",
       "      <td>0</td>\n",
       "      <td>0</td>\n",
       "      <td>1</td>\n",
       "      <td>3219</td>\n",
       "      <td>2493</td>\n",
       "    </tr>\n",
       "  </tbody>\n",
       "</table>\n",
       "<p>5 rows × 58 columns</p>\n",
       "</div>"
      ],
      "text/plain": [
       "   OSRM_estimated_duration  OSRM_estimated_distance  m_1  m_2  m_3  m_4  m_5  \\\n",
       "0                  336.500                   3266.8    0    0    0    0    0   \n",
       "1                  466.503                   2710.3    0    0    0    0    0   \n",
       "2                   85.100                    914.2    0    0    0    0    0   \n",
       "3                  167.800                   1124.2    0    0    0    0    0   \n",
       "4                  244.000                   1542.7    0    0    0    0    0   \n",
       "\n",
       "   m_6  m_7  m_8  ...  intervention_on_public_roads  d_0  d_1  d_2  d_3  d_4  \\\n",
       "0    0    0    0  ...                             0    0    1    0    0    0   \n",
       "1    0    1    0  ...                             0    0    1    0    0    0   \n",
       "2    0    1    0  ...                             1    1    0    0    0    0   \n",
       "3    0    0    0  ...                             0    1    0    0    0    0   \n",
       "4    0    0    1  ...                             1    0    0    0    0    0   \n",
       "\n",
       "   d_5  d_6  delta_status_preceding_selection-selection  rescue_center  \n",
       "0    0    0                                         953           2483  \n",
       "1    0    0                                        1906           2462  \n",
       "2    0    0                                         654           2482  \n",
       "3    0    0                                       10816           2450  \n",
       "4    0    1                                        3219           2493  \n",
       "\n",
       "[5 rows x 58 columns]"
      ]
     },
     "execution_count": 111,
     "metadata": {},
     "output_type": "execute_result"
    }
   ],
   "source": [
    "Train_Lasso=Train_Master.drop(['location_of_the_event'],axis=1)\n",
    "Test_Lasso=0\n",
    "Test_Lasso=Test_Master.drop(['location_of_the_event'],axis=1)\n",
    "Test_Lasso.head()"
   ]
  },
  {
   "cell_type": "code",
   "execution_count": 112,
   "metadata": {},
   "outputs": [],
   "source": [
    "y_transit_selection=y_train['delta_selection-departure']\n",
    "y_transit_presentation=y_train['delta_departure-presentation']\n",
    "X_train, X_test, Y_train, Y_test=train_test_split(Train_Lasso, y_transit_selection, test_size=0.20)"
   ]
  },
  {
   "cell_type": "code",
   "execution_count": 113,
   "metadata": {},
   "outputs": [
    {
     "name": "stdout",
     "output_type": "stream",
     "text": [
      "(218984, 58) (218984,)\n"
     ]
    }
   ],
   "source": [
    "print(Train_Lasso.shape,y_transit_selection.shape)"
   ]
  },
  {
   "cell_type": "code",
   "execution_count": 114,
   "metadata": {},
   "outputs": [],
   "source": [
    "from sklearn.linear_model import Lasso\n",
    "\n",
    "model_lasso=Lasso(alpha=0.001)\n",
    "model_lasso.fit(X_train,Y_train)\n",
    "Y_pred=model_lasso.predict(X_test)"
   ]
  },
  {
   "cell_type": "code",
   "execution_count": 115,
   "metadata": {},
   "outputs": [
    {
     "data": {
      "text/plain": [
       "0.19735085849795964"
      ]
     },
     "execution_count": 115,
     "metadata": {},
     "output_type": "execute_result"
    }
   ],
   "source": [
    "r2_score(Y_test,Y_pred)"
   ]
  },
  {
   "cell_type": "code",
   "execution_count": 116,
   "metadata": {},
   "outputs": [
    {
     "name": "stdout",
     "output_type": "stream",
     "text": [
      "(218984, 58) (108033, 58)\n"
     ]
    }
   ],
   "source": [
    "print(Train_Lasso.shape,Test_Lasso.shape)"
   ]
  },
  {
   "cell_type": "markdown",
   "metadata": {},
   "source": [
    "We now create the Y_test dataset"
   ]
  },
  {
   "cell_type": "code",
   "execution_count": 117,
   "metadata": {},
   "outputs": [],
   "source": [
    "y_transit_selection=y_train['delta_selection-departure']\n",
    "y_transit_presentation=y_train['delta_departure-presentation']\n",
    "\n",
    "# For selection\n",
    "model_lasso=Lasso(alpha=0.1)\n",
    "model_lasso.fit(Train_Lasso,y_transit_selection)\n",
    "Y_selection_pred=model_lasso.predict(Test_Lasso)\n",
    "\n",
    "# For presentation\n",
    "model_lasso_=Lasso(alpha=0.1)\n",
    "model_lasso.fit(Train_Lasso,y_transit_presentation)\n",
    "Y_presentation_pred=model_lasso.predict(Test_Lasso)\n",
    "Y_pred=Y_selection_pred+Y_presentation_pred"
   ]
  },
  {
   "cell_type": "code",
   "execution_count": 118,
   "metadata": {},
   "outputs": [
    {
     "data": {
      "text/plain": [
       "(108033, 58)"
      ]
     },
     "execution_count": 118,
     "metadata": {},
     "output_type": "execute_result"
    }
   ],
   "source": [
    "Test_Lasso.shape"
   ]
  },
  {
   "cell_type": "code",
   "execution_count": 119,
   "metadata": {},
   "outputs": [],
   "source": [
    "# Create a submission file\n",
    "submission = pd.concat([pd.DataFrame(x_test['emergency_vehicle_selection'].values), \\\n",
    "           pd.DataFrame(Y_selection_pred), \\\n",
    "           pd.DataFrame(Y_presentation_pred), \\\n",
    "           pd.DataFrame(Y_pred)], \\\n",
    "           axis=1)\n",
    "\n",
    "submission.columns = list(y_train.columns.values)\n",
    "submission.set_index('emergency_vehicle_selection', inplace=True)\n",
    "submission.to_csv('./Y_test_Lasso.csv', sep=\",\")"
   ]
  },
  {
   "cell_type": "code",
   "execution_count": 120,
   "metadata": {},
   "outputs": [
    {
     "data": {
      "text/html": [
       "<div>\n",
       "<style scoped>\n",
       "    .dataframe tbody tr th:only-of-type {\n",
       "        vertical-align: middle;\n",
       "    }\n",
       "\n",
       "    .dataframe tbody tr th {\n",
       "        vertical-align: top;\n",
       "    }\n",
       "\n",
       "    .dataframe thead th {\n",
       "        text-align: right;\n",
       "    }\n",
       "</style>\n",
       "<table border=\"1\" class=\"dataframe\">\n",
       "  <thead>\n",
       "    <tr style=\"text-align: right;\">\n",
       "      <th></th>\n",
       "      <th>delta_selection-departure</th>\n",
       "      <th>delta_departure-presentation</th>\n",
       "      <th>delta_selection-presentation</th>\n",
       "    </tr>\n",
       "    <tr>\n",
       "      <th>emergency_vehicle_selection</th>\n",
       "      <th></th>\n",
       "      <th></th>\n",
       "      <th></th>\n",
       "    </tr>\n",
       "  </thead>\n",
       "  <tbody>\n",
       "    <tr>\n",
       "      <th>5271704</th>\n",
       "      <td>125.140627</td>\n",
       "      <td>428.700075</td>\n",
       "      <td>553.840703</td>\n",
       "    </tr>\n",
       "    <tr>\n",
       "      <th>5092931</th>\n",
       "      <td>117.241649</td>\n",
       "      <td>340.932911</td>\n",
       "      <td>458.174560</td>\n",
       "    </tr>\n",
       "    <tr>\n",
       "      <th>5153756</th>\n",
       "      <td>118.313079</td>\n",
       "      <td>226.538743</td>\n",
       "      <td>344.851823</td>\n",
       "    </tr>\n",
       "    <tr>\n",
       "      <th>5355572</th>\n",
       "      <td>184.627913</td>\n",
       "      <td>301.930832</td>\n",
       "      <td>486.558745</td>\n",
       "    </tr>\n",
       "    <tr>\n",
       "      <th>5178915</th>\n",
       "      <td>131.541895</td>\n",
       "      <td>309.846298</td>\n",
       "      <td>441.388193</td>\n",
       "    </tr>\n",
       "  </tbody>\n",
       "</table>\n",
       "</div>"
      ],
      "text/plain": [
       "                             delta_selection-departure  \\\n",
       "emergency_vehicle_selection                              \n",
       "5271704                                     125.140627   \n",
       "5092931                                     117.241649   \n",
       "5153756                                     118.313079   \n",
       "5355572                                     184.627913   \n",
       "5178915                                     131.541895   \n",
       "\n",
       "                             delta_departure-presentation  \\\n",
       "emergency_vehicle_selection                                 \n",
       "5271704                                        428.700075   \n",
       "5092931                                        340.932911   \n",
       "5153756                                        226.538743   \n",
       "5355572                                        301.930832   \n",
       "5178915                                        309.846298   \n",
       "\n",
       "                             delta_selection-presentation  \n",
       "emergency_vehicle_selection                                \n",
       "5271704                                        553.840703  \n",
       "5092931                                        458.174560  \n",
       "5153756                                        344.851823  \n",
       "5355572                                        486.558745  \n",
       "5178915                                        441.388193  "
      ]
     },
     "execution_count": 120,
     "metadata": {},
     "output_type": "execute_result"
    }
   ],
   "source": [
    "submission.head()"
   ]
  },
  {
   "cell_type": "markdown",
   "metadata": {},
   "source": [
    "### XGBoost implementation"
   ]
  },
  {
   "cell_type": "code",
   "execution_count": 121,
   "metadata": {},
   "outputs": [],
   "source": [
    "# selection-departure\n",
    "y_train_selection=np.array(y_train[['delta_selection-departure']]).flatten()\n",
    "# departure-presentation\n",
    "y_train_presentation=np.array(y_train[['delta_departure-presentation']]).flatten()\n",
    "\n",
    "# for selection_departure model\n",
    "X_Train1, X_Test1, Y_Train1,Y_Test1 = train_test_split(Train_Master,y_train_selection, test_size = 0.1)\n",
    "\n",
    "# for departure_presentation model\n",
    "X_Train2, X_Test2, Y_Train2,Y_Test2 = train_test_split(Train_Master,y_train_presentation, test_size = 0.1)"
   ]
  },
  {
   "cell_type": "code",
   "execution_count": 122,
   "metadata": {},
   "outputs": [],
   "source": [
    "import xgboost as xgb\n",
    "\n",
    "# Conversion of the training and validation data into DMatrix (type required for xgb to work)\n",
    "dtrain1 = xgb.DMatrix(X_Train1, label=Y_Train1)\n",
    "dvalid1 = xgb.DMatrix(X_Test1, label=Y_Test1)\n",
    "watchlist1 = [(dtrain1, 'train'), (dvalid1, 'valid')]\n",
    "\n",
    "dtrain2 = xgb.DMatrix(X_Train2, label=Y_Train2)\n",
    "dvalid2 = xgb.DMatrix(X_Test2, label=Y_Test2)\n",
    "watchlist2 = [(dtrain2, 'train'), (dvalid2, 'valid')]\n",
    "\n",
    "dtest= xgb.DMatrix(Test_Master)"
   ]
  },
  {
   "cell_type": "markdown",
   "metadata": {},
   "source": [
    "We now train the model"
   ]
  },
  {
   "cell_type": "code",
   "execution_count": 123,
   "metadata": {
    "scrolled": false
   },
   "outputs": [
    {
     "name": "stdout",
     "output_type": "stream",
     "text": [
      "[0]\ttrain-rmse:110.525\tvalid-rmse:109.968\n",
      "Multiple eval metrics have been passed: 'valid-rmse' will be used for early stopping.\n",
      "\n",
      "Will train until valid-rmse hasn't improved in 2 rounds.\n",
      "[1]\ttrain-rmse:85.7393\tvalid-rmse:85.1563\n",
      "[2]\ttrain-rmse:70.2816\tvalid-rmse:69.6969\n",
      "[3]\ttrain-rmse:61.0132\tvalid-rmse:60.4276\n",
      "[4]\ttrain-rmse:55.7722\tvalid-rmse:55.2308\n",
      "[5]\ttrain-rmse:52.7005\tvalid-rmse:52.1145\n",
      "[6]\ttrain-rmse:51.122\tvalid-rmse:50.599\n",
      "[7]\ttrain-rmse:50.2525\tvalid-rmse:49.7584\n",
      "[8]\ttrain-rmse:49.5052\tvalid-rmse:49.0552\n",
      "[9]\ttrain-rmse:49.1657\tvalid-rmse:48.7702\n",
      "[10]\ttrain-rmse:48.9284\tvalid-rmse:48.5342\n",
      "[11]\ttrain-rmse:48.6431\tvalid-rmse:48.2762\n",
      "[12]\ttrain-rmse:48.5227\tvalid-rmse:48.1993\n",
      "[13]\ttrain-rmse:48.4154\tvalid-rmse:48.1166\n",
      "[14]\ttrain-rmse:48.215\tvalid-rmse:47.9388\n",
      "[15]\ttrain-rmse:48.1164\tvalid-rmse:47.8761\n",
      "[16]\ttrain-rmse:48.06\tvalid-rmse:47.824\n",
      "[17]\ttrain-rmse:47.9462\tvalid-rmse:47.7358\n",
      "[18]\ttrain-rmse:47.8879\tvalid-rmse:47.7232\n",
      "[19]\ttrain-rmse:47.8411\tvalid-rmse:47.7096\n",
      "[20]\ttrain-rmse:47.7939\tvalid-rmse:47.6849\n",
      "[21]\ttrain-rmse:47.7564\tvalid-rmse:47.6779\n",
      "[22]\ttrain-rmse:47.6642\tvalid-rmse:47.5954\n",
      "[23]\ttrain-rmse:47.5496\tvalid-rmse:47.5014\n",
      "[24]\ttrain-rmse:47.4976\tvalid-rmse:47.4855\n",
      "[25]\ttrain-rmse:47.4161\tvalid-rmse:47.4338\n",
      "[26]\ttrain-rmse:47.377\tvalid-rmse:47.42\n",
      "[27]\ttrain-rmse:47.3499\tvalid-rmse:47.4225\n",
      "[28]\ttrain-rmse:47.2917\tvalid-rmse:47.3892\n",
      "[29]\ttrain-rmse:47.2454\tvalid-rmse:47.3562\n",
      "[30]\ttrain-rmse:47.1912\tvalid-rmse:47.3165\n",
      "[31]\ttrain-rmse:47.122\tvalid-rmse:47.2802\n",
      "[32]\ttrain-rmse:47.0798\tvalid-rmse:47.2816\n",
      "[33]\ttrain-rmse:47.0406\tvalid-rmse:47.2697\n",
      "[34]\ttrain-rmse:47.0096\tvalid-rmse:47.2487\n",
      "[35]\ttrain-rmse:46.9602\tvalid-rmse:47.2151\n",
      "[36]\ttrain-rmse:46.9325\tvalid-rmse:47.2169\n",
      "[37]\ttrain-rmse:46.8981\tvalid-rmse:47.2117\n",
      "[38]\ttrain-rmse:46.8722\tvalid-rmse:47.2034\n",
      "[39]\ttrain-rmse:46.836\tvalid-rmse:47.183\n",
      "[40]\ttrain-rmse:46.8102\tvalid-rmse:47.1872\n",
      "[41]\ttrain-rmse:46.7461\tvalid-rmse:47.15\n",
      "[42]\ttrain-rmse:46.702\tvalid-rmse:47.1359\n",
      "[43]\ttrain-rmse:46.6657\tvalid-rmse:47.1379\n",
      "[44]\ttrain-rmse:46.629\tvalid-rmse:47.1316\n",
      "[45]\ttrain-rmse:46.6079\tvalid-rmse:47.1325\n",
      "[46]\ttrain-rmse:46.578\tvalid-rmse:47.1256\n",
      "[47]\ttrain-rmse:46.5547\tvalid-rmse:47.1086\n",
      "[48]\ttrain-rmse:46.5353\tvalid-rmse:47.1075\n",
      "[49]\ttrain-rmse:46.5095\tvalid-rmse:47.1156\n",
      "Modeling RMSLE 47.10748\n",
      "[0]\ttrain-rmse:294.519\tvalid-rmse:296.625\n",
      "Multiple eval metrics have been passed: 'valid-rmse' will be used for early stopping.\n",
      "\n",
      "Will train until valid-rmse hasn't improved in 5 rounds.\n",
      "[1]\ttrain-rmse:227.687\tvalid-rmse:230.036\n",
      "[2]\ttrain-rmse:186.014\tvalid-rmse:188.65\n",
      "[3]\ttrain-rmse:161.258\tvalid-rmse:164.243\n",
      "[4]\ttrain-rmse:147.29\tvalid-rmse:150.277\n",
      "[5]\ttrain-rmse:139.739\tvalid-rmse:142.744\n",
      "[6]\ttrain-rmse:135.722\tvalid-rmse:138.732\n",
      "[7]\ttrain-rmse:133.525\tvalid-rmse:136.636\n",
      "[8]\ttrain-rmse:132.322\tvalid-rmse:135.604\n",
      "[9]\ttrain-rmse:131.522\tvalid-rmse:134.865\n",
      "[10]\ttrain-rmse:130.973\tvalid-rmse:134.511\n",
      "[11]\ttrain-rmse:130.643\tvalid-rmse:134.316\n",
      "[12]\ttrain-rmse:130.41\tvalid-rmse:134.151\n",
      "[13]\ttrain-rmse:130.161\tvalid-rmse:134.048\n",
      "[14]\ttrain-rmse:129.891\tvalid-rmse:133.877\n",
      "[15]\ttrain-rmse:129.557\tvalid-rmse:133.635\n",
      "[16]\ttrain-rmse:129.385\tvalid-rmse:133.599\n",
      "[17]\ttrain-rmse:129.249\tvalid-rmse:133.536\n",
      "[18]\ttrain-rmse:129.093\tvalid-rmse:133.435\n",
      "[19]\ttrain-rmse:128.901\tvalid-rmse:133.309\n",
      "[20]\ttrain-rmse:128.762\tvalid-rmse:133.257\n",
      "[21]\ttrain-rmse:128.656\tvalid-rmse:133.206\n",
      "[22]\ttrain-rmse:128.365\tvalid-rmse:133.01\n",
      "[23]\ttrain-rmse:128.265\tvalid-rmse:132.997\n",
      "[24]\ttrain-rmse:128.16\tvalid-rmse:132.979\n",
      "[25]\ttrain-rmse:128.035\tvalid-rmse:132.953\n",
      "[26]\ttrain-rmse:127.942\tvalid-rmse:132.936\n",
      "[27]\ttrain-rmse:127.827\tvalid-rmse:132.921\n",
      "[28]\ttrain-rmse:127.68\tvalid-rmse:132.883\n",
      "[29]\ttrain-rmse:127.631\tvalid-rmse:132.876\n",
      "[30]\ttrain-rmse:127.538\tvalid-rmse:132.844\n",
      "[31]\ttrain-rmse:127.38\tvalid-rmse:132.77\n",
      "[32]\ttrain-rmse:127.284\tvalid-rmse:132.74\n",
      "[33]\ttrain-rmse:127.13\tvalid-rmse:132.646\n",
      "[34]\ttrain-rmse:126.999\tvalid-rmse:132.619\n",
      "[35]\ttrain-rmse:126.757\tvalid-rmse:132.515\n",
      "[36]\ttrain-rmse:126.637\tvalid-rmse:132.429\n",
      "[37]\ttrain-rmse:126.569\tvalid-rmse:132.418\n",
      "[38]\ttrain-rmse:126.484\tvalid-rmse:132.401\n",
      "[39]\ttrain-rmse:126.336\tvalid-rmse:132.317\n",
      "[40]\ttrain-rmse:126.248\tvalid-rmse:132.295\n",
      "[41]\ttrain-rmse:126.176\tvalid-rmse:132.257\n",
      "[42]\ttrain-rmse:126.12\tvalid-rmse:132.256\n",
      "[43]\ttrain-rmse:126.029\tvalid-rmse:132.209\n",
      "[44]\ttrain-rmse:125.969\tvalid-rmse:132.197\n",
      "[45]\ttrain-rmse:125.866\tvalid-rmse:132.207\n",
      "[46]\ttrain-rmse:125.796\tvalid-rmse:132.211\n",
      "[47]\ttrain-rmse:125.696\tvalid-rmse:132.222\n",
      "[48]\ttrain-rmse:125.648\tvalid-rmse:132.191\n",
      "[49]\ttrain-rmse:125.613\tvalid-rmse:132.183\n",
      "Modeling RMSLE 132.18326\n"
     ]
    }
   ],
   "source": [
    "xgb_pars = {'min_child_weight': 1, 'eta': 0.3, 'colsample_bytree': 0.9, \n",
    "            'max_depth': 6,\n",
    "'subsample': 0.9, 'lambda': 2, 'nthread': -1, 'booster' : 'gbtree', 'silent': 1,\n",
    "'eval_metric': 'rmse', 'objective': 'reg:linear'}\n",
    "\n",
    "# selection-departure model\n",
    "model1 = xgb.train(xgb_pars, dtrain1, 50, watchlist1, early_stopping_rounds=2,\n",
    "      maximize=False, verbose_eval=1)\n",
    "print('Modeling RMSLE %.5f' % model1.best_score)\n",
    "\n",
    "# departure-presentation model\n",
    "model2 = xgb.train(xgb_pars, dtrain2, 50, watchlist2, early_stopping_rounds=5,\n",
    "      maximize=False, verbose_eval=1)\n",
    "print('Modeling RMSLE %.5f' % model2.best_score)"
   ]
  },
  {
   "cell_type": "code",
   "execution_count": 124,
   "metadata": {},
   "outputs": [
    {
     "data": {
      "text/plain": [
       "<matplotlib.axes._subplots.AxesSubplot at 0x7f75743a10b8>"
      ]
     },
     "execution_count": 124,
     "metadata": {},
     "output_type": "execute_result"
    },
    {
     "data": {
      "image/png": "[encoded data removed]",
      "text/plain": [
       "<Figure size 432x288 with 1 Axes>"
      ]
     },
     "metadata": {
      "needs_background": "light"
     },
     "output_type": "display_data"
    },
    {
     "data": {
      "image/png": "[encoded data removed]",
      "text/plain": [
       "<Figure size 432x288 with 1 Axes>"
      ]
     },
     "metadata": {
      "needs_background": "light"
     },
     "output_type": "display_data"
    }
   ],
   "source": [
    "# plots of the features' importances\n",
    "xgb.plot_importance(model1, max_num_features=28, height=0.7,\n",
    "                    title='Feature importance for the model selection-departure ')\n",
    "\n",
    "xgb.plot_importance(model2, max_num_features=28, height=0.7,\n",
    "                    title='Feature importance for the model departure-presentation ')"
   ]
  },
  {
   "cell_type": "markdown",
   "metadata": {},
   "source": [
    "Prediction with the trained models"
   ]
  },
  {
   "cell_type": "code",
   "execution_count": 125,
   "metadata": {},
   "outputs": [
    {
     "name": "stdout",
     "output_type": "stream",
     "text": [
      "(21899,) (21899,) (21899,) (21899,)\n"
     ]
    }
   ],
   "source": [
    "# selection_departure prediction\n",
    "pred_selec = model1.predict(dvalid1)\n",
    "\n",
    "# departure-presentation prediction\n",
    "pred_presentation = model2.predict(dvalid2)\n",
    "\n",
    "print(pred_selec.shape,pred_presentation.shape,Y_Test1.shape,Y_Test2.shape)"
   ]
  },
  {
   "cell_type": "code",
   "execution_count": 126,
   "metadata": {},
   "outputs": [],
   "source": [
    "# Gathering the total prediction\n",
    "Y_pred=pred_selec+pred_presentation\n",
    "Y_valid=Y_Test1+Y_Test2"
   ]
  },
  {
   "cell_type": "code",
   "execution_count": 127,
   "metadata": {},
   "outputs": [
    {
     "name": "stdout",
     "output_type": "stream",
     "text": [
      "Le r2_score pour le modèle selection_departure est: 0.2793175024689608\n",
      "Le r2_score pour le modèle departure_presentation est: 0.4885226327047262\n",
      "Le r2_score total est: 0.46926861328882985\n"
     ]
    }
   ],
   "source": [
    "# Printing the r2 scores\n",
    "print(\"Le r2_score pour le modèle selection_departure est:\",r2_score(Y_Test1,pred_selec))\n",
    "print(\"Le r2_score pour le modèle departure_presentation est:\",r2_score(Y_Test2,pred_presentation))\n",
    "print(\"Le r2_score total est:\",r2_score(Y_valid,Y_pred))"
   ]
  },
  {
   "cell_type": "code",
   "execution_count": 128,
   "metadata": {},
   "outputs": [
    {
     "data": {
      "text/plain": [
       "[]"
      ]
     },
     "execution_count": 128,
     "metadata": {},
     "output_type": "execute_result"
    },
    {
     "data": {
      "image/png": "[encoded data removed]",
      "text/plain": [
       "<Figure size 1440x720 with 1 Axes>"
      ]
     },
     "metadata": {
      "needs_background": "light"
     },
     "output_type": "display_data"
    }
   ],
   "source": [
    "# Profile of the predictions\n",
    "f, ax = plt.subplots(figsize=(20,10))\n",
    "plt.hist(Y_Test1,bins=7000,color='blue',histtype='step')\n",
    "plt.hist(pred_selec,bins=500,color='red',histtype='step')\n",
    "ax.set_xlim(0,800)\n",
    "plt.xlabel('Temps en secondes')\n",
    "plt.ylabel(' Nombre ')\n",
    "plt.plot()"
   ]
  },
  {
   "cell_type": "markdown",
   "metadata": {},
   "source": [
    "We now generate the Y_test"
   ]
  },
  {
   "cell_type": "code",
   "execution_count": 129,
   "metadata": {},
   "outputs": [
    {
     "name": "stdout",
     "output_type": "stream",
     "text": [
      "(108033,)\n"
     ]
    }
   ],
   "source": [
    "Y_Test_selection_pred = model1.predict(dtest)\n",
    "Y_Test_presentation_pred= model2.predict(dtest)\n",
    "Y_Test_pred=Y_Test_selection_pred+Y_Test_presentation_pred\n",
    "\n",
    "print(Y_Test_pred.shape)"
   ]
  },
  {
   "cell_type": "code",
   "execution_count": 130,
   "metadata": {},
   "outputs": [],
   "source": [
    "# Create a submission file\n",
    "submission = pd.concat([pd.DataFrame(x_test['emergency_vehicle_selection'].values), \\\n",
    "           pd.DataFrame(Y_Test_selection_pred), \\\n",
    "           pd.DataFrame(Y_Test_presentation_pred), \\\n",
    "           pd.DataFrame(Y_Test_pred)], \\\n",
    "           axis=1)\n",
    "\n",
    "submission.columns = list(y_train.columns.values)\n",
    "submission.set_index('emergency_vehicle_selection', inplace=True)\n",
    "submission.to_csv('./Y_test_xgb.csv', sep=\",\")"
   ]
  },
  {
   "cell_type": "markdown",
   "metadata": {},
   "source": [
    "### XGBoost implementation with prior logarithmic transformation"
   ]
  },
  {
   "cell_type": "code",
   "execution_count": 131,
   "metadata": {},
   "outputs": [],
   "source": [
    "# selection-departure time vector\n",
    "y_train_selection=np.array(y_train[['delta_selection-departure']]).flatten()\n",
    "# departure-presentation time vector\n",
    "y_train_presentation=np.array(y_train[['delta_departure-presentation']]).flatten()\n",
    "\n",
    "# logarithmic transformation\n",
    "y_train_selection=np.log(y_train_selection+1)\n",
    "y_train_presentation=np.log(y_train_presentation+1)\n",
    "\n",
    "# For selection-departure model\n",
    "X_Train1, X_Test1, Y_Train1,Y_Test1 = train_test_split(Train_Master,y_train_selection, test_size = 0.2)\n",
    "\n",
    "# For departure_presentation model\n",
    "X_Train2, X_Test2, Y_Train2,Y_Test2 = train_test_split(Train_Master,y_train_presentation, test_size = 0.2)"
   ]
  },
  {
   "cell_type": "code",
   "execution_count": 132,
   "metadata": {},
   "outputs": [],
   "source": [
    "# Conversion of the training and validation data into DMatrix (type required for xgb to work)\n",
    "dtrain1 = xgb.DMatrix(X_Train1, label=Y_Train1)\n",
    "dvalid1 = xgb.DMatrix(X_Test1, label=Y_Test1)\n",
    "watchlist1 = [(dtrain1, 'train'), (dvalid1, 'valid')]\n",
    "\n",
    "\n",
    "dtrain2 = xgb.DMatrix(X_Train2, label=Y_Train2)\n",
    "dvalid2 = xgb.DMatrix(X_Test2, label=Y_Test2)\n",
    "watchlist2 = [(dtrain2, 'train'), (dvalid2, 'valid')]"
   ]
  },
  {
   "cell_type": "markdown",
   "metadata": {},
   "source": [
    "We now train the model"
   ]
  },
  {
   "cell_type": "code",
   "execution_count": 133,
   "metadata": {},
   "outputs": [
    {
     "name": "stdout",
     "output_type": "stream",
     "text": [
      "[0]\ttrain-rmse:3.07537\tvalid-rmse:3.07556\n",
      "Multiple eval metrics have been passed: 'valid-rmse' will be used for early stopping.\n",
      "\n",
      "Will train until valid-rmse hasn't improved in 5 rounds.\n",
      "[1]\ttrain-rmse:2.17388\tvalid-rmse:2.17446\n",
      "[2]\ttrain-rmse:1.55084\tvalid-rmse:1.55178\n",
      "[3]\ttrain-rmse:1.1259\tvalid-rmse:1.12767\n",
      "[4]\ttrain-rmse:0.842031\tvalid-rmse:0.84485\n",
      "[5]\ttrain-rmse:0.65906\tvalid-rmse:0.663177\n",
      "[6]\ttrain-rmse:0.54565\tvalid-rmse:0.551276\n",
      "[7]\ttrain-rmse:0.479618\tvalid-rmse:0.486424\n",
      "[8]\ttrain-rmse:0.443727\tvalid-rmse:0.4516\n",
      "[9]\ttrain-rmse:0.424143\tvalid-rmse:0.432735\n",
      "[10]\ttrain-rmse:0.413381\tvalid-rmse:0.422466\n",
      "[11]\ttrain-rmse:0.406998\tvalid-rmse:0.416708\n",
      "[12]\ttrain-rmse:0.403896\tvalid-rmse:0.414074\n",
      "[13]\ttrain-rmse:0.402133\tvalid-rmse:0.412691\n",
      "[14]\ttrain-rmse:0.400869\tvalid-rmse:0.41174\n",
      "[15]\ttrain-rmse:0.400047\tvalid-rmse:0.411131\n",
      "[16]\ttrain-rmse:0.398519\tvalid-rmse:0.409805\n",
      "[17]\ttrain-rmse:0.398119\tvalid-rmse:0.409579\n",
      "[18]\ttrain-rmse:0.397636\tvalid-rmse:0.409309\n",
      "[19]\ttrain-rmse:0.397194\tvalid-rmse:0.409074\n",
      "[20]\ttrain-rmse:0.396728\tvalid-rmse:0.408766\n",
      "[21]\ttrain-rmse:0.395808\tvalid-rmse:0.408221\n",
      "[22]\ttrain-rmse:0.395352\tvalid-rmse:0.408035\n",
      "[23]\ttrain-rmse:0.394462\tvalid-rmse:0.407629\n",
      "[24]\ttrain-rmse:0.39403\tvalid-rmse:0.407551\n",
      "[25]\ttrain-rmse:0.393661\tvalid-rmse:0.407393\n",
      "[26]\ttrain-rmse:0.392995\tvalid-rmse:0.407064\n",
      "[27]\ttrain-rmse:0.392672\tvalid-rmse:0.406976\n",
      "[28]\ttrain-rmse:0.391843\tvalid-rmse:0.406413\n",
      "[29]\ttrain-rmse:0.391568\tvalid-rmse:0.406398\n",
      "[30]\ttrain-rmse:0.391344\tvalid-rmse:0.406332\n",
      "[31]\ttrain-rmse:0.391056\tvalid-rmse:0.406371\n",
      "[32]\ttrain-rmse:0.390714\tvalid-rmse:0.406396\n",
      "[33]\ttrain-rmse:0.390335\tvalid-rmse:0.406206\n",
      "[34]\ttrain-rmse:0.39018\tvalid-rmse:0.406193\n",
      "[35]\ttrain-rmse:0.389974\tvalid-rmse:0.40619\n",
      "[36]\ttrain-rmse:0.389504\tvalid-rmse:0.406038\n",
      "[37]\ttrain-rmse:0.389167\tvalid-rmse:0.406069\n",
      "[38]\ttrain-rmse:0.389017\tvalid-rmse:0.406056\n",
      "[39]\ttrain-rmse:0.388589\tvalid-rmse:0.405817\n",
      "[40]\ttrain-rmse:0.388423\tvalid-rmse:0.405845\n",
      "[41]\ttrain-rmse:0.388165\tvalid-rmse:0.405814\n",
      "[42]\ttrain-rmse:0.387836\tvalid-rmse:0.40567\n",
      "[43]\ttrain-rmse:0.38762\tvalid-rmse:0.40564\n",
      "[44]\ttrain-rmse:0.387116\tvalid-rmse:0.405423\n",
      "[45]\ttrain-rmse:0.38669\tvalid-rmse:0.405244\n",
      "[46]\ttrain-rmse:0.386524\tvalid-rmse:0.405155\n",
      "[47]\ttrain-rmse:0.386161\tvalid-rmse:0.40513\n",
      "[48]\ttrain-rmse:0.38599\tvalid-rmse:0.40506\n",
      "[49]\ttrain-rmse:0.385689\tvalid-rmse:0.405002\n",
      "Modeling RMSLE 0.40500\n",
      "[0]\ttrain-rmse:3.69989\tvalid-rmse:3.69987\n",
      "Multiple eval metrics have been passed: 'valid-rmse' will be used for early stopping.\n",
      "\n",
      "Will train until valid-rmse hasn't improved in 5 rounds.\n",
      "[1]\ttrain-rmse:2.60409\tvalid-rmse:2.60474\n",
      "[2]\ttrain-rmse:1.84234\tvalid-rmse:1.84339\n",
      "[3]\ttrain-rmse:1.31593\tvalid-rmse:1.31721\n",
      "[4]\ttrain-rmse:0.957379\tvalid-rmse:0.95901\n",
      "[5]\ttrain-rmse:0.718871\tvalid-rmse:0.720811\n",
      "[6]\ttrain-rmse:0.565738\tvalid-rmse:0.567916\n",
      "[7]\ttrain-rmse:0.472484\tvalid-rmse:0.474849\n",
      "[8]\ttrain-rmse:0.419099\tvalid-rmse:0.421617\n",
      "[9]\ttrain-rmse:0.389669\tvalid-rmse:0.39244\n",
      "[10]\ttrain-rmse:0.373715\tvalid-rmse:0.376649\n",
      "[11]\ttrain-rmse:0.365487\tvalid-rmse:0.368668\n",
      "[12]\ttrain-rmse:0.361176\tvalid-rmse:0.364567\n",
      "[13]\ttrain-rmse:0.358746\tvalid-rmse:0.362319\n",
      "[14]\ttrain-rmse:0.35732\tvalid-rmse:0.361209\n",
      "[15]\ttrain-rmse:0.356357\tvalid-rmse:0.36052\n",
      "[16]\ttrain-rmse:0.355209\tvalid-rmse:0.35973\n",
      "[17]\ttrain-rmse:0.354678\tvalid-rmse:0.359422\n",
      "[18]\ttrain-rmse:0.353999\tvalid-rmse:0.358997\n",
      "[19]\ttrain-rmse:0.353531\tvalid-rmse:0.358684\n",
      "[20]\ttrain-rmse:0.353118\tvalid-rmse:0.35849\n",
      "[21]\ttrain-rmse:0.352628\tvalid-rmse:0.358243\n",
      "[22]\ttrain-rmse:0.352269\tvalid-rmse:0.357984\n",
      "[23]\ttrain-rmse:0.351906\tvalid-rmse:0.357778\n",
      "[24]\ttrain-rmse:0.351656\tvalid-rmse:0.357769\n",
      "[25]\ttrain-rmse:0.351412\tvalid-rmse:0.357664\n",
      "[26]\ttrain-rmse:0.350845\tvalid-rmse:0.357283\n",
      "[27]\ttrain-rmse:0.350477\tvalid-rmse:0.357266\n",
      "[28]\ttrain-rmse:0.350015\tvalid-rmse:0.357069\n",
      "[29]\ttrain-rmse:0.349633\tvalid-rmse:0.357006\n",
      "[30]\ttrain-rmse:0.349305\tvalid-rmse:0.356909\n",
      "[31]\ttrain-rmse:0.348732\tvalid-rmse:0.356472\n",
      "[32]\ttrain-rmse:0.34809\tvalid-rmse:0.356111\n",
      "[33]\ttrain-rmse:0.347786\tvalid-rmse:0.356023\n",
      "[34]\ttrain-rmse:0.347534\tvalid-rmse:0.355917\n",
      "[35]\ttrain-rmse:0.347329\tvalid-rmse:0.355869\n",
      "[36]\ttrain-rmse:0.347164\tvalid-rmse:0.355821\n",
      "[37]\ttrain-rmse:0.346786\tvalid-rmse:0.35559\n",
      "[38]\ttrain-rmse:0.346476\tvalid-rmse:0.355522\n",
      "[39]\ttrain-rmse:0.34624\tvalid-rmse:0.355465\n",
      "[40]\ttrain-rmse:0.345924\tvalid-rmse:0.355319\n",
      "[41]\ttrain-rmse:0.345737\tvalid-rmse:0.355331\n",
      "[42]\ttrain-rmse:0.345512\tvalid-rmse:0.355311\n",
      "[43]\ttrain-rmse:0.345276\tvalid-rmse:0.35529\n",
      "[44]\ttrain-rmse:0.344966\tvalid-rmse:0.355234\n",
      "[45]\ttrain-rmse:0.344676\tvalid-rmse:0.355059\n",
      "[46]\ttrain-rmse:0.344503\tvalid-rmse:0.35523\n",
      "[47]\ttrain-rmse:0.344323\tvalid-rmse:0.35524\n",
      "[48]\ttrain-rmse:0.344096\tvalid-rmse:0.355297\n",
      "[49]\ttrain-rmse:0.343771\tvalid-rmse:0.355018\n",
      "Modeling RMSLE 0.35502\n"
     ]
    }
   ],
   "source": [
    "xgb_pars = {'min_child_weight': 1, 'eta': 0.3, 'colsample_bytree': 0.9, \n",
    "            'max_depth': 6,\n",
    "'subsample': 0.9, 'lambda': 2, 'nthread': -1, 'booster' : 'gbtree', 'silent': 1,\n",
    "'eval_metric': 'rmse', 'objective': 'reg:linear'}\n",
    "\n",
    "# selection-departure model\n",
    "model1 = xgb.train(xgb_pars, dtrain1, 50, watchlist1, early_stopping_rounds=5,\n",
    "      maximize=False, verbose_eval=1)\n",
    "print('Modeling RMSLE %.5f' % model1.best_score)\n",
    "\n",
    "# departure-presentation model\n",
    "model2 = xgb.train(xgb_pars, dtrain2, 50, watchlist2, early_stopping_rounds=5,\n",
    "      maximize=False, verbose_eval=1)\n",
    "print('Modeling RMSLE %.5f' % model2.best_score)"
   ]
  },
  {
   "cell_type": "code",
   "execution_count": 134,
   "metadata": {},
   "outputs": [
    {
     "data": {
      "text/plain": [
       "<matplotlib.axes._subplots.AxesSubplot at 0x7f7577930630>"
      ]
     },
     "execution_count": 134,
     "metadata": {},
     "output_type": "execute_result"
    },
    {
     "data": {
      "image/png": "[encoded data removed]",
      "text/plain": [
       "<Figure size 432x288 with 1 Axes>"
      ]
     },
     "metadata": {
      "needs_background": "light"
     },
     "output_type": "display_data"
    },
    {
     "data": {
      "image/png": "[encoded data removed]",
      "text/plain": [
       "<Figure size 432x288 with 1 Axes>"
      ]
     },
     "metadata": {
      "needs_background": "light"
     },
     "output_type": "display_data"
    }
   ],
   "source": [
    "# plots of the features' importances\n",
    "xgb.plot_importance(model1, max_num_features=28, height=0.7,\n",
    "                    title='Feature importance for the model selection-departure ')\n",
    "\n",
    "xgb.plot_importance(model2, max_num_features=28, height=0.7,\n",
    "                    title='Feature importance for the model departure-presentation ')"
   ]
  },
  {
   "cell_type": "markdown",
   "metadata": {},
   "source": [
    "Prediction with the trained models"
   ]
  },
  {
   "cell_type": "code",
   "execution_count": 135,
   "metadata": {},
   "outputs": [
    {
     "name": "stdout",
     "output_type": "stream",
     "text": [
      "(43797,) (43797,) (43797,) (43797,)\n"
     ]
    }
   ],
   "source": [
    "# selection_departure prediction and applying the exponential function\n",
    "pred_selec = model1.predict(dvalid1)\n",
    "pred_selec=np.exp(pred_selec)-1\n",
    "\n",
    "# prediction departure-presentation\n",
    "pred_presentation = model2.predict(dvalid2)\n",
    "pred_presentation=np.exp(pred_presentation)-1\n",
    "\n",
    "# applying the exponential funciton to Y_Test\n",
    "Y_Test1=np.exp(Y_Test1)-1\n",
    "Y_Test2=np.exp(Y_Test2)-1\n",
    "\n",
    "print(pred_selec.shape,pred_presentation.shape,Y_Test1.shape,Y_Test2.shape)"
   ]
  },
  {
   "cell_type": "code",
   "execution_count": 136,
   "metadata": {},
   "outputs": [],
   "source": [
    "# Gathering the total prediction\n",
    "Y_pred=pred_selec+pred_presentation\n",
    "Y_Test=Y_Test1+Y_Test2"
   ]
  },
  {
   "cell_type": "code",
   "execution_count": 137,
   "metadata": {},
   "outputs": [
    {
     "name": "stdout",
     "output_type": "stream",
     "text": [
      "Le r2_score pour le modèle selection_departure est: 0.23734889762020728\n",
      "Le r2_score pour le modèle departure_presentation est: 0.472822677215883\n",
      "Le r2_score total est: 0.4450038226020183\n"
     ]
    }
   ],
   "source": [
    "# Printing the r2 scores\n",
    "print(\"Le r2_score pour le modèle selection_departure est:\",r2_score(Y_Test1,pred_selec))\n",
    "print(\"Le r2_score pour le modèle departure_presentation est:\",r2_score(Y_Test2,pred_presentation))\n",
    "print(\"Le r2_score total est:\",r2_score(Y_Test,Y_pred))"
   ]
  },
  {
   "cell_type": "markdown",
   "metadata": {},
   "source": [
    "The results with this transformation are fairly worse"
   ]
  },
  {
   "cell_type": "markdown",
   "metadata": {},
   "source": [
    "# 4. Data engineering and advanced visualization"
   ]
  },
  {
   "cell_type": "markdown",
   "metadata": {},
   "source": [
    "### Exporting the data into a database"
   ]
  },
  {
   "cell_type": "code",
   "execution_count": 138,
   "metadata": {},
   "outputs": [],
   "source": [
    "# Establishing the connection with pgsql database\n",
    "conn = psycopg2.connect(os.environ['DB_POMPIERS_URL'])\n",
    "cur = conn.cursor()"
   ]
  },
  {
   "cell_type": "code",
   "execution_count": 139,
   "metadata": {},
   "outputs": [],
   "source": [
    "def to_table_key(s): return (s.replace(' ','_').replace('-','_')).lower()\n",
    "def to_exportable_df(df):\n",
    "    old_cols = df.columns.tolist()\n",
    "    new_cols = map(lambda x: to_table_key(x), old_cols)\n",
    "    d_chcols = {k:v for (k,v) in zip(old_cols, new_cols)}\n",
    "    return d_chcols\n",
    "\n",
    "def export_df(df, name, schema=\"data\"):\n",
    "    df = df.rename(columns=to_exportable_df(df))\n",
    "    engine = create_engine(os.environ['DB_POMPIERS_URL'])\n",
    "    df.to_sql(name, engine, schema, if_exists='replace', index=False)"
   ]
  },
  {
   "cell_type": "code",
   "execution_count": 140,
   "metadata": {},
   "outputs": [],
   "source": [
    "# Normalization of the dfs names\n",
    "x_train = x_train.rename(columns=to_exportable_df(x_train))\n",
    "x_test = x_test.rename(columns=to_exportable_df(x_test))\n",
    "y_train = y_train.rename(columns=to_exportable_df(y_train))\n",
    "x_test_add = x_test_add.rename(columns=to_exportable_df(x_test_add))\n",
    "x_train_add = x_train_add.rename(columns=to_exportable_df(x_train_add))"
   ]
  },
  {
   "cell_type": "code",
   "execution_count": null,
   "metadata": {},
   "outputs": [],
   "source": [
    "# Tests if the features names written in features.csv\n",
    "# match with the ones provided in the training files\n",
    "features = pd.read_csv('features.csv', sep=';')\n",
    "l1 = x_train.columns.tolist()+y_train.columns.tolist()+x_train_add.columns.tolist()\n",
    "l2 = features['feature_name'].tolist()\n",
    "test = [(feat1==feat2, feat1, feat2) for (feat1, feat2) in zip(l1, l2) if feat1 != feat2]\n",
    "print(len(test)==0)"
   ]
  },
  {
   "cell_type": "code",
   "execution_count": null,
   "metadata": {},
   "outputs": [],
   "source": [
    "# Exporting the data into the local database\n",
    "cur.execute('CREATE SCHEMA IF NOT EXISTS data')\n",
    "conn.commit()\n",
    "\n",
    "dg = pd.DataFrame()\n",
    "\n",
    "for df_name in ['x_train', 'y_train', 'x_test', 'x_train_add', 'x_test_add']:\n",
    "    dg  = eval(df)\n",
    "    export_df(dg, df_name, \"data\")"
   ]
  },
  {
   "cell_type": "markdown",
   "metadata": {},
   "source": [
    "### Generation of a map for itineraries data visualization"
   ]
  },
  {
   "cell_type": "code",
   "execution_count": 142,
   "metadata": {},
   "outputs": [],
   "source": [
    "import json\n",
    "import requests\n",
    "import polyline, geojson\n",
    "from pprint import pprint\n",
    "from ipyleaflet import Map, basemaps, basemap_to_tiles, GeoJSON, Polyline, CircleMarker\n",
    "from geojson import LineString, Point, Feature\n",
    "from ipywidgets import Layout\n",
    "defaultLayout=Layout(width='960px', height='600px')\n",
    "\n",
    "# Takes an address located in France (str)\n",
    "# Returns its coordinates ['lon', 'lat']\n",
    "def geocode(address, lon=2.352222, lat=48.856613, tp=\"housenumber\"):\n",
    "    add = address.replace(' ','+').lower()\n",
    "    url = \"https://api-adresse.data.gouv.fr/search/?q={ADD}&lat={LAT}&lon={LON}&type={TP}&limit=1\".format(\n",
    "        ADD=add, LAT=lat, LON=lon, TP=tp)\n",
    "    response = requests.get(url)\n",
    "    return json.loads(response.text)['features'][0]['geometry']['coordinates']\n",
    "\n",
    "# Takes two lists of coordinates of points located in Paris area ([float, float], [float, float])\n",
    "# Returns the Polyline route of the fastest track calculated by ORSM (Polyline)\n",
    "def route(lonlat1, lonlat2=[2.352222, 48.856613], how='car'):\n",
    "    url = \"http://0.0.0.0:5000/route/v1/{HOW}/{LON1},{LAT1};{LON2},{LAT2}\".format(\n",
    "        HOW=how, LON1=lonlat1[0], LAT1=lonlat1[1], LON2=lonlat2[0], LAT2=lonlat2[1])\n",
    "    response = requests.get(url)\n",
    "    return json.loads(response.text)['routes'][0]['geometry']\n",
    "\n",
    "# Returns a customized ipyleaflet CircleMarker\n",
    "def cmarker(color=\"#0033FF\", location=[0,0], radius=10, stroke=True, opacity=1.0, weight=5, fill=True,\n",
    "            fill_color=\"#0033FF\", fill_opacity=0.2):\n",
    "    c = CircleMarker()\n",
    "    c.color = color\n",
    "    c.location = location\n",
    "    c.radius = radius\n",
    "    c.stroke = stroke\n",
    "    c.opacity = opacity\n",
    "    c.weight = weight\n",
    "    c.fill = fill\n",
    "    c.fill_color = fill_color\n",
    "    c.fill_opacity = fill_opacity\n",
    "    return c\n",
    "\n",
    "# Takes two locations located in Paris area (str, str)\n",
    "# Returns a map centered on the departure address with the plot of the fastest route\n",
    "def gps_track(departure, destination, lonlat_inputs=False):\n",
    "    if not lonlat_inputs:\n",
    "        lonlat1 = geocode(departure)\n",
    "        lonlat2 = geocode(destination)\n",
    "    else:\n",
    "        lonlat1 = departure\n",
    "        lonlat2 = destination\n",
    "    track = polyline.decode(route(lonlat1, lonlat2), geojson=True)\n",
    "    line = GeoJSON(data=LineString(track), style = {'color': 'blue', 'opacity':0.6, 'weight':5, 'fillOpacity':0.1})\n",
    "    m = Map(layers=(basemap_to_tiles(basemaps.Hydda.Full, \"2019-11-19\"),),\n",
    "            layout=defaultLayout,\n",
    "            center=(lonlat1[1], lonlat1[0]),\n",
    "            zoom=14)\n",
    "    m.add_layer(line)\n",
    "    pt_departure = cmarker(color=\"#4abd0b\", fill_color=\"#4abd0b\", location=lonlat1[::-1], radius=10, weight=2)\n",
    "    pt_destination = cmarker(color=\"#de0000\", fill_color=\"#de0000\", location=lonlat2[::-1], radius=10, weight=2)\n",
    "    m.add_layer(pt_departure)\n",
    "    m.add_layer(pt_destination)    \n",
    "    return m\n",
    "\n",
    "months = {'01': 'january', '02': 'february', '03': 'march', '04': 'april', '05': 'may', '06': 'june',\n",
    "         '07': 'july', '08': 'august', '09': 'september', '10': 'october', '11': 'november', '12': 'december'}"
   ]
  },
  {
   "cell_type": "code",
   "execution_count": 143,
   "metadata": {},
   "outputs": [],
   "source": [
    "# Takes a vehicle id of the testing dataset and plots its true and predicted itinerary\n",
    "def visualize_intervention(vid):\n",
    "    x = x_train.loc[x_train['emergency vehicle selection']==vid].iloc[0].to_dict()\n",
    "    y = y_train.loc[y_train['emergency vehicle selection']==vid].iloc[0].to_dict()\n",
    "    \n",
    "    # Getting travel information\n",
    "    date = str(x['date key sélection'])\n",
    "    time = str(x['time key sélection'])\n",
    "    time = (6-len(time))*'0'+time\n",
    "    \n",
    "    print(\"Visualization of intervention n°{VID}\".format(VID=vid))\n",
    "    print(\"{DD} {MM} {YYYY}, {HH}:{MT}:{SS}\".format(DD=date[6:], MM=months[date[4:6]].capitalize(), YYYY=date[:4],\n",
    "                                                   HH=time[:2], MT=time[2:4], SS=time[4:]))\n",
    "    print(\"--------------------------------------------------------------------------\")\n",
    "    print(\"Estimated distance :\", x['OSRM estimated distance'])\n",
    "    print(\"Estimated transit duration :\", x['OSRM estimated duration'])\n",
    "    print(\"Actual transit duration :\", y['delta departure-presentation'])\n",
    "    print(\"Actual total duration :\", y['delta selection-presentation'])\n",
    "    \n",
    "    # Retrieving tracks\n",
    "    est_track = polyline.decode(eval(x['OSRM response'])['routes'][0]['geometry'], geojson=True)\n",
    "    try:\n",
    "        true_track = list(map(lambda l: (float(l.split(',')[0]), float(l.split(',')[1])),\n",
    "                              x['GPS tracks departure-presentation'].split(';')))\n",
    "    except AttributeError:\n",
    "        true_track = []\n",
    "        print(\"--------------------------------------------------------------------------\")\n",
    "        print(\"No GPS track was recorded for this intervention\")\n",
    "    \n",
    "    dept=[x['latitude before departure'], x['longitude before departure']]\n",
    "    dest=[x['latitude intervention'], x['longitude intervention']]\n",
    "\n",
    "    # Generating layers\n",
    "    est_line = GeoJSON(data=LineString(est_track),\n",
    "                       style = {'color': 'purple', 'opacity':0.6, 'weight':5,'dashArray':7, 'fillOpacity':0.1})\n",
    "    true_line = GeoJSON(data=LineString(true_track),\n",
    "                       style = {'color': 'blue', 'opacity':0.6, 'weight':5, 'fillOpacity':0.1})\n",
    "    \n",
    "    pt_departure = cmarker(color=\"#4abd0b\", fill_color=\"#4abd0b\", location=dept, radius=10, weight=2)\n",
    "    pt_destination = cmarker(color=\"#de0000\", fill_color=\"#de0000\", location=dest, radius=10, weight=2)\n",
    "    \n",
    "    # Generating map and adding layers\n",
    "    m = Map(layers=(basemap_to_tiles(basemaps.Hydda.Full, \"2019-11-19\"),),\n",
    "                layout=defaultLayout,\n",
    "                center=dept,\n",
    "                zoom=14)\n",
    "    m.add_layer(est_line)\n",
    "    m.add_layer(true_line)\n",
    "    m.add_layer(pt_departure)\n",
    "    m.add_layer(pt_destination)  \n",
    "    \n",
    "    display(m)"
   ]
  },
  {
   "cell_type": "code",
   "execution_count": 144,
   "metadata": {},
   "outputs": [
    {
     "name": "stdout",
     "output_type": "stream",
     "text": [
      "Visualization of intervention n°4763017\n",
      "25 January 2018, 16:02:08\n",
      "--------------------------------------------------------------------------\n",
      "Estimated distance : 4525.0\n",
      "Estimated transit duration : 452.4\n",
      "Actual transit duration : 370\n",
      "Actual total duration : 500\n"
     ]
    },
    {
     "data": {
      "application/vnd.jupyter.widget-view+json": {
       "model_id": "3a136d965431441fbc89343ea6201c84",
       "version_major": 2,
       "version_minor": 0
      },
      "text/plain": [
       "Map(basemap={'url': 'https://{s}.tile.openstreetmap.org/{z}/{x}/{y}.png', 'max_zoom': 19, 'attribution': 'Map …"
      ]
     },
     "metadata": {},
     "output_type": "display_data"
    }
   ],
   "source": [
    "from random import randint\n",
    "\n",
    "# In this section, x_train and y_train are reloaded and therefore may not have the same features as before\n",
    "x_train = pd.read_csv('x_train.csv')\n",
    "y_train = pd.read_csv('y_train.csv')\n",
    "\n",
    "# Plot a random selection among x_train entries that have a recorded GPS track\n",
    "vids = x_train.loc[~pd.isna(x_train['GPS tracks departure-presentation'])]['emergency vehicle selection'].to_list()\n",
    "i = vids[randint(0, len(vids)-1)]\n",
    "\n",
    "visualize_intervention(i)"
   ]
  },
  {
   "cell_type": "markdown",
   "metadata": {},
   "source": [
    "### Another (unrelated) piece of code"
   ]
  },
  {
   "cell_type": "markdown",
   "metadata": {},
   "source": [
    "This function is not directly related to this project. Its purpose is to geocode addresses located in Quebec (Canada) to use the routing functionalities in this country. Just made for fun.\n",
    "> To use it, just replace the geocode function by the one below in $\\texttt{gps_track}$()"
   ]
  },
  {
   "cell_type": "code",
   "execution_count": null,
   "metadata": {},
   "outputs": [],
   "source": [
    "# Takes an address located in Quebec (str)\n",
    "def geocode_qc(address):\n",
    "    add = address.replace(' ','+').lower()\n",
    "    url = \"https://geocoder.ca/?locate={ADD}&json=1\".format(ADD=add)\n",
    "    response = requests.get(url)\n",
    "    return [json.loads(response.text)[\"longt\"],json.loads(response.text)[\"latt\"]]"
   ]
  }
 ],
 "metadata": {
  "kernelspec": {
   "display_name": "Python 3",
   "language": "python",
   "name": "python3"
  },
  "language_info": {
   "codemirror_mode": {
    "name": "ipython",
    "version": 3
   },
   "file_extension": ".py",
   "mimetype": "text/x-python",
   "name": "python",
   "nbconvert_exporter": "python",
   "pygments_lexer": "ipython3",
   "version": "3.6.8"
  }
 },
 "nbformat": 4,
 "nbformat_minor": 2
}
